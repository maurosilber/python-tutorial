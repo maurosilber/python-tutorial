{
 "cells": [
  {
   "attachments": {},
   "cell_type": "markdown",
   "metadata": {},
   "source": [
    "# Promedio, desviación estándar y error del promedio\n",
    "\n",
    "En esta sección,\n",
    "vamos a presentar dos medidas para resumir un conjunto de mediciones:\n",
    "\n",
    "- el **promedio**, que es una medida de *centralidad*,\n",
    "- la **desviación estándar**, que es una medida de *dispersión*.\n",
    "\n",
    "También vamos a presentar el **error del promedio**,\n",
    "y discutir cuando usarlo para reportar el resultado de nuestras mediciones."
   ]
  },
  {
   "cell_type": "code",
   "execution_count": null,
   "metadata": {
    "tags": [
     "hide-cell"
    ]
   },
   "outputs": [],
   "source": [
    "import ipywidgets\n",
    "import matplotlib.pyplot as plt\n",
    "import numpy as np\n",
    "\n",
    "np.random.seed(42)\n",
    "plt.rc(\"figure\", dpi=100, figsize=(6, 3))"
   ]
  },
  {
   "attachments": {},
   "cell_type": "markdown",
   "metadata": {},
   "source": [
    "## Generando datos aleatorios\n",
    "\n",
    "Para usar de ejemplo,\n",
    "vamos generar muchos datos con distribución normal:"
   ]
  },
  {
   "cell_type": "code",
   "execution_count": null,
   "metadata": {},
   "outputs": [],
   "source": [
    "rng = np.random.default_rng()\n",
    "data = rng.normal(loc=10, scale=1, size=100_000)"
   ]
  },
  {
   "attachments": {},
   "cell_type": "markdown",
   "metadata": {},
   "source": [
    "Podemos ver algunos de los primeros valores:"
   ]
  },
  {
   "cell_type": "code",
   "execution_count": null,
   "metadata": {},
   "outputs": [],
   "source": [
    "data[:5]"
   ]
  },
  {
   "attachments": {},
   "cell_type": "markdown",
   "metadata": {},
   "source": [
    "Pero es mejor visualizarlos gráficamente.\n",
    "\n",
    "Si hacemos un histograma,\n",
    "vemos que estos están distribuidos alrededor de un valor central:"
   ]
  },
  {
   "cell_type": "code",
   "execution_count": null,
   "metadata": {},
   "outputs": [],
   "source": [
    "plt.hist(data, bins=\"auto\")\n",
    "plt.ylabel(\"Cantidad de datos\")"
   ]
  },
  {
   "attachments": {},
   "cell_type": "markdown",
   "metadata": {},
   "source": [
    "¿Cómo podemos resumir estos datos?\n",
    "\n",
    "Una forma es dar un intervalo.\n",
    "Equivalentemente,\n",
    "dar un valor para el centro de los datos,\n",
    "un otro para la dispersión de estos."
   ]
  },
  {
   "attachments": {},
   "cell_type": "markdown",
   "metadata": {},
   "source": [
    "## Medidas de dispersión\n",
    "\n",
    "Hay muchas medidas posibles de dispersión.\n",
    "Según cuál sea la distribucion de los datos,\n",
    "algunas son más apropiadas que otras."
   ]
  },
  {
   "attachments": {},
   "cell_type": "markdown",
   "metadata": {},
   "source": [
    "### Rango\n",
    "\n",
    "El rango de los datos\n",
    "es la diferencia entre el valor máximo y el mínimo:\n",
    "\n",
    "$$ \\text{rango(x)}\n",
    "= \\max_i(x_i)\n",
    "- \\min_i(x_i)\n",
    "$$\n",
    "\n",
    "Podemos calcularla así:"
   ]
  },
  {
   "cell_type": "code",
   "execution_count": null,
   "metadata": {},
   "outputs": [],
   "source": [
    "np.max(data) - np.min(data)"
   ]
  },
  {
   "attachments": {},
   "cell_type": "markdown",
   "metadata": {},
   "source": [
    "o, con la función `np.ptp` (*peak to peak*):"
   ]
  },
  {
   "cell_type": "code",
   "execution_count": null,
   "metadata": {},
   "outputs": [],
   "source": [
    "np.ptp(data)"
   ]
  },
  {
   "attachments": {},
   "cell_type": "markdown",
   "metadata": {},
   "source": [
    "Este valor va a depender de la cantidad de datos que consideremos.\n",
    "Si solo hubiesemos hecho las primeras 3 mediciones:"
   ]
  },
  {
   "cell_type": "code",
   "execution_count": null,
   "metadata": {},
   "outputs": [],
   "source": [
    "data[:3]"
   ]
  },
  {
   "attachments": {},
   "cell_type": "markdown",
   "metadata": {},
   "source": [
    "el rango para estas mediciones es:"
   ]
  },
  {
   "cell_type": "code",
   "execution_count": null,
   "metadata": {
    "lines_to_next_cell": 2
   },
   "outputs": [],
   "source": [
    "np.ptp(data[:3])"
   ]
  },
  {
   "attachments": {},
   "cell_type": "markdown",
   "metadata": {},
   "source": [
    "Veamos que sucede con esta medida en función de la cantidad de mediciones que consideramos."
   ]
  },
  {
   "attachments": {},
   "cell_type": "markdown",
   "metadata": {},
   "source": [
    "#### En función de la cantidad de mediciones"
   ]
  },
  {
   "attachments": {},
   "cell_type": "markdown",
   "metadata": {
    "lines_to_next_cell": 2
   },
   "source": [
    "Cómo vamos a repetir este análisis más adelante,\n",
    "hagamos una función que encapsule esto:"
   ]
  },
  {
   "cell_type": "code",
   "execution_count": null,
   "metadata": {
    "tags": [
     "hide-input"
    ]
   },
   "outputs": [],
   "source": [
    "def generate_axes():\n",
    "    fig, axes = plt.subplots(nrows=1, ncols=2, sharey=True, figsize=(8, 2))\n",
    "    for ax in axes:\n",
    "        ax.set(xlabel=\"N datos\")\n",
    "        ax.grid()\n",
    "    axes[1].set(xscale=\"log\")\n",
    "    return axes\n",
    "\n",
    "\n",
    "def valor_en_funcion_de_n(data, func, *, ylabel=None, axes=None):\n",
    "    if axes is None:\n",
    "        axes = generate_axes()\n",
    "    if ylabel is None:\n",
    "        ylabel = func.__name__\n",
    "\n",
    "    n_datos = np.arange(1, data.size)\n",
    "    maxmin = [func(data[:i]) for i in n_datos]\n",
    "\n",
    "    for ax in axes:\n",
    "        ax.plot(n_datos, maxmin)\n",
    "    axes[0].set(ylabel=ylabel)"
   ]
  },
  {
   "attachments": {},
   "cell_type": "markdown",
   "metadata": {},
   "source": [
    "Entonces,\n",
    "calculamos el rango para los primeros $N$ datos,\n",
    "y gráficamos como varía este valor en función de $N$:"
   ]
  },
  {
   "cell_type": "code",
   "execution_count": null,
   "metadata": {},
   "outputs": [],
   "source": [
    "valor_en_funcion_de_n(data, func=np.ptp, ylabel=\"rango\")"
   ]
  },
  {
   "attachments": {},
   "cell_type": "markdown",
   "metadata": {},
   "source": [
    ":::{note}\n",
    "El eje $x$ del gráfico de la derecha está en escala logarítmica.\n",
    "La distancia entre $x=10$ y $x=100$ es la misma que entre $x=100$ y $x=1000$.\n",
    ":::"
   ]
  },
  {
   "attachments": {},
   "cell_type": "markdown",
   "metadata": {},
   "source": [
    "Este valor depende de la cantidad de datos que medimos,\n",
    "y sigue creciendo a medida que consideramos más mediciones.\n",
    "\n",
    "Si miramos el histograma de los datos,\n",
    "hay cada vez menos mediciones\n",
    "a medida que nos alejamos del centro.\n",
    "Es decir,\n",
    "tienen menor probabilidad de darse.\n",
    "\n",
    "Pero,\n",
    "cada tanto,\n",
    "la siguiente medición está más lejos del resto\n",
    "y es la que se considera para el rango.\n",
    "Por eso se ven saltos en la curva en función de las mediciones."
   ]
  },
  {
   "attachments": {},
   "cell_type": "markdown",
   "metadata": {},
   "source": [
    "Si repetimos esto para otros sets de datos,\n",
    "vemos que sucede lo mismo,\n",
    "pero los saltos se dan en otros lugares:"
   ]
  },
  {
   "cell_type": "code",
   "execution_count": null,
   "metadata": {},
   "outputs": [],
   "source": [
    "axes = generate_axes()\n",
    "for _ in range(10):\n",
    "    valor_en_funcion_de_n(\n",
    "        np.random.normal(loc=10, scale=1, size=10_000),\n",
    "        func=np.ptp,\n",
    "        ylabel=\"max - min\",\n",
    "        axes=axes,\n",
    "    )"
   ]
  },
  {
   "attachments": {},
   "cell_type": "markdown",
   "metadata": {},
   "source": [
    "En conclusión,\n",
    "no es una buena medida del ancho para datos con distribución gaussiana."
   ]
  },
  {
   "attachments": {},
   "cell_type": "markdown",
   "metadata": {},
   "source": [
    "### Desviación estandar\n",
    "\n",
    "La desviación estándar $s$ o $\\sigma$ es otra medida de dispersión de los datos.\n",
    "Se calcula como:\n",
    "\n",
    "$$ s = \\sqrt{\\frac{1}{N-1} \\sum_{i=1}^N (x_i - \\bar{x})^2} $$\n",
    "\n",
    "donde $\\bar{x} = \\sum_{i=1}^N x_i$ es el promedio de los datos.\n",
    "\n",
    "En Python,\n",
    "podemos calcularla así:"
   ]
  },
  {
   "cell_type": "code",
   "execution_count": null,
   "metadata": {},
   "outputs": [],
   "source": [
    "np.std(data, ddof=1)  # ddof=1 es por el N-1"
   ]
  },
  {
   "attachments": {},
   "cell_type": "markdown",
   "metadata": {},
   "source": [
    "#### ¿De donde sale?"
   ]
  },
  {
   "attachments": {},
   "cell_type": "markdown",
   "metadata": {},
   "source": [
    "Supongamos que conocemos el valor real $\\mu$ del centro de las mediciones.\n",
    "Entonces, podemos medir las distancias $d_i$ de las mediciones $\\{x_i\\}$ al valor real:\n",
    "\n",
    "$$ d_i = |x_i - \\mu| $$\n",
    "\n",
    "y calcular la dispersión como \"un promedio\" de estas distancias.\n",
    "Hay dos opciones:\n",
    "\n",
    "1. El promedio:\n",
    "\n",
    "$$ \\frac{1}{N} \\sum_i^N |x_i - \\mu| $$\n",
    "\n",
    "2. El promedio de los cuadrados:\n",
    "\n",
    "$$ V = \\frac{1}{N} \\sum_i^N |x_i - \\mu|^2 $$\n",
    "\n",
    "que se lo conoce como la **varianza**.\n",
    "Por ahora, vayamos con esta la segunda opción.\n",
    "\n",
    "Como las mediciones $\\{x_i\\}$ son conocidas,\n",
    "podemos pensar en esta expresión como una función de $\\mu$,\n",
    "que no conocemos:\n",
    "\n",
    "$$ V(\\mu) = \\frac{1}{N} \\sum_i^N |x_i - \\mu|^2 $$\n",
    "\n",
    "y preguntarnos: ¿cuál es el $\\mu$ para el que esta suma es mínima?\n",
    "\n",
    ":::{nota}\n",
    "Esta función es una cuadrática o parábola en función de $\\mu$,\n",
    "y tiene un valor mínimo.\n",
    ":::\n",
    "\n",
    "Para encontrar analíticamente este valor,\n",
    "derivamos con respecto a $\\mu$ e igualamos a 0:\n",
    "\n",
    "$$ \\frac{dV}{d\\mu}\\Bigg|_{\\mu = \\bar{x}} = 0 $$\n",
    "\n",
    "Si hacen esta cuenta,\n",
    "y despejan el $\\mu=\\bar{x}$ óptimo,\n",
    "obtienen:\n",
    "\n",
    "$$ \\bar{x} = \\frac{1}{N} \\sum_i^N x_i $$\n",
    "\n",
    "es decir, es el **promedio** de los $\\{x_i\\}$.\n",
    "\n",
    ":::{note}\n",
    "Si lo hubiesemos hecho con la suma de las distancias,\n",
    "el valor que minimiza esa suma es la **mediana**,\n",
    "que es \"el valor del medio\" si ordenamos las mediciones de menor a mayor.\n",
    "Pero no se puede llegar de la misma manera,\n",
    "ya que el módulo no es derivable.\n",
    ":::\n",
    "\n",
    "Como estamos estimando el valor real $\\mu$ con el promedio $\\bar{x}$,\n",
    "por razones estadísticas que no son muy relevantes ahora\n",
    "(ver [Corrección de Bessel](https://en.wikipedia.org/wiki/Bessel%27s_correction)),\n",
    "se utiliza $N-1$ en lugar de $N$ en el denominador para calcular la varianza:\n",
    "\n",
    "$$ V = \\frac{1}{N-1} \\sum_i^N |x_i - \\bar{x}|^2 $$\n",
    "\n",
    "Finalmente,\n",
    "como estabamos buscando una medida del ancho de las mediciones,\n",
    "y la varianza tiene unidades de $x^2$,\n",
    "tomamos la raíz,\n",
    "que se conoce como la **desviación estándar**."
   ]
  },
  {
   "attachments": {},
   "cell_type": "markdown",
   "metadata": {},
   "source": [
    "#### En función de la cantidad de mediciones"
   ]
  },
  {
   "attachments": {},
   "cell_type": "markdown",
   "metadata": {},
   "source": [
    "A diferencia del rango,\n",
    "la desviación estándar no crece indefinidamente a medida que tomtamos más mediciones:"
   ]
  },
  {
   "cell_type": "code",
   "execution_count": null,
   "metadata": {},
   "outputs": [],
   "source": [
    "valor_en_funcion_de_n(data, func=np.std, ylabel=\"Desv. estándar\")"
   ]
  },
  {
   "attachments": {},
   "cell_type": "markdown",
   "metadata": {},
   "source": [
    "Podemos repetimos esto para nuevos sets de mediciones:"
   ]
  },
  {
   "cell_type": "code",
   "execution_count": null,
   "metadata": {},
   "outputs": [],
   "source": [
    "axes = generate_axes()\n",
    "for _ in range(10):\n",
    "    valor_en_funcion_de_n(\n",
    "        np.random.normal(loc=10, scale=1, size=10_000),\n",
    "        func=np.std,\n",
    "        ylabel=\"Desv. estándar\",\n",
    "        axes=axes,\n",
    "    )"
   ]
  },
  {
   "attachments": {},
   "cell_type": "markdown",
   "metadata": {},
   "source": [
    "En todos los casos,\n",
    "la desviación estándar tiende al mismo valor:\n",
    "$\\sigma = 1$.\n",
    "\n",
    "Esto es esperable ya que,\n",
    "cuando simulamos los datos,\n",
    "estamos eligiendo ese valor para el ancho de la gaussiana.\n",
    "\n",
    "Pero la separación entre curvas es mayor\n",
    "cuando la cantidad de datos es menor:\n",
    "el *error* de la desviación estándar disminuye con la cantidad de datos."
   ]
  },
  {
   "attachments": {},
   "cell_type": "markdown",
   "metadata": {},
   "source": [
    "#### Interpretación probabilística"
   ]
  },
  {
   "attachments": {},
   "cell_type": "markdown",
   "metadata": {},
   "source": [
    "Al introducir la desviación estándar,\n",
    "estabamos buscando una medida para estimar la dispersión de las mediciones.\n",
    "Esta se comporta mejor que el rango,\n",
    "pero no cubre todas las mediciones:"
   ]
  },
  {
   "cell_type": "code",
   "execution_count": null,
   "metadata": {},
   "outputs": [],
   "source": [
    "plt.hist(data, bins=\"auto\")\n",
    "plt.axvline(np.mean(data), color=\"C1\", label=r\"$\\bar{x}$\")\n",
    "plt.axvspan(\n",
    "    np.mean(data) - np.std(data),\n",
    "    np.mean(data) + np.std(data),\n",
    "    color=\"C1\",\n",
    "    alpha=0.3,\n",
    "    label=r\"$\\bar{x} \\pm \\sigma$\",\n",
    ")\n",
    "plt.legend(fontsize=\"x-large\")"
   ]
  },
  {
   "attachments": {},
   "cell_type": "markdown",
   "metadata": {},
   "source": [
    "En general,\n",
    "la interpretación que se le da a este intervalo\n",
    "depende de la distribución de las mediciones.\n",
    "\n",
    "Para una distribución gaussiana,\n",
    "la probabilidad $P$ que una medición este entre $\\mu \\pm k \\, \\sigma$ es:\n",
    "\n",
    "| k | P |\n",
    "| - | - |\n",
    "| 1 |0.68|\n",
    "| 2 |0.95|\n",
    "| 3 |0.997|\n",
    "| 4 |0.99993|\n",
    "| 5 |0.9999994|\n",
    "\n",
    ":::{note}\n",
    "Para una versión más general de esto,\n",
    "pueden ver la [Desigualdad de Chebyshev](https://en.wikipedia.org/wiki/Chebyshev%27s_inequality).\n",
    ":::\n",
    "\n",
    "Entonces,\n",
    "para comparar mediciones,\n",
    "el intervalo $\\mu \\pm \\sigma$ no es estricto,\n",
    "a diferencia de cuando no tenemos error aleatorio.\n",
    "\n",
    "Por ejemplo,\n",
    "en física de particulas,\n",
    "a una medición no se la considera \"distinta a lo esperado\"\n",
    "hasta que no esté más lejos de $5 \\sigma$,"
   ]
  },
  {
   "attachments": {},
   "cell_type": "markdown",
   "metadata": {},
   "source": [
    "## Medidas de centralidad\n",
    "\n",
    "### El promedio y su error\n",
    "\n",
    "Al igual que las medidas de dispersión,\n",
    "hay muchas medidas de centralidad.\n",
    "Una de ellas es el promedio $\\bar{x}$:\n",
    "\n",
    "$$ \\bar{x} = \\frac{1}{N} \\sum_{i=1}^N x_i $$\n",
    "\n",
    "que es la que hace que la desviación estándar sea mínima."
   ]
  },
  {
   "attachments": {},
   "cell_type": "markdown",
   "metadata": {},
   "source": [
    "#### En función de la cantidad de mediciones\n",
    "\n",
    "Al igual que antes,\n",
    "veamos como se comprota el promedio en función de la cantidad de mediciones:"
   ]
  },
  {
   "cell_type": "code",
   "execution_count": null,
   "metadata": {},
   "outputs": [],
   "source": [
    "valor_en_funcion_de_n(data, func=np.mean, ylabel=\"Promedio\")"
   ]
  },
  {
   "cell_type": "code",
   "execution_count": null,
   "metadata": {},
   "outputs": [],
   "source": [
    "axes = generate_axes()\n",
    "for _ in range(10):\n",
    "    valor_en_funcion_de_n(\n",
    "        np.random.normal(loc=10, scale=1, size=10_000),\n",
    "        func=np.mean,\n",
    "        ylabel=\"Promedio\",\n",
    "        axes=axes,\n",
    "    )"
   ]
  },
  {
   "attachments": {},
   "cell_type": "markdown",
   "metadata": {},
   "source": [
    "En todos los casos tiende a 10,\n",
    "que es el valor de $\\mu$ que elegimos para la gaussiana.\n",
    "\n",
    "Al igual que con la desviación estándar,\n",
    "el promedio tiene un error $\\sigma_{\\bar{x}}$,\n",
    "y este es menor a medida que tomamos más mediciones.\n",
    "\n",
    "Este error lo podemos estimar como:\n",
    "\n",
    "$$ \\sigma_{\\bar{x}} = \\frac{\\sigma}{\\sqrt{N}} $$\n",
    "\n",
    "donde $\\sigma$ es la desviación estándar de las mediciones,\n",
    "y $N$ la cantidad de mediciones que promediamos."
   ]
  },
  {
   "attachments": {},
   "cell_type": "markdown",
   "metadata": {},
   "source": [
    "## ¿Qué reportamos?\n",
    "\n",
    "Supongamos que hicimos $N$ mediciones $\\{x_i\\}$,\n",
    "y que tienen una distribución (aproximadamente) gaussiana.\n",
    "\n",
    "Para calcular el centro de esta distribución,\n",
    "podemos usar el promedio.\n",
    "\n",
    "Para el *error*,\n",
    "tenemos dos medidas:\n",
    "\n",
    "1. la desviación estándar $\\sigma$,\n",
    "   que es el error al hacer una medición.\n",
    "2. el error del promedio $\\sigma / \\sqrt{N}$,\n",
    "   que es el error al hacer un promedio de $N$ mediciones.\n",
    "\n",
    "¿Cuál de estas dos opciones usamos para reportar el resultado?"
   ]
  },
  {
   "attachments": {},
   "cell_type": "markdown",
   "metadata": {},
   "source": [
    "La estadística no tiene una respuesta para esto.\n",
    "Hay que pensar en el experimento.\n",
    "\n",
    "Hay dos casos extremos.\n",
    "Si volviéramos a realizar las mediciones con un instrumento más preciso,\n",
    "podríamos:\n",
    "1. no observar una dispersión ($\\sigma$) menor\n",
    "2. observar la misma dispersión ($\\sigma$) que antes\n",
    "\n",
    "Por ejemplo,\n",
    "si usamos una cinta métrica para medir la altura de distintas personas,\n",
    "vamos a obtener valores entre 150 cm y 190 cm.\n",
    "Esa dispersión no va a cambiar por usar un instrumento más preciso.\n",
    "\n",
    "En cambio,\n",
    "si medimos la altura de una única persona,\n",
    "está magnitud está bien definida.\n",
    "Si observamos una dispersión en las mediciones,\n",
    "son por error de medición.\n",
    "Este debería disminuir si usamos un instrumento o método más preciso.\n",
    "\n",
    "En este segundo caso,\n",
    "queremos reportar el promedio con el error del promedio:\n",
    "\n",
    "$$ \\bar{x} ± \\frac{\\sigma}{\\sqrt{N}} $$\n",
    "\n",
    "que es el intervalo que podría medir otra persona\n",
    "con un método y/o instrumento más preciso.\n",
    "\n",
    "En cambio,\n",
    "en el primer caso,\n",
    "no es tan relevante saber el error del promedio.\n",
    "Si tomaramos una nueva persona para medir su altura,\n",
    "esperamos que este en:\n",
    "\n",
    "$$ \\bar{x} ± \\sigma $$\n",
    "\n",
    "sin importar que tan preciso sea nuestro instrumento.\n",
    "\n",
    ":::{note}\n",
    "En la práctica,\n",
    "podemos tener una combinación de ambos efectos.\n",
    "Por ejemplo,\n",
    "si medimos una única persona,\n",
    "esta puede cambiar la forma en que se para entre mediciones\n",
    "y, por lo tanto, \"cambiar su altura\".\n",
    ":::"
   ]
  }
 ],
 "metadata": {
  "kernelspec": {
   "display_name": "python",
   "language": "python",
   "name": "python"
  },
  "language_info": {
   "file_extension": ".py",
   "name": "python"
  }
 },
 "nbformat": 4,
 "nbformat_minor": 2
}
