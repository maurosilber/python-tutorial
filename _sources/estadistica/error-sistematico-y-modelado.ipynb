{
 "cells": [
  {
   "cell_type": "markdown",
   "metadata": {},
   "source": [
    "# Error sistemático y modelado"
   ]
  },
  {
   "cell_type": "markdown",
   "metadata": {},
   "source": [
    "Bajo la aproximación de pequeñas oscilaciones,\n",
    "el periodo de oscilación $T$ de un péndulo de largo $L$ es:\n",
    "\n",
    "$$ T = 2π \\sqrt{\\frac{L}{g}}\n",
    "$$ (periodo)\n",
    "\n",
    "donde $g$ es la aceleración de la gravedad.\n",
    "\n",
    "Si medimos el periodo $T$ para múltiples largos $L$,\n",
    "podemos obtener $g$ a partir de un ajuste por cuadrados mínimos,\n",
    "ya sea que ajustemos por la ecuación {eq}`periodo` o por su cuadrado:\n",
    "\n",
    "$$ T^2 = (2π)^2 \\, \\frac{L}{g}\n",
    "$$ (periodo^2)\n",
    "\n",
    "En la práctica,\n",
    "se suele observar que hay que agregar una constante al ajuste.\n",
    "Sin embargo,\n",
    "no es lo mismo agregar una constante en {eq}`periodo^2`\n",
    "\n",
    "$$\n",
    "L = g \\left( \\frac{T}{2π} \\right)^2 + L_0\n",
    "$$ (longitud-L0)\n",
    "\n",
    "que en {eq}`periodo`\n",
    "\n",
    "$$\n",
    "\\sqrt{L} = \\sqrt{g} \\left( \\frac{T}{2π} \\right) + B\n",
    "$$\n",
    "\n",
    "En {eq}`periodo^2`,\n",
    "se puede interpretar esta constante $L_0$ como un error sistemático en la longitud $L$.\n",
    "En cambio,\n",
    "en {eq}`periodo`,\n",
    "se podría reinterpretar $B$ como un error sistemático $T_0$ en el periodo $T$\n",
    "\n",
    "$$\n",
    "L = g \\left( \\frac{T+T_0}{2π} \\right)^2\n",
    "$$ (longitud-T0)\n",
    "\n",
    "Veamos que sucede si simulamos uno de estos casos\n",
    "y ajustamos por los modelos incorrectos."
   ]
  },
  {
   "cell_type": "code",
   "execution_count": null,
   "metadata": {
    "tags": [
     "hide-cell"
    ]
   },
   "outputs": [],
   "source": [
    "import numpy as np\n",
    "import matplotlib.pyplot as plt\n",
    "from scipy.optimize import curve_fit\n",
    "\n",
    "\n",
    "def ajustar(func, x, y, yerr=None, **kwargs):\n",
    "    \"\"\"Ajusta con curve_fit y devuelve los errores\n",
    "    en lugar de la matriz de covarianza.\"\"\"\n",
    "    p, cov = curve_fit(func, x, y, sigma=yerr, **kwargs)\n",
    "    err = np.sqrt(np.diag(cov))\n",
    "    return p, err\n",
    "\n",
    "\n",
    "def graficar_ajuste(x, y, y_pred, yerr=None, *, color=\"C0\", fig=None, axes=None):\n",
    "    \"\"\"Grafica el ajuste y los residuos.\"\"\"\n",
    "    if axes is None:\n",
    "        if fig is None:\n",
    "            fig = plt.figure()\n",
    "        axes = fig.subplots(2, sharex=True)\n",
    "\n",
    "    axes[0].errorbar(x, y, yerr, fmt=\"o\", capsize=5, color=color)\n",
    "    axes[0].plot(x, y_pred, color=color)\n",
    "    axes[1].errorbar(x, y - y_pred, yerr, fmt=\"o\", capsize=5, color=color)\n",
    "    axes[1].axhline(0, color=color)\n",
    "    return axes"
   ]
  },
  {
   "cell_type": "code",
   "execution_count": null,
   "metadata": {
    "tags": [
     "remove-cell"
    ]
   },
   "outputs": [],
   "source": [
    "np.random.seed(0)"
   ]
  },
  {
   "cell_type": "code",
   "execution_count": null,
   "metadata": {},
   "outputs": [],
   "source": [
    "g = 9800  # mm/s\n",
    "\n",
    "\n",
    "def periodo(L, g):\n",
    "    \"\"\"Periodo del péndulo en la aproximación de pequenas oscilaciones.\n",
    "\n",
    "    T = 2π √(L/g)\n",
    "    \"\"\"\n",
    "    return 2 * np.pi * np.sqrt(L / g)"
   ]
  },
  {
   "cell_type": "markdown",
   "metadata": {},
   "source": [
    "## Simulando una medición\n",
    "\n",
    "Para entender que pasa al analizar incorrectamente las mediciones,\n",
    "por ejemplo,\n",
    "cuando se ignora el efecto del error sistemático en la longitud,\n",
    "necesitamos simular **correctamente** el proceso de medición.\n",
    "\n",
    "### Hipótesis\n",
    "\n",
    "Para la simulación,\n",
    "vamos a asumir dos cosas:\n",
    "1. tenemos un error sistemático $L_0$ en la longitud $L$,\n",
    "2. el error en el periodo $T$ es despreciable frente al error en la longitud $L$.\n",
    "\n",
    "Este último punto es razonable,\n",
    "ya que podemos [medir muchos periodos](./mediciones-consecutivas) para una dada longitud,\n",
    "y reducir el error de $T$.\n",
    "En cambio,\n",
    "al medir $L$,\n",
    "estamos limitados por el error de resolución $\\Delta L$ de la cinta métrica."
   ]
  },
  {
   "cell_type": "markdown",
   "metadata": {},
   "source": [
    "### Error por resolución en la longitud $L$\n",
    "\n",
    "Al preparar el experimento,\n",
    "se arma el péndulo de una dada longitud $L_{real}$,\n",
    "que cuya medición $L_{medido}$ se determina con una dada precisión $\\Delta L$.\n",
    "Entonces,\n",
    "para simular la medición,\n",
    "vamos a generar un $L_{real} y redondearlo.\n",
    "Por ejemplo,\n",
    "\n",
    "$$\n",
    "\\begin{aligned}\n",
    "  L_{real} &= 500.325\\ldots \\text{ mm} \\\\\n",
    "L_{medido} &= 500 \\text{ mm} \\\\\n",
    "  \\Delta L &=   1 \\text{ mm}\n",
    "\\end{aligned}\n",
    "$$\n",
    "\n",
    "donde asumimos que medimos con una cinta metrica de $1 \\text{ mm}$ de resolución.\n",
    "\n",
    "Por otro lado,\n",
    "el periodo $T_{real}$ lo tenemos que calcular a partir del $L_{real}$,\n",
    "no del $L_{medido}$.\n",
    "Después de todo,\n",
    "el péndulo (o la naturaleza) sí conoce el largo real.\n",
    "Y el periodo medido $T_{medido}$,\n",
    "como asumimos que podemos hacer muy pequeño el error,\n",
    "va a ser igual al real: $T_{medido} = T_{real}$."
   ]
  },
  {
   "cell_type": "markdown",
   "metadata": {},
   "source": [
    "### Con un error sistemático $L_0$\n",
    "\n",
    "Para considerar un error sistemático $L_0$,\n",
    "se lo sumamos al $L_{real}$ antes de \"medir\" (redondear):\n",
    "\n",
    "$$\n",
    "\\begin{aligned}\n",
    "  L_{real}   &= 500.325\\ldots \\text{ mm} \\\\\n",
    "  L_0 &= 0.431\\ldots \\text{ mm} \\\\\n",
    "  L_{medido} &= 501 \\text{ mm} \\\\\n",
    "  \\Delta L   &=   1  \\text{ mm}\n",
    "\\end{aligned}\n",
    "$$\n",
    "\n",
    "Al igual que antes,\n",
    "el $T_{real}$ se calcula a partir del $L_{real}$,\n",
    "sin considerar el error sistemático ni la medición."
   ]
  },
  {
   "cell_type": "code",
   "execution_count": null,
   "metadata": {
    "tags": [
     "hide-cell"
    ]
   },
   "outputs": [],
   "source": [
    "def experimento(*, L_min=300, L_max=1000, N_largos=10, L0=0, decimales=0):\n",
    "    def medir():\n",
    "        ΔL = 10 ** (-decimales)\n",
    "        # Los valores reales\n",
    "        # Al L real, para que no sea exactamente igual al medido cuando redondeemos,\n",
    "        # y varie en las repeticiones del experimento,\n",
    "        # le agregamos una pequeña desviación, tal que sus decimales no sean 0.\n",
    "        L_real = np.linspace(L_min, L_max, N_largos)\n",
    "        L_real += np.random.uniform(-ΔL / 2, ΔL / 2, size=N_largos)\n",
    "        T_real = periodo(L_real, g=g)\n",
    "\n",
    "        # Los valores medidos:\n",
    "        # - el T medido no tiene error, así que lo dejamos igual al T real\n",
    "        # - el L medido proviene de redonear el L real + un error sistemático L0\n",
    "        T_medido = T_real\n",
    "        L_medido = np.round(L_real + L0, decimales)\n",
    "\n",
    "        # El error para L equivalente a una desviación estándar es:\n",
    "        L_err = ΔL / 12**0.5\n",
    "        L_err = np.full(N_largos, L_err)\n",
    "\n",
    "        return T_medido, L_medido, L_err, L_real\n",
    "\n",
    "    return medir"
   ]
  },
  {
   "cell_type": "markdown",
   "metadata": {},
   "source": [
    "## Efecto del error sistemático\n",
    "\n",
    "Al realizar una simulación,\n",
    "tenemos acceso a los valores reales,\n",
    "sin \"error de medición\".\n",
    "Antes de hacer ajustes,\n",
    "podemos comparar las \"mediciones\" contra los valores reales.\n",
    "Para eso,\n",
    "vamos a realizar simulaciones para diferentes parámetros,\n",
    "y gráficar tanto $L$ vs $T^2$ como $\\sqrt{L}$ vs $T$."
   ]
  },
  {
   "cell_type": "code",
   "execution_count": null,
   "metadata": {
    "tags": [
     "hide-cell"
    ]
   },
   "outputs": [],
   "source": [
    "def graficar_vs_real(medir):\n",
    "    \"\"\"Realiza una medición y realiza un gráfico con residuos,\n",
    "    tanto para T^2 vs L como T vs √L.\"\"\"\n",
    "    T, L, L_err, L_real = medir()\n",
    "\n",
    "    figs = plt.figure(figsize=(8, 3)).subfigures(ncols=3, width_ratios=[1, 0.3, 1])\n",
    "\n",
    "    # T^2 vs L\n",
    "    figs[0].suptitle(\"$L$ vs $T^2$\")\n",
    "    axes = graficar_ajuste(x=T**2, y=L, y_pred=L_real, yerr=L_err, fig=figs[0])\n",
    "    axes[0].set(ylabel=\"L [mm]\")\n",
    "    axes[1].set(ylabel=\"Residuos [mm]\", xlabel=\"T² [s²]\")\n",
    "\n",
    "    # T vs L^1/2\n",
    "    figs[2].suptitle(r\"$\\sqrt{L}$ vs $T$\")\n",
    "    axes = graficar_ajuste(\n",
    "        x=T, y=L**0.5, y_pred=L_real**0.5, yerr=L_err / 2 / L**0.5, fig=figs[2]\n",
    "    )\n",
    "    axes[0].set(ylabel=r\"$\\sqrt{L}$ [√mm]\")\n",
    "    axes[1].set(ylabel=\"Residuos [√mm]\", xlabel=\"T [s]\")\n",
    "\n",
    "    for fig in figs:\n",
    "        fig.align_ylabels()"
   ]
  },
  {
   "cell_type": "markdown",
   "metadata": {},
   "source": [
    "### Sin error sistemático\n",
    "\n",
    "Si no tenemos error sistemático,\n",
    "en ambos gráficos se observa una relación lineal,\n",
    "y los residuos se distribuyen aleatoriamente alrededor del 0."
   ]
  },
  {
   "cell_type": "code",
   "execution_count": null,
   "metadata": {},
   "outputs": [],
   "source": [
    "graficar_vs_real(experimento(L_min=50, N_largos=30, L0=0))"
   ]
  },
  {
   "cell_type": "markdown",
   "metadata": {},
   "source": [
    "### Error sistemático en la longitud\n",
    "\n",
    "Si simulamos un error sistemático pequeño,\n",
    "$L_0 = 1 \\text{ mm}$,\n",
    "vemos que la estructura en los residuos es diferente en cada caso.\n",
    "\n",
    "Para $L$ vs $T^2$,\n",
    "podemos se distribuyen aleatoriamente alrededor de $1$,\n",
    "correspondiendo al error sistemático añadido.\n",
    "Esto se podría corregir agregando una constante,\n",
    "como en {eq}`longitud-L0`.\n",
    "\n",
    "En cambio,\n",
    "para $\\sqrt{L}$ vs $T$,\n",
    "los residuos no se distribuyen aleatoriamente alrededor de un número.\n",
    "Por lo que no se podría corregir añadiendo una constante,\n",
    "como en {eq}`longitud-T0`."
   ]
  },
  {
   "cell_type": "code",
   "execution_count": null,
   "metadata": {},
   "outputs": [],
   "source": [
    "graficar_vs_real(experimento(L_min=50, N_largos=30, L0=1))"
   ]
  },
  {
   "cell_type": "markdown",
   "metadata": {},
   "source": [
    "### Rango de longitudes medidas\n",
    "\n",
    "Con el mismo $L_0$ que en caso anterior,\n",
    "pero cambiando el rango de longitudes medidas,\n",
    "no observamos una diferencia en la estructura de los residuos en ambos casos.\n",
    "A priori,\n",
    "ambos podrían ajustarse con los modelos {eq}`longitud-L0` y {eq}`longitud-T0`,\n",
    "a pesar de que este último es incorrecto."
   ]
  },
  {
   "cell_type": "code",
   "execution_count": null,
   "metadata": {},
   "outputs": [],
   "source": [
    "graficar_vs_real(experimento(L_min=500, N_largos=30, L0=1))"
   ]
  },
  {
   "cell_type": "markdown",
   "metadata": {},
   "source": [
    "### Aumentando la precisión en $L$\n",
    "\n",
    "Si aumentamos la precisión de medición de $L$,\n",
    "pasando de un $\\Delta L = 1 \\text{ mm}$ a $\\Delta L = 0.1 \\text{ mm}$,\n",
    "volvemos a distinguir entre ambos casos."
   ]
  },
  {
   "cell_type": "code",
   "execution_count": null,
   "metadata": {},
   "outputs": [],
   "source": [
    "graficar_vs_real(experimento(L_min=500, N_largos=30, L0=1, decimales=1))"
   ]
  },
  {
   "cell_type": "markdown",
   "metadata": {},
   "source": [
    "## Ajustes y el $g$ estimado\n",
    "\n",
    "Realicemos simulaciones para diferentes parámetros experimentales\n",
    "y observemos que sucede con la estimación de $g$.\n",
    "\n",
    "Definamos 3 funciones para ajustar,\n",
    "correspondientes a las ecuaciones {eq}`periodo`, {eq}`longitud-L0` y {eq}`longitud-T0`."
   ]
  },
  {
   "cell_type": "code",
   "execution_count": null,
   "metadata": {},
   "outputs": [],
   "source": [
    "def sin_constante(T, g):\n",
    "    Tp = T / (2 * np.pi)\n",
    "    return g * Tp**2\n",
    "\n",
    "\n",
    "def sistematico_longitud(T, g, L_0):\n",
    "    Tp = T / (2 * np.pi)\n",
    "    return g * Tp**2 + L_0\n",
    "\n",
    "\n",
    "def sistematico_periodo(T, g, T_0):\n",
    "    Tp = T / (2 * np.pi)\n",
    "    return g * (Tp + T_0) ** 2"
   ]
  },
  {
   "cell_type": "markdown",
   "metadata": {},
   "source": [
    "En lo siguiente,\n",
    "simularemos una medición y ajustaremos las 3 funciones,\n",
    "gráficando el ajuste y los residuos.\n",
    "Además,\n",
    "repetiremos estre proceso $N=1000$ veces,\n",
    "graficaremos histogramas de la estimación de $g$\n",
    "para cada uno de estos modelos."
   ]
  },
  {
   "cell_type": "code",
   "execution_count": null,
   "metadata": {
    "tags": [
     "hide-cell"
    ]
   },
   "outputs": [],
   "source": [
    "def repetir_experimentos(medir, N_experimentos=1000):\n",
    "    def create_plot_axes(fig):\n",
    "        ax_plot, *ax_residuos = fig.subplots(4, sharex=True)\n",
    "        ax_plot.set(ylabel=\"Longitud [mm]\")\n",
    "        for ax in ax_residuos:\n",
    "            ax.set(ylabel=\"Residuos [mm]\")\n",
    "        ax.set(xlabel=\"Periodo [s]\")\n",
    "        fig.align_ylabels()\n",
    "        return ax_plot, ax_residuos\n",
    "\n",
    "    def create_hist_axes(fig):\n",
    "        _, fig = fig.subfigures(2, height_ratios=[1, 4])\n",
    "        ax = fig.subplots()\n",
    "        ax.set(xlabel=\"Ac. de la gravedad [mm/s]\")\n",
    "        return ax\n",
    "\n",
    "    def ajustar_y_graficar(func, T, L, L_err, *, color, ax_plot, ax_residuos):\n",
    "        p, err = ajustar(func, T, L, L_err)\n",
    "        L_pred = func(T, *p)\n",
    "\n",
    "        ax_plot.plot(T, L_pred, color=color, linestyle=\"--\")\n",
    "        ax_residuos.errorbar(T, L - L_pred, L_err, fmt=\"o\", capsize=5, color=color)\n",
    "        ax_residuos.axhline(0, color=color)\n",
    "\n",
    "    figs = plt.figure(figsize=(8, 6)).subfigures(ncols=2)\n",
    "    ax_plot, ax_residuos = create_plot_axes(figs[0])\n",
    "    ax_hist = create_hist_axes(figs[1])\n",
    "\n",
    "    labels = (\"Sin constante\", \"Longitud $L_0$\", \"Tiempo $T_0$\")\n",
    "    funcs = (sin_constante, sistematico_longitud, sistematico_periodo)\n",
    "    colors = (\"C0\", \"C1\", \"C2\")\n",
    "\n",
    "    T, L, L_err, _ = medir()\n",
    "    ax_plot.errorbar(T, L, L_err, fmt=\"o\", capsize=5, color=\"black\")\n",
    "    for ax, func, color in zip(ax_residuos, funcs, colors):\n",
    "        ajustar_y_graficar(\n",
    "            func,\n",
    "            T,\n",
    "            L,\n",
    "            L_err,\n",
    "            color=color,\n",
    "            ax_plot=ax_plot,\n",
    "            ax_residuos=ax,\n",
    "        )\n",
    "\n",
    "    def analisis_multiple():\n",
    "        T, L, L_err, _ = medir()\n",
    "        p0, _ = ajustar(sin_constante, T, L, L_err)\n",
    "        p1, _ = ajustar(sistematico_longitud, T, L, L_err)\n",
    "        p2, _ = ajustar(sistematico_periodo, T, L, L_err)\n",
    "        return p0[0], p1[0], p2[0]\n",
    "\n",
    "    p = np.array([analisis_multiple() for _ in range(N_experimentos)])\n",
    "\n",
    "    ax_hist.axvline(g, color=\"black\", label=\"Valor real\")\n",
    "    for label, pi in zip(labels, p.T):\n",
    "        ax_hist.hist(pi, bins=\"auto\", histtype=\"step\", label=label)\n",
    "    ax_hist.legend(loc=\"lower left\", bbox_to_anchor=(0, 1))"
   ]
  },
  {
   "cell_type": "markdown",
   "metadata": {},
   "source": [
    "### Sin error sistemático\n",
    "\n",
    "Al no tener error sistemático,\n",
    "los tres modelos ajustan bien a las mediciones,\n",
    "a juzgar por los gráficos de los residuos.\n",
    "Con respecto a los histogramas de $g$,\n",
    "en los tres casos se encuentran centrados alrededor del valor real.\n",
    "Sin embargo,\n",
    "hay una mayor variación en los valores obtenidos\n",
    "para los modelos con constante."
   ]
  },
  {
   "cell_type": "code",
   "execution_count": null,
   "metadata": {},
   "outputs": [],
   "source": [
    "repetir_experimentos(experimento(L_min=100, L0=0, N_largos=30))"
   ]
  },
  {
   "cell_type": "markdown",
   "metadata": {},
   "source": [
    "### Error sistemático grande\n",
    "\n",
    "Si tenemos un error sistemático \"grande\",\n",
    "$L_0 = 5 \\text{ mm}$,\n",
    "vemos que solo el ajuste que incluye un $L_0$ tiene residuos sin estructura.\n",
    "En los histogramas de $g$,\n",
    "vemos que los valores obtenidos en las sucesivas repeticiones\n",
    "están centrados en el valor real\n",
    "para dicho modelo.\n",
    "En cambio,\n",
    "para el modelo sin constante,\n",
    "o el que modela un error sistemático en el periodo,\n",
    "los histogramas se encuentran corridos.\n",
    "En ninguna iteración,\n",
    "sus valores coincidieron con el valor real."
   ]
  },
  {
   "cell_type": "code",
   "execution_count": null,
   "metadata": {},
   "outputs": [],
   "source": [
    "repetir_experimentos(experimento(L_min=100, L0=5, N_largos=30))"
   ]
  },
  {
   "cell_type": "markdown",
   "metadata": {},
   "source": [
    "### Rango de longitudes medidas\n",
    "\n",
    "Si achicamos el rango de longitudes medidas,\n",
    "alejándonos de $L=0$,\n",
    "el modelo que incluye un error sistemático en $T_0$\n",
    "también ajustaría bien,\n",
    "a juzgar por el gráfico de residuos.\n",
    "Sin embargo,\n",
    "según el histograma,\n",
    "vemos que tiene un sesgo en la estimación de $g$:\n",
    "siempre estima un valor menor."
   ]
  },
  {
   "cell_type": "code",
   "execution_count": null,
   "metadata": {},
   "outputs": [],
   "source": [
    "repetir_experimentos(experimento(L_min=500, L0=5, N_largos=30))"
   ]
  },
  {
   "cell_type": "markdown",
   "metadata": {},
   "source": [
    "### Error sistemático pequeño\n",
    "\n",
    "Consideramos un error sistemático pequeño,\n",
    "$L_0 = 0.1 \\text{ mm}$,\n",
    "$10$ veces menor que la resolución $\\Delta L = 1 \\text{ mm}$ de medición.\n",
    "\n",
    "Si medimos para pocas longitudes,\n",
    "$N=10$,\n",
    "se observa un ligero sesgo en el ajuste sin constante,\n",
    "pero no muy significativo."
   ]
  },
  {
   "cell_type": "code",
   "execution_count": null,
   "metadata": {},
   "outputs": [],
   "source": [
    "repetir_experimentos(experimento(L_min=300, L0=0.1, N_largos=10))"
   ]
  },
  {
   "cell_type": "markdown",
   "metadata": {},
   "source": [
    "En cambio,\n",
    "si medimos para más longitudes,\n",
    "$N=100$,\n",
    "el sesgo se incrementa en los modelos incorrectos.\n",
    "En particular,\n",
    "para el modelo sin constante\n",
    "siempre se obtuvo valores de $g$ superiores al real."
   ]
  },
  {
   "cell_type": "code",
   "execution_count": null,
   "metadata": {},
   "outputs": [],
   "source": [
    "repetir_experimentos(experimento(L_min=300, L0=0.1, N_largos=100))"
   ]
  }
 ],
 "metadata": {
  "kernelspec": {
   "display_name": "python",
   "language": "python",
   "name": "python"
  },
  "language_info": {
   "file_extension": ".py",
   "name": "python"
  }
 },
 "nbformat": 4,
 "nbformat_minor": 2
}
