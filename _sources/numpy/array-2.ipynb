{
 "cells": [
  {
   "cell_type": "markdown",
   "metadata": {},
   "source": [
    "# Array (parte 2)"
   ]
  },
  {
   "cell_type": "code",
   "execution_count": null,
   "metadata": {},
   "outputs": [],
   "source": [
    "import numpy as np\n",
    "import matplotlib.pyplot as plt\n",
    "\n",
    "plt.rc(\"figure\", dpi=100)  # aumenta la resolución de las figuras"
   ]
  },
  {
   "cell_type": "markdown",
   "metadata": {},
   "source": [
    "## Cargando un archivo\n",
    "\n",
    "Hay muchos formatos para guardar datos en archivos.\n",
    "El más simple es guardarlos en un archivo de texto.\n",
    "\n",
    "En este caso,\n",
    "tenemos preparado un archivo de ejemplo\n",
    "que pueden descargar de [aqui](https://github.com/maurosilber/python-tutorial/blob/main/book/numpy/datos.txt).\n",
    "\n",
    "Si están corriendo este notebook en Google Colab,\n",
    "pueden descargar el archivo de ejemplo\n",
    "corriendo la siguiente linea en una celda de código:\n",
    "\n",
    "```python\n",
    "!wget https://github.com/maurosilber/python-tutorial/blob/main/book/numpy/datos.txt\n",
    "```\n",
    "\n",
    "También,\n",
    "pueden descargarlo manualmente,\n",
    "y subirlo a Google Colab.\n",
    "\n",
    "Si abren el archivo `datos.txt` en un editor de texto,\n",
    "como el bloc de notas o notepad,\n",
    "pueden ver que es un archivo de texto\n",
    "con un número en cada línea:\n",
    "\n",
    "```\n",
    "10.50\n",
    "9.86\n",
    "10.65\n",
    "...\n",
    "```\n",
    "\n",
    "Para cargarlo a un array de NumPy,\n",
    "podemos usar la función `np.loadtxt`,\n",
    "a la que le tenemos que pasar el nombre o ubicación del archivo:"
   ]
  },
  {
   "cell_type": "code",
   "execution_count": null,
   "metadata": {},
   "outputs": [],
   "source": [
    "datos = np.loadtxt(\"datos.txt\")\n",
    "\n",
    "datos"
   ]
  },
  {
   "cell_type": "markdown",
   "metadata": {},
   "source": [
    "Si tienen problemas al cargar el archivo,\n",
    "puede deberse a que no se encuentre en la misma carpeta en la que están ejecutando el notebook."
   ]
  },
  {
   "cell_type": "markdown",
   "metadata": {},
   "source": [
    "### Números con coma decimal\n",
    "\n",
    "Un problema típico es que\n",
    "los programas de adquisición de datos\n",
    "hayan guardado los números con coma,\n",
    "en lugar de punto,\n",
    "como separador decimal.\n",
    "\n",
    "En ese caso,\n",
    "necesitan definir una función\n",
    "para convertir los números con coma,\n",
    "y pasársela a `np.loadtxt` en el parámetro `converters`:\n",
    "\n",
    "```python\n",
    "def comma_to_float(x):\n",
    "    x = x.decode().replace(\",\", \".\")\n",
    "    return float(x)\n",
    "\n",
    "\n",
    "np.loadtxt(\"datos.txt\", converters=comma_to_float)\n",
    "```"
   ]
  },
  {
   "cell_type": "markdown",
   "metadata": {},
   "source": [
    "### Comentarios o títulos\n",
    "\n",
    "Otro problema sucede cuando en la(s) primera(s) línea(s) del archivo no hay números,\n",
    "sino texto con comentarios o títulos sobre los datos.\n",
    "Podemos decirle que se saltee la primera linea con:\n",
    "\n",
    "```python\n",
    "np.loadtxt(\"datos.txt\", skiprows=1)\n",
    "```"
   ]
  },
  {
   "cell_type": "markdown",
   "metadata": {},
   "source": [
    "Si lo llegaran a necesitar,\n",
    "pueden ver más opciones para `np.loadtxt` en la [documentación](https://numpy.org/doc/stable/reference/generated/numpy.loadtxt.html)."
   ]
  },
  {
   "cell_type": "markdown",
   "metadata": {},
   "source": [
    "## Visualizando datos\n",
    "\n",
    "Lo primero y más importante que hay que hacer\n",
    "al trabajar con datos\n",
    "es visualizarlos.\n",
    "\n",
    "Una forma es usar la función `plt.plot`,\n",
    "que usamos en la sección anterior:"
   ]
  },
  {
   "cell_type": "code",
   "execution_count": null,
   "metadata": {},
   "outputs": [],
   "source": [
    "plt.plot(datos, marker=\"o\")"
   ]
  },
  {
   "cell_type": "markdown",
   "metadata": {},
   "source": [
    "Cuando solo le pasamos un array a `plt.plot`,\n",
    "lo usa para los valores en `y`,\n",
    "mientras que para `x` usa la posición (o índice) de cada valor.\n",
    "\n",
    "Es decir,\n",
    "`x = np.arange(len(y))`.\n",
    "\n",
    "Otra forma de visualizarlos\n",
    "es hacer un histograma:"
   ]
  },
  {
   "cell_type": "code",
   "execution_count": null,
   "metadata": {},
   "outputs": [],
   "source": [
    "plt.hist(datos, bins=\"auto\")\n",
    "\n",
    "plt.ylabel(\"Cantidad de datos\")"
   ]
  },
  {
   "cell_type": "markdown",
   "metadata": {},
   "source": [
    "Un histograma se construye\n",
    "dividiendo el rango de los datos en \"canastas\",\n",
    "o `bins`,\n",
    "y contando cuantos datos caen en cada canasta.\n",
    "\n",
    "En el histograma anterior,\n",
    "dejamos que la cantidad y ancho de los *bins*\n",
    "se elijan automáticamente,\n",
    "pero se pueden especificar manualmente.\n",
    "\n",
    "A diferencia del gráfico de linea,\n",
    "en el histograma\n",
    "se puede entender mejor la distribución de los datos.\n",
    "Hay una mayor cantidad de datos alrededor de ~10,\n",
    "y disminuye su cantidad a medida que nos alejamos.\n",
    "\n",
    "En ambos gráficos,\n",
    "podemos notar que hay un valor,\n",
    "alrededor de `15`,\n",
    "que se aleja significativamente del resto.\n",
    "Veamos como podemos hacer para descartarlo*.\n",
    "\n",
    "(*no vamos a discutir acá si está bien o no descartarlo)"
   ]
  },
  {
   "cell_type": "markdown",
   "metadata": {},
   "source": [
    "## Indexing y slicing\n",
    "\n",
    "Los *arrays* de NumPy permiten seleccionar un subconjunto de elementos de diversas maneras.\n",
    "\n",
    "Para el siguiente array:"
   ]
  },
  {
   "cell_type": "code",
   "execution_count": null,
   "metadata": {},
   "outputs": [],
   "source": [
    "x = np.array([10, 20, 5, 7, 8])"
   ]
  },
  {
   "cell_type": "markdown",
   "metadata": {},
   "source": [
    "podemos seleccionar un elemento particular por su índice,\n",
    "por ejemplo,\n",
    "el tercer elemento como:"
   ]
  },
  {
   "cell_type": "code",
   "execution_count": null,
   "metadata": {},
   "outputs": [],
   "source": [
    "x[2]"
   ]
  },
  {
   "cell_type": "markdown",
   "metadata": {},
   "source": [
    "(recuerden que el primer elemento es el `0`).\n",
    "\n",
    "Si queremos acceder al último elemento,\n",
    "necesitamos saber el largo del array.\n",
    "Podemos usar la función `len`,\n",
    "y restarle `1`:"
   ]
  },
  {
   "cell_type": "code",
   "execution_count": null,
   "metadata": {},
   "outputs": [],
   "source": [
    "x[len(x) - 1]"
   ]
  },
  {
   "cell_type": "markdown",
   "metadata": {},
   "source": [
    "Python nos permite ahorrarnos el `len(x)`\n",
    "y directamente poner `-1`:"
   ]
  },
  {
   "cell_type": "code",
   "execution_count": null,
   "metadata": {},
   "outputs": [],
   "source": [
    "x[-1]"
   ]
  },
  {
   "cell_type": "markdown",
   "metadata": {},
   "source": [
    "\n",
    "Para seleccionar un rango (o *slice*) de elementos,\n",
    "usamos:"
   ]
  },
  {
   "cell_type": "code",
   "execution_count": null,
   "metadata": {},
   "outputs": [],
   "source": [
    "x[1:3]"
   ]
  },
  {
   "cell_type": "markdown",
   "metadata": {},
   "source": [
    "donde la sintaxis es `x[start:stop]`,\n",
    "incluyendo `start` y excluyendo `stop`,\n",
    "al igual que la función `range`.\n",
    "\n",
    "Otras variantes de *slicing* son:\n",
    "- especificar el paso con `x[start:stop:step]`,\n",
    "- omitir `start`, `x[:stop]`, donde el valor por defecto es `0`,\n",
    "- omitir `stop`, `x[start:]`, donde el valor por defecto es \"hasta el final\".\n",
    "\n",
    "Por ejemplo,\n",
    "para seleccionar los dos primeros elementos:"
   ]
  },
  {
   "cell_type": "code",
   "execution_count": null,
   "metadata": {},
   "outputs": [],
   "source": [
    "x[:2]"
   ]
  },
  {
   "cell_type": "markdown",
   "metadata": {},
   "source": [
    "Todo esto también es válido para las listas,\n",
    "pero lo siguiente no."
   ]
  },
  {
   "cell_type": "markdown",
   "metadata": {},
   "source": [
    "### Advanced indexing\n",
    "\n",
    "NumPy permite indexar los arrays de otras maneras,\n",
    "que no son válidas para la lista.\n",
    "\n",
    "Una de ellas es\n",
    "pasarle una lista con los índices de los valores que queremos:"
   ]
  },
  {
   "cell_type": "code",
   "execution_count": null,
   "metadata": {},
   "outputs": [],
   "source": [
    "x[[0, 1, 3]]"
   ]
  },
  {
   "cell_type": "markdown",
   "metadata": {},
   "source": [
    "Otra es pasarle un array\n",
    "de valores *booleanos*,\n",
    "es decir,\n",
    "`True` o `False`.\n",
    "\n",
    "Si este array tiene\n",
    "`True` en la posición `i`-ésima,\n",
    "es que queremos quedarnos con el valor en la posición `i`-ésima,\n",
    "y `False`, que no lo queremos.\n",
    "\n",
    "Para generar este array,\n",
    "podemos usar operadores de comparación:"
   ]
  },
  {
   "cell_type": "code",
   "execution_count": null,
   "metadata": {},
   "outputs": [],
   "source": [
    "x > 7"
   ]
  },
  {
   "cell_type": "markdown",
   "metadata": {},
   "source": [
    "Recuerden que `x` era:"
   ]
  },
  {
   "cell_type": "code",
   "execution_count": null,
   "metadata": {},
   "outputs": [],
   "source": [
    "x"
   ]
  },
  {
   "cell_type": "markdown",
   "metadata": {},
   "source": [
    "Entonces,\n",
    "podemos usar ese array para quedarnos con los valores mayores a `7`:"
   ]
  },
  {
   "cell_type": "code",
   "execution_count": null,
   "metadata": {},
   "outputs": [],
   "source": [
    "x[x > 7]"
   ]
  },
  {
   "cell_type": "markdown",
   "metadata": {},
   "source": [
    "Si queremos obtener los índices donde se cumple la condición,\n",
    "podemos usar la función `np.nonzero`:"
   ]
  },
  {
   "cell_type": "code",
   "execution_count": null,
   "metadata": {},
   "outputs": [],
   "source": [
    "np.nonzero(x > 7)"
   ]
  },
  {
   "cell_type": "markdown",
   "metadata": {},
   "source": [
    "### Ejercicio 1\n",
    "\n",
    "Filtrar los datos para descartar el dato cuyo valor es ~15,\n",
    "y rehacer el histograma para los datos filtrados."
   ]
  },
  {
   "cell_type": "code",
   "execution_count": null,
   "metadata": {},
   "outputs": [],
   "source": [
    "# Escriba aquí su solución"
   ]
  },
  {
   "cell_type": "markdown",
   "metadata": {
    "id": "solution_0"
   },
   "source": [
    "#### Solución"
   ]
  },
  {
   "cell_type": "code",
   "execution_count": null,
   "metadata": {
    "tags": [
     "hide-cell"
    ]
   },
   "outputs": [],
   "source": [
    "datos_filtrados = datos[datos < 14]\n",
    "\n",
    "plt.hist(datos_filtrados, bins=\"auto\")"
   ]
  },
  {
   "cell_type": "markdown",
   "metadata": {},
   "source": [
    "## Reducción\n",
    "\n",
    "De esta parte sobre los arrays de NumPy,\n",
    "nos queda aprender las operaciones de reducción.\n",
    "\n",
    "Hasta ahora,\n",
    "habíamos visto las operaciones elemento a elemento y de *broadcasting*.\n",
    "\n",
    "En la primera,\n",
    "a partir de dos arrays iguales,\n",
    "se generaba un tercero del mismo tamaño.\n",
    "\n",
    "En la de *broadcasting*,\n",
    "al combinar un número con un array,\n",
    "el número se \"estiraba\" al tamaño del array,\n",
    "y se combinaba elemento a elemento.\n",
    "\n",
    "En las operaciones de reducción,\n",
    "partimos de un array\n",
    "y lo reducimos a un número.\n",
    "\n",
    "Por ejemplo,\n",
    "para este array:"
   ]
  },
  {
   "cell_type": "code",
   "execution_count": null,
   "metadata": {},
   "outputs": [],
   "source": [
    "x = np.array([1, 2, 4, 3])"
   ]
  },
  {
   "cell_type": "markdown",
   "metadata": {},
   "source": [
    "podemos usar la función `np.sum`\n",
    "para calcular la suma:"
   ]
  },
  {
   "cell_type": "code",
   "execution_count": null,
   "metadata": {},
   "outputs": [],
   "source": [
    "np.sum(x)"
   ]
  },
  {
   "cell_type": "markdown",
   "metadata": {},
   "source": [
    "o `np.max` para calcular el máximo:"
   ]
  },
  {
   "cell_type": "code",
   "execution_count": null,
   "metadata": {},
   "outputs": [],
   "source": [
    "np.max(x)"
   ]
  },
  {
   "cell_type": "markdown",
   "metadata": {},
   "source": [
    "o `np.argmax` para encontrar la posición del máximo:"
   ]
  },
  {
   "cell_type": "code",
   "execution_count": null,
   "metadata": {},
   "outputs": [],
   "source": [
    "np.argmax(x)"
   ]
  },
  {
   "cell_type": "markdown",
   "metadata": {},
   "source": [
    "y muchas otras que pueden buscar en la [documentación](https://numpy.org/doc/stable/reference/routines.html).\n",
    "\n",
    "```{note}\n",
    "Puede parecer innecesario que haya un término específico,\n",
    "*reducción*,\n",
    "para operaciones como calcular la suma o el máximo.\n",
    "Pero va a tener sentido cuando veamos arrays en 2 o más dimensiones.\n",
    "```"
   ]
  },
  {
   "cell_type": "markdown",
   "metadata": {},
   "source": [
    "### Ejercicio 2\n",
    "\n",
    "Para el array de datos filtrados,\n",
    "calcular la cantidad de datos,\n",
    "su promedio $\\bar{x}$,\n",
    "y su desviación estándar $\\hat{\\sigma}$.\n",
    "\n",
    "La fórmula para estos últimos es:\n",
    "\n",
    "$$\n",
    "\\begin{align}\n",
    "\\bar{x}\n",
    "&= \\frac{x_1 + \\ldots + x_n}{n}\n",
    "&&= \\frac{1}{n} \\sum_{i=1}^n x_i\n",
    "\\\\\n",
    "\\\\\n",
    "\\hat{\\sigma}\n",
    "&= \\sqrt{\\frac{(x_1 - \\bar{x})^2 + \\ldots + (x_n - \\bar{x})^2}{n}}\n",
    "&&= \\sqrt{\\frac{1}{n} \\sum_{i=1}^n (x_i - \\bar{x})^2}\n",
    "\\end{align}\n",
    "$$\n",
    "\n",
    "*Ayuda:* usar las funciones `np.size`, `np.sum`.\n",
    "Para restar el promedio a todos los números,\n",
    "rever la sección, *broadcasting*."
   ]
  },
  {
   "cell_type": "code",
   "execution_count": null,
   "metadata": {},
   "outputs": [],
   "source": [
    "# Escriba aquí su código"
   ]
  },
  {
   "cell_type": "markdown",
   "metadata": {
    "id": "solution_1"
   },
   "source": [
    "#### Solución"
   ]
  },
  {
   "cell_type": "code",
   "execution_count": null,
   "metadata": {
    "tags": [
     "hide-cell"
    ]
   },
   "outputs": [],
   "source": [
    "x = datos_filtrados\n",
    "\n",
    "total = np.size(x)\n",
    "promedio = np.sum(x) / total\n",
    "varianza = np.sum((x - promedio) ** 2) / total\n",
    "desv_estandar = varianza**0.5\n",
    "\n",
    "total, promedio, desv_estandar"
   ]
  },
  {
   "cell_type": "markdown",
   "metadata": {},
   "source": [
    "Si necesitáramos calcular constantemente la desviación estándar de los datos,\n",
    "nos convendría definir una función que encapsule esas operaciones.\n",
    "\n",
    "Pero esas funciones ya están definidas en NumPy:"
   ]
  },
  {
   "cell_type": "code",
   "execution_count": null,
   "metadata": {},
   "outputs": [],
   "source": [
    "np.size(x), np.mean(x), np.std(x)"
   ]
  },
  {
   "cell_type": "markdown",
   "metadata": {},
   "source": [
    "- `mean` es media o promedio en inglés,\n",
    "- `std` viene de *standard deviation*, desviación estándar en inglés."
   ]
  }
 ],
 "metadata": {
  "colab": {
   "collapsed_sections": [
    "solution_0",
    "solution_1"
   ]
  },
  "kernelspec": {
   "display_name": "python",
   "language": "python",
   "name": "python"
  },
  "language_info": {
   "file_extension": ".py",
   "name": "python"
  }
 },
 "nbformat": 4,
 "nbformat_minor": 2
}
