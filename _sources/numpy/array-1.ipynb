{
 "cells": [
  {
   "cell_type": "markdown",
   "metadata": {},
   "source": [
    "# Array (parte 1)"
   ]
  },
  {
   "cell_type": "markdown",
   "metadata": {},
   "source": [
    "## Motivación: graficar funciones\n",
    "\n",
    "Para graficar una función $y = f(x)$\n",
    "en un dado rango de $x$,\n",
    "tenemos que:\n",
    "\n",
    "1. elegir algunos valores $x_i$ en ese rango,\n",
    "2. calcular $y_i = f(x_i)$,\n",
    "3. graficar los puntos $(x_i, y_i)$ y unirlos con lineas.\n",
    "\n",
    "Para el primer punto,\n",
    "podríamos guardar los $x_i$ en una lista:"
   ]
  },
  {
   "cell_type": "code",
   "execution_count": null,
   "metadata": {},
   "outputs": [],
   "source": [
    "x = [0, 1, 2, 3]"
   ]
  },
  {
   "cell_type": "markdown",
   "metadata": {},
   "source": [
    "Para el segundo punto,\n",
    "podríamos recorrer dicha lista,\n",
    "aplicar la función a cada valor,\n",
    "y guardar el resultado en otra lista.\n",
    "\n",
    "Por ejemplo,\n",
    "para $f(x) = x^2$:"
   ]
  },
  {
   "cell_type": "code",
   "execution_count": null,
   "metadata": {},
   "outputs": [],
   "source": [
    "y = []\n",
    "for xi in x:\n",
    "    yi = xi**2\n",
    "    y.append(yi)\n",
    "\n",
    "y"
   ]
  },
  {
   "cell_type": "markdown",
   "metadata": {},
   "source": [
    "Pero,\n",
    "se puede hacer de una manera mucho más simple (y rápida)\n",
    "utilizando un *array* de NumPy."
   ]
  },
  {
   "cell_type": "markdown",
   "metadata": {},
   "source": [
    "## Importando paquetes y módulos\n",
    "\n",
    "Para poder reutilizar valores,\n",
    "los asignamos en variables.\n",
    "\n",
    "Para poder reutilizar bloques de código,\n",
    "definimos funciones,\n",
    "que nos permiten volver a correrlos\n",
    "cambiando algunas variables (parámetros).\n",
    "\n",
    "Para poder reutilizar funciones,\n",
    "hay que crear módulos,\n",
    "que nos permiten \"importar\" variables y funciones,\n",
    "y reutilizarlas en diferentes proyectos.\n",
    "\n",
    "Hasta ahora,\n",
    "estuvimos usando funciones,\n",
    "como `print` y `len`,\n",
    "que vienen \"pre-importadas\" en Python.\n",
    "\n",
    "Python incluye varios módulos,\n",
    "donde hay funcionalidad extra\n",
    "que nos puede ser útil.\n",
    "\n",
    "Por ejemplo,\n",
    "el módulo `math`,\n",
    "que podemos importar así:"
   ]
  },
  {
   "cell_type": "code",
   "execution_count": null,
   "metadata": {},
   "outputs": [],
   "source": [
    "import math"
   ]
  },
  {
   "cell_type": "markdown",
   "metadata": {},
   "source": [
    "Ahora,\n",
    "tenemos una variable `math`\n",
    "que contiene el módulo `math`:"
   ]
  },
  {
   "cell_type": "code",
   "execution_count": null,
   "metadata": {},
   "outputs": [],
   "source": [
    "math"
   ]
  },
  {
   "cell_type": "markdown",
   "metadata": {},
   "source": [
    "Para acceder a las variables y funciones dentro de `math`,\n",
    "hay que agregar `math.` antes.\n",
    "\n",
    "Por ejemplo,\n",
    "la constante $\\pi$\n",
    "está definida dentro de `math`:"
   ]
  },
  {
   "cell_type": "code",
   "execution_count": null,
   "metadata": {},
   "outputs": [],
   "source": [
    "math.pi"
   ]
  },
  {
   "cell_type": "markdown",
   "metadata": {},
   "source": [
    "y la función coseno:"
   ]
  },
  {
   "cell_type": "code",
   "execution_count": null,
   "metadata": {},
   "outputs": [],
   "source": [
    "math.cos(0)"
   ]
  },
  {
   "cell_type": "markdown",
   "metadata": {},
   "source": [
    "Hay otros módulos que no vienen pre-incluidos en Python,\n",
    "y hay que instalarlos aparte.\n",
    "\n",
    "Los que vamos a usar,\n",
    "`numpy` y `matplotlib`,\n",
    "ya vienen pre-instalados en Google Colab."
   ]
  },
  {
   "cell_type": "code",
   "execution_count": null,
   "metadata": {},
   "outputs": [],
   "source": [
    "import numpy as np\n",
    "import matplotlib.pyplot as plt"
   ]
  },
  {
   "cell_type": "markdown",
   "metadata": {},
   "source": [
    "Como el nombre del módulo es muy largo,\n",
    "se le puede asignar un alias con el `as`.\n",
    "\n",
    "La convención es llamar `np` a `numpy`\n",
    "y `plt` a `matplotlib.pyplot`.\n",
    "\n",
    "Entonces,\n",
    "en la variable `plt`\n",
    "está el (sub)módulo `pyplot` de `matplotlib`:"
   ]
  },
  {
   "cell_type": "code",
   "execution_count": null,
   "metadata": {},
   "outputs": [],
   "source": [
    "plt"
   ]
  },
  {
   "cell_type": "markdown",
   "metadata": {},
   "source": [
    "que nos permitirá realizar gráficos."
   ]
  },
  {
   "cell_type": "markdown",
   "metadata": {},
   "source": [
    "Al igual que el módulo `math`,\n",
    "NumPy también define la constante $\\pi$:"
   ]
  },
  {
   "cell_type": "code",
   "execution_count": null,
   "metadata": {},
   "outputs": [],
   "source": [
    "np.pi"
   ]
  },
  {
   "cell_type": "markdown",
   "metadata": {},
   "source": [
    "y la función coseno:"
   ]
  },
  {
   "cell_type": "code",
   "execution_count": null,
   "metadata": {},
   "outputs": [],
   "source": [
    "np.cos(0)"
   ]
  },
  {
   "cell_type": "markdown",
   "metadata": {},
   "source": [
    "¿Por que vamos a usar NumPy en lugar del módulo `math`?\n",
    "\n",
    "Porque,\n",
    "como veremos más adelante,\n",
    "las funciones de NumPy\n",
    "nos permiten operar sobre *array*s."
   ]
  },
  {
   "cell_type": "markdown",
   "metadata": {},
   "source": [
    "## Creación de arrays"
   ]
  },
  {
   "cell_type": "markdown",
   "metadata": {},
   "source": [
    "Para crear un array,\n",
    "le podemos pasar una lista a la función `np.array`:"
   ]
  },
  {
   "cell_type": "code",
   "execution_count": null,
   "metadata": {},
   "outputs": [],
   "source": [
    "x = [2, 3, 5]\n",
    "x = np.array(x)\n",
    "\n",
    "x"
   ]
  },
  {
   "cell_type": "markdown",
   "metadata": {},
   "source": [
    "También hay diversas funciones que permiten crear arrays comúnmente utilizados.\n",
    "\n",
    "Por ejemplo,\n",
    "un array de $n$ ceros:"
   ]
  },
  {
   "cell_type": "code",
   "execution_count": null,
   "metadata": {},
   "outputs": [],
   "source": [
    "np.zeros(5)"
   ]
  },
  {
   "cell_type": "markdown",
   "metadata": {},
   "source": [
    "o funciones para crear rangos de números,\n",
    "como:\n",
    "1. `arange(start, stop, step)`\n",
    "2. `linspace(start, stop, num)`\n",
    "\n",
    "La primera es análoga a `range(start, stop, step)`,\n",
    "que crea números desde `start`,\n",
    "hasta (pero sin incluir) `stop`,\n",
    "separados por un paso `step`:"
   ]
  },
  {
   "cell_type": "code",
   "execution_count": null,
   "metadata": {},
   "outputs": [],
   "source": [
    "np.arange(0, 10, 2)"
   ]
  },
  {
   "cell_type": "markdown",
   "metadata": {},
   "source": [
    "La segunda nos permite especificar la cantidad de números,\n",
    "`num`,\n",
    "en lugar del paso entre números:"
   ]
  },
  {
   "cell_type": "code",
   "execution_count": null,
   "metadata": {},
   "outputs": [],
   "source": [
    "np.linspace(0, 10, 5)"
   ]
  },
  {
   "cell_type": "markdown",
   "metadata": {},
   "source": [
    "y los genera equiespaciados entre `start` y `stop`.\n",
    "\n",
    "Es decir,\n",
    "genera un paso `step = (stop - start) / num`."
   ]
  },
  {
   "cell_type": "markdown",
   "metadata": {},
   "source": [
    "### Ejercicio 1\n",
    "\n",
    "Crear un array de 9 números equiespaciados en el intervalo $[-1, 1]$."
   ]
  },
  {
   "cell_type": "code",
   "execution_count": null,
   "metadata": {},
   "outputs": [],
   "source": [
    "# Escriba su solución aquí"
   ]
  },
  {
   "cell_type": "markdown",
   "metadata": {
    "id": "solution_0"
   },
   "source": [
    "#### Solución"
   ]
  },
  {
   "cell_type": "code",
   "execution_count": null,
   "metadata": {
    "tags": [
     "hide-cell"
    ]
   },
   "outputs": [],
   "source": [
    "np.linspace(-1, 1, 9)"
   ]
  },
  {
   "cell_type": "markdown",
   "metadata": {},
   "source": [
    "## Accediendo a y modificando elementos"
   ]
  },
  {
   "cell_type": "markdown",
   "metadata": {},
   "source": [
    "El array es similar a la lista,\n",
    "y comparten ciertos comportamientos."
   ]
  },
  {
   "cell_type": "code",
   "execution_count": null,
   "metadata": {},
   "outputs": [],
   "source": [
    "x = np.array([2, 3, 5])\n",
    "\n",
    "x"
   ]
  },
  {
   "cell_type": "markdown",
   "metadata": {},
   "source": [
    "Al igual que una lista,\n",
    "se puede acceder al primer elemento como:"
   ]
  },
  {
   "cell_type": "code",
   "execution_count": null,
   "metadata": {},
   "outputs": [],
   "source": [
    "x[0]"
   ]
  },
  {
   "cell_type": "markdown",
   "metadata": {},
   "source": [
    "O reasignar el segundo elemento:"
   ]
  },
  {
   "cell_type": "code",
   "execution_count": null,
   "metadata": {},
   "outputs": [],
   "source": [
    "x[1] = 7\n",
    "\n",
    "x"
   ]
  },
  {
   "cell_type": "markdown",
   "metadata": {},
   "source": [
    "Pero,\n",
    "a diferencia de la lista,\n",
    "no se puede cambiar la cantidad de elementos,\n",
    "ya sea borrando:"
   ]
  },
  {
   "cell_type": "code",
   "execution_count": null,
   "metadata": {},
   "outputs": [],
   "source": [
    "del x[0]"
   ]
  },
  {
   "cell_type": "markdown",
   "metadata": {},
   "source": [
    "o agregando nuevos elementos al final:"
   ]
  },
  {
   "cell_type": "code",
   "execution_count": null,
   "metadata": {},
   "outputs": [],
   "source": [
    "x.append(7)"
   ]
  },
  {
   "cell_type": "markdown",
   "metadata": {},
   "source": [
    "Entonces,\n",
    "¿qué tiene de bueno el `array`?"
   ]
  },
  {
   "cell_type": "markdown",
   "metadata": {},
   "source": [
    "## Operaciones elemento a elemento y broadcasting\n",
    "\n",
    "El *array* de NumPy nos permite\n",
    "hacer operaciones aritméticas entre elementos\n",
    "sin tener que recorrer el *array* con un *for-loop*.\n",
    "\n",
    "Por ejemplo,\n",
    "si tenemos dos arrays `x` e `y`:"
   ]
  },
  {
   "cell_type": "code",
   "execution_count": null,
   "metadata": {},
   "outputs": [],
   "source": [
    "x = np.array([1, 2, 3])\n",
    "y = np.array([10, 20, 30])"
   ]
  },
  {
   "cell_type": "markdown",
   "metadata": {},
   "source": [
    "podemos calcular la suma\n",
    "elemento a elemento,\n",
    "`x[i] + y[i]`,\n",
    "como:"
   ]
  },
  {
   "cell_type": "code",
   "execution_count": null,
   "metadata": {},
   "outputs": [],
   "source": [
    "x + y"
   ]
  },
  {
   "cell_type": "markdown",
   "metadata": {},
   "source": [
    "Para el caso de la suma,\n",
    "es igual a la suma vectorial,\n",
    "si piensan los arrays como vectores.\n",
    "\n",
    "Pero también funciona con otras operaciones,\n",
    "que no están definidas para vectores:"
   ]
  },
  {
   "cell_type": "code",
   "execution_count": null,
   "metadata": {},
   "outputs": [],
   "source": [
    "x * y"
   ]
  },
  {
   "cell_type": "markdown",
   "metadata": {},
   "source": [
    "Si los arrays tienen diferente tamaño,\n",
    "nos arroja un error:"
   ]
  },
  {
   "cell_type": "code",
   "execution_count": null,
   "metadata": {},
   "outputs": [],
   "source": [
    "np.array([1, 2, 3]) + np.array([1, 2])"
   ]
  },
  {
   "cell_type": "markdown",
   "metadata": {},
   "source": [
    "Pero, ¿qué sucede si queremos sumarle un número a `x`?"
   ]
  },
  {
   "cell_type": "code",
   "execution_count": null,
   "metadata": {},
   "outputs": [],
   "source": [
    "x + 1"
   ]
  },
  {
   "cell_type": "markdown",
   "metadata": {},
   "source": [
    "A esto le llama [*broadcasting*](https://numpy.org/doc/stable/user/basics.broadcasting.html),\n",
    "que consiste en \"estirar\" el `1`\n",
    "hasta que tenga el mismo largo que `x`,\n",
    "y realizar la suma elemento a elemento.\n",
    "\n",
    "Funciona para todas las operaciones aritméticas,\n",
    "y permite escribir el código de manera más simple,\n",
    "como si estuviésemos trabajando con un solo número."
   ]
  },
  {
   "cell_type": "code",
   "execution_count": null,
   "metadata": {},
   "outputs": [],
   "source": [
    "2 * x"
   ]
  },
  {
   "cell_type": "code",
   "execution_count": null,
   "metadata": {},
   "outputs": [],
   "source": [
    "x**2"
   ]
  },
  {
   "cell_type": "markdown",
   "metadata": {},
   "source": [
    "NumPy también define ciertas funciones matemáticas que saben operar sobre arrays,\n",
    "es decir,\n",
    "elemento a elemento:"
   ]
  },
  {
   "cell_type": "code",
   "execution_count": null,
   "metadata": {},
   "outputs": [],
   "source": [
    "np.exp(x)"
   ]
  },
  {
   "cell_type": "markdown",
   "metadata": {},
   "source": [
    "Por ejemplo,\n",
    "si definimos un array de ángulos (en radianes),\n",
    "podemos calcular el seno de cada ángulo como:"
   ]
  },
  {
   "cell_type": "code",
   "execution_count": null,
   "metadata": {},
   "outputs": [],
   "source": [
    "angulos = np.pi * np.array([0, 1 / 4, 1 / 2])\n",
    "\n",
    "np.sin(angulos)"
   ]
  },
  {
   "cell_type": "markdown",
   "metadata": {},
   "source": [
    "En cambio,\n",
    "si queremos usar la función seno del módulo `math`:"
   ]
  },
  {
   "cell_type": "code",
   "execution_count": null,
   "metadata": {},
   "outputs": [],
   "source": [
    "math.sin(angulos)"
   ]
  },
  {
   "cell_type": "markdown",
   "metadata": {},
   "source": [
    "Si quieren ver que funciones define NumPy,\n",
    "pueden leer la [documentación](https://numpy.org/doc/stable/reference/routines.math.html)."
   ]
  },
  {
   "cell_type": "markdown",
   "metadata": {},
   "source": [
    "### Ejercicio 2\n",
    "\n",
    "Generar un array con los 10 primeros números enteros,\n",
    "$k \\in \\{0, 1, \\ldots\\}$,\n",
    "y calcular:\n",
    "- sus cuadrados: $k^2$\n",
    "- las potencias de $2$: $2^k$."
   ]
  },
  {
   "cell_type": "code",
   "execution_count": null,
   "metadata": {},
   "outputs": [],
   "source": [
    "# Escriba aquí su solución"
   ]
  },
  {
   "cell_type": "markdown",
   "metadata": {
    "id": "solution_1"
   },
   "source": [
    "#### Solución"
   ]
  },
  {
   "cell_type": "code",
   "execution_count": null,
   "metadata": {
    "tags": [
     "hide-cell"
    ]
   },
   "outputs": [],
   "source": [
    "x = np.arange(10)\n",
    "\n",
    "x**2, 2**x"
   ]
  },
  {
   "cell_type": "markdown",
   "metadata": {},
   "source": [
    "## Graficando funciones\n",
    "\n",
    "Recordemos:\n",
    "\n",
    "> Para graficar una función $y = f(x)$\n",
    "en un dado rango de $x$,\n",
    "tenemos que:\n",
    "> 1. elegir algunos valores $x_i$ en ese rango,\n",
    "> 2. calcular $y_i = f(x_i)$,\n",
    "> 3. graficar los puntos $(x_i, y_i)$ y unirlos con lineas.\n",
    "\n",
    "Con estas herramientas,\n",
    "podemos graficar funciones muy fácilmente.\n",
    "\n",
    "Para el primer punto,\n",
    "podemos usar la función `np.linspace`.\n",
    "\n",
    "Para el segundo punto,\n",
    "aprovechamos las operaciones elemento a elemento y *broadcasting* de NumPy.\n",
    "\n",
    "Para el tercer punto,\n",
    "vamos a usar la función `plot` de `matplotlib.pyplot`\n",
    "(que importamos como `plt`).\n",
    "\n",
    "Por ejemplo,\n",
    "grafiquemos una función cuadrática:"
   ]
  },
  {
   "cell_type": "code",
   "execution_count": null,
   "metadata": {},
   "outputs": [],
   "source": [
    "x = np.linspace(-1, 1, 100)\n",
    "y = x**2\n",
    "\n",
    "plt.plot(x, y)"
   ]
  },
  {
   "cell_type": "markdown",
   "metadata": {},
   "source": [
    "Al graficar,\n",
    "`matplotlib` grafica puntos en las posiciones `(x[i], y[i])`\n",
    "y los une con lineas.\n",
    "\n",
    "Esto es más claro si usamos una menor cantidad de puntos:"
   ]
  },
  {
   "cell_type": "code",
   "execution_count": null,
   "metadata": {},
   "outputs": [],
   "source": [
    "x = np.linspace(-1, 1, 5)\n",
    "y = x**2\n",
    "\n",
    "plt.plot(x, y)"
   ]
  },
  {
   "cell_type": "markdown",
   "metadata": {},
   "source": [
    "También,\n",
    "podemos agregar la opción `marker`\n",
    "para que dibuje los puntos:"
   ]
  },
  {
   "cell_type": "code",
   "execution_count": null,
   "metadata": {},
   "outputs": [],
   "source": [
    "plt.plot(x, y, marker=\"o\")"
   ]
  },
  {
   "cell_type": "markdown",
   "metadata": {},
   "source": [
    "En este caso,\n",
    "elegimos `o` como *marker*,\n",
    "pero hay más variantes para elegir,\n",
    "que pueden consultar en la [documentación](https://matplotlib.org/stable/api/markers_api.html)."
   ]
  },
  {
   "cell_type": "markdown",
   "metadata": {},
   "source": [
    "### Ejercicio 3\n",
    "\n",
    "Graficar el polinomio $f(x) = 2x^2 - 5x + 2$\n",
    "en el rango $-3 \\leq x \\leq 1$."
   ]
  },
  {
   "cell_type": "code",
   "execution_count": null,
   "metadata": {},
   "outputs": [],
   "source": [
    "# Escriba aquí su solución"
   ]
  },
  {
   "cell_type": "markdown",
   "metadata": {
    "id": "solution_2"
   },
   "source": [
    "#### Solución"
   ]
  },
  {
   "cell_type": "code",
   "execution_count": null,
   "metadata": {
    "tags": [
     "hide-cell"
    ]
   },
   "outputs": [],
   "source": [
    "x = np.linspace(-3, 1, 50)\n",
    "y = 2 * x**2 + 5 * x + 2\n",
    "\n",
    "plt.plot(x, y)"
   ]
  },
  {
   "cell_type": "markdown",
   "metadata": {},
   "source": [
    "## Graficando múltiples lineas\n",
    "\n",
    "Para graficar múltiples lineas,\n",
    "se puede llamar múltiples veces a la función `plt.plot`.\n",
    "\n",
    "Por ejemplo,"
   ]
  },
  {
   "cell_type": "code",
   "execution_count": null,
   "metadata": {},
   "outputs": [],
   "source": [
    "x = np.linspace(-1, 1, 100)\n",
    "\n",
    "plt.plot(x, x)\n",
    "plt.plot(x, x**2)\n",
    "plt.plot(x, x**3)"
   ]
  },
  {
   "cell_type": "markdown",
   "metadata": {},
   "source": [
    "Si le damos un nombre a cada línea\n",
    "con el parámetro `label`,\n",
    "y podemos usar la función `plt.legend`\n",
    "para que nos muestre la leyenda:"
   ]
  },
  {
   "cell_type": "code",
   "execution_count": null,
   "metadata": {},
   "outputs": [],
   "source": [
    "x = np.linspace(-1, 1, 100)\n",
    "\n",
    "plt.plot(x, x, label=\"x\")\n",
    "plt.plot(x, x**2, label=\"x^2\")\n",
    "plt.plot(x, x**3, label=\"$x^3$\")\n",
    "\n",
    "plt.legend(title=\"Función\")"
   ]
  },
  {
   "cell_type": "markdown",
   "metadata": {},
   "source": [
    "### Ejercicio 4\n",
    "\n",
    "Para el rango $x \\in [-\\pi, \\pi]$,\n",
    "graficar la sumatoria:\n",
    "\n",
    "$$ f(x) = \\frac{1}{4 \\pi} \\sum_{k \\in N \\text{ impar}} \\frac{\\sin(k x)}{k} $$\n",
    "\n",
    "donde la suma es sobre los números naturales impares.\n",
    "Es decir,\n",
    "$k \\in \\{1, 3, 5, \\ldots\\}$.\n",
    "\n",
    "Equivalentemente,\n",
    "se puede escribir como:\n",
    "\n",
    "$$ f(x) = \\frac{1}{4 \\pi} \\sum_{k=0}^n \\frac{\\sin\\Big((2k+1) \\; x\\Big)}{(2k+1)} $$\n",
    "\n",
    "para $k \\in \\{0, 1, 2, \\ldots\\}$.\n",
    "\n",
    "Cortar la sumatoria en diferente cantidad de términos. Por ejemplo, $n \\in \\{1, 2, 3, 10, 100\\}$."
   ]
  },
  {
   "cell_type": "code",
   "execution_count": null,
   "metadata": {},
   "outputs": [],
   "source": [
    "# Escriba aquí su solución"
   ]
  },
  {
   "cell_type": "markdown",
   "metadata": {
    "id": "solution_3"
   },
   "source": [
    "#### Solución"
   ]
  },
  {
   "cell_type": "code",
   "execution_count": null,
   "metadata": {
    "tags": [
     "hide-cell"
    ]
   },
   "outputs": [],
   "source": [
    "def onda_cuadrada(x, n_terminos):\n",
    "    y = 0\n",
    "    for k in range(1, 2 * n_terminos + 1, 2):\n",
    "        y = y + np.sin(k * x) / k\n",
    "    y = y / (np.pi / 4)\n",
    "    return y\n",
    "\n",
    "\n",
    "x = np.linspace(-np.pi, np.pi, 1000)\n",
    "\n",
    "for n_terminos in (1, 2, 3, 10, 100):\n",
    "    plt.plot(x, onda_cuadrada(x, n_terminos=n_terminos), label=n_terminos)\n",
    "\n",
    "plt.legend(title=\"N términos\")"
   ]
  }
 ],
 "metadata": {
  "colab": {
   "collapsed_sections": [
    "solution_0",
    "solution_1",
    "solution_2",
    "solution_3"
   ]
  },
  "kernelspec": {
   "display_name": "python",
   "language": "python",
   "name": "python"
  },
  "language_info": {
   "file_extension": ".py",
   "name": "python"
  }
 },
 "nbformat": 4,
 "nbformat_minor": 2
}
