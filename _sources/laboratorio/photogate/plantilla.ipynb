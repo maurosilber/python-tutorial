{
 "cells": [
  {
   "attachments": {},
   "cell_type": "markdown",
   "metadata": {},
   "source": [
    "# Plantilla para análisis del photogate\n",
    "\n",
    "En este notebook,\n",
    "dejamos una plantilla para analizar datos tomados con\n",
    "el fotosensor o *photogate*,\n",
    "y digitalizados por el MotionDAQ.\n",
    "\n",
    "Si se va a medir para muchas condiciones experimentales,\n",
    "es recomendable nombrar a los archivos con el nombre de la condición experimental.\n",
    "Por ejemplo, `101.5cm.txt`, si se midió a una longitud de 101.5 cm.\n",
    "\n",
    "En la sección [Paso a paso](./paso_a_paso),\n",
    "mostramos que hace cada linea de código con un ejemplo.\n",
    "\n",
    "Acá,\n",
    "directamente importamos los paquetes\n",
    "y definimos funciones que encapsulan las distintas etapas del análisis de datos.\n",
    "De todas maneras,\n",
    "muchas lineas están comendatas."
   ]
  },
  {
   "cell_type": "code",
   "execution_count": null,
   "metadata": {},
   "outputs": [],
   "source": [
    "from pathlib import Path\n",
    "\n",
    "import numpy as np\n",
    "import matplotlib.pyplot as plt\n",
    "import pandas as pd\n",
    "\n",
    "\n",
    "def extrar_longitud(nombre: Path):\n",
    "    \"\"\"Extrae el valor de la longitud del nombre del archivo.\"\"\"\n",
    "    longitud = nombre.stem  # nombre del archivo sin extension\n",
    "    longitud = longitud.removesuffix(\"cm\")  # borra \"cm\" del final del nombre\n",
    "    longitud = float(longitud)  # lo convierte a un número\n",
    "    return longitud\n",
    "\n",
    "\n",
    "def cargar_archivo_de_motionDAQ(nombre: Path):\n",
    "    \"\"\"Carga el archivo y devuelve un array de numpy,\n",
    "    donde la primer columna corresponde al tiempo,\n",
    "    y las demás al voltaje en cada canal.\n",
    "\n",
    "    Para obtener un array con todas las columnas:\n",
    "    >>> datos = cargar_archivo_de_motionDAQ(\"archivo1.txt\")\n",
    "\n",
    "    Si se sabe la cantidad de columnas,\n",
    "    se pueden obtener por separado como:\n",
    "    >>> col1, col2 = cargar_archivo_de_motionDAQ(\"archivo1.txt\")\n",
    "    \"\"\"\n",
    "    # Vamos a usar pandas para leer el archivo.\n",
    "    # pandas añade ciertas cosas utiles sobre numpy,\n",
    "    # pero no nos interesa ahora.\n",
    "    data = pd.read_csv(\n",
    "        nombre,\n",
    "        skiprows=4,  # ignora las 4 primeras filas del archivo\n",
    "        delimiter=\"\\t\",  # las columnas estan separadas por \"tab\"\n",
    "        decimal=\",\",  # separador decimal de los números (en el archivo de texto)\n",
    "        header=None,  # las columnas no tienen \"titulo\"\n",
    "    )\n",
    "    # extraemos el array de numpy subyacente (.values)\n",
    "    # y lo transponemos (.T)\n",
    "    return data.values.T\n",
    "\n",
    "\n",
    "def encontrar_tiempos_de_saltos(tiempo, voltaje, *, umbral=2):\n",
    "    \"\"\"Encuentra los tiempos donde se produce un cambio de voltaje mayor al umbral.\"\"\"\n",
    "    diferencia_de_voltaje = np.diff(voltaje)\n",
    "    saltos = np.abs(diferencia_de_voltaje) > umbral\n",
    "    indices = np.nonzero(saltos)\n",
    "    return tiempo[indices]\n",
    "\n",
    "\n",
    "def calcular_periodos(tiempos, *, paso=4):\n",
    "    \"\"\"Calcula los periodos como diferencias de tiempos.\n",
    "\n",
    "    Nota: el paso depende del experimento.\n",
    "    En el caso de periodos del péndulo,\n",
    "    el salto en voltaje correspondiente es uno cada 4.\n",
    "    \"\"\"\n",
    "    periodos = tiempos[paso:] - tiempos[:-paso]\n",
    "    return periodos"
   ]
  },
  {
   "attachments": {},
   "cell_type": "markdown",
   "metadata": {},
   "source": [
    "## Buscando los archivos"
   ]
  },
  {
   "attachments": {},
   "cell_type": "markdown",
   "metadata": {},
   "source": [
    "Buscamos todos los archivos que terminan con `.txt` en la carpeta actual."
   ]
  },
  {
   "cell_type": "code",
   "execution_count": null,
   "metadata": {},
   "outputs": [],
   "source": [
    "carpeta = Path()  # carpeta actual\n",
    "archivos = list(carpeta.glob(\"*.txt\"))  # lista de archivos que terminan con .txt\n",
    "\n",
    "len(archivos)  # cuantos archivos encontró"
   ]
  },
  {
   "attachments": {},
   "cell_type": "markdown",
   "metadata": {},
   "source": [
    "## Analizando un archivo"
   ]
  },
  {
   "attachments": {},
   "cell_type": "markdown",
   "metadata": {},
   "source": [
    "### Graficar datos crudos\n",
    "\n",
    "Cargamos el primer archivo,\n",
    "y graficamos la señal:"
   ]
  },
  {
   "cell_type": "code",
   "execution_count": null,
   "metadata": {},
   "outputs": [],
   "source": [
    "archivo = archivos[0]  # el primer archivo\n",
    "t, v = cargar_archivo_de_motionDAQ(archivo)\n",
    "\n",
    "plt.figure(figsize=(6, 2))\n",
    "plt.xlabel(\"Tiempo [s]\")\n",
    "plt.ylabel(\"Voltaje [V]\")\n",
    "plt.plot(t, v)"
   ]
  },
  {
   "attachments": {},
   "cell_type": "markdown",
   "metadata": {},
   "source": [
    "Es importante revisar los archivos,\n",
    "para asegurarse que no haya habido problemas al medir."
   ]
  },
  {
   "attachments": {},
   "cell_type": "markdown",
   "metadata": {},
   "source": [
    "### Cambio de voltaje\n",
    "\n",
    "Vemos que tiempos encuentra en la señal:"
   ]
  },
  {
   "cell_type": "code",
   "execution_count": null,
   "metadata": {},
   "outputs": [],
   "source": [
    "archivo = archivos[0]  # el primer archivo\n",
    "t, v = cargar_archivo_de_motionDAQ(archivo)\n",
    "tiempos = encontrar_tiempos_de_saltos(t, v)\n",
    "\n",
    "\n",
    "plt.figure(figsize=(6, 2))\n",
    "plt.xlabel(\"Tiempo [s]\")\n",
    "plt.ylabel(\"Voltaje [V]\")\n",
    "plt.plot(t, v, \".--\")\n",
    "plt.vlines(tiempos, 0, 5, color=\"C1\")  # lineas verticales"
   ]
  },
  {
   "attachments": {},
   "cell_type": "markdown",
   "metadata": {},
   "source": [
    "Si hacemos zoom a uno de los saltos:"
   ]
  },
  {
   "cell_type": "code",
   "execution_count": null,
   "metadata": {},
   "outputs": [],
   "source": [
    "plt.figure(figsize=(6, 2))\n",
    "plt.xlabel(\"Tiempo [s]\")\n",
    "plt.ylabel(\"Voltaje [V]\")\n",
    "plt.plot(t, v, \"o--\")\n",
    "plt.vlines(tiempos, 0, 5, color=\"C1\")  # lineas verticales\n",
    "plt.xlim(0.1, 0.2)  # zoom en el eje x"
   ]
  },
  {
   "attachments": {},
   "cell_type": "markdown",
   "metadata": {},
   "source": [
    "### Periodos\n",
    "\n",
    "Veamos que periodos calcula para la señal:"
   ]
  },
  {
   "cell_type": "code",
   "execution_count": null,
   "metadata": {},
   "outputs": [],
   "source": [
    "archivo = archivos[0]  # el primer archivo\n",
    "t, v = cargar_archivo_de_motionDAQ(archivo)\n",
    "tiempos = encontrar_tiempos_de_saltos(t, v)\n",
    "periodos = calcular_periodos(tiempos)\n",
    "\n",
    "\n",
    "plt.figure(figsize=(6, 2))\n",
    "plt.xlabel(\"Número de periodo\")\n",
    "plt.ylabel(\"Periodo [s]\")\n",
    "plt.plot(periodos, \"o\")"
   ]
  },
  {
   "attachments": {},
   "cell_type": "markdown",
   "metadata": {},
   "source": [
    "Para estos datos,\n",
    "es razonable calcular un periodo promedio.\n",
    "\n",
    ":::{note}\n",
    "Hay [mejores formas de utilizar estos datos](../../estadistica/mediciones-consecutivas),\n",
    "pero probablemente exceda lo explicado\n",
    "cuando se realiza este experimento por primera vez.\n",
    ":::"
   ]
  },
  {
   "cell_type": "code",
   "execution_count": null,
   "metadata": {},
   "outputs": [],
   "source": [
    "np.mean(periodos)"
   ]
  },
  {
   "attachments": {},
   "cell_type": "markdown",
   "metadata": {},
   "source": [
    "¿Qué error le asignaría a este promedio?"
   ]
  },
  {
   "attachments": {},
   "cell_type": "markdown",
   "metadata": {},
   "source": [
    "## Analizando muchos archivos"
   ]
  },
  {
   "attachments": {},
   "cell_type": "markdown",
   "metadata": {},
   "source": [
    "Como nombramos cada archivo con la condición experimental:"
   ]
  },
  {
   "cell_type": "code",
   "execution_count": null,
   "metadata": {},
   "outputs": [],
   "source": [
    "archivos[0]  # el primer archivo"
   ]
  },
  {
   "cell_type": "markdown",
   "metadata": {},
   "source": [
    "podemos extraerla de ahí:"
   ]
  },
  {
   "cell_type": "code",
   "execution_count": null,
   "metadata": {},
   "outputs": [],
   "source": [
    "extrar_longitud(archivos[0])"
   ]
  },
  {
   "attachments": {},
   "cell_type": "markdown",
   "metadata": {},
   "source": [
    "Esto nos facilita mucho al querer analizar muchas mediciones.\n",
    "\n",
    "Por ejemplo,\n",
    "si resumimos los periodos en un promedio,\n",
    "podemos hacer una función que nos devuelva\n",
    "el periodo promedio y la longitud correspondiente."
   ]
  },
  {
   "cell_type": "code",
   "execution_count": null,
   "metadata": {},
   "outputs": [],
   "source": [
    "def analisis(archivo):\n",
    "    t, v = cargar_archivo_de_motionDAQ(archivo)\n",
    "    tiempos = encontrar_tiempos_de_saltos(t, v)\n",
    "    periodos = calcular_periodos(tiempos)\n",
    "    periodo_promedio = np.mean(periodos)\n",
    "    longitud = extrar_longitud(archivo)\n",
    "    return longitud, periodo_promedio\n",
    "\n",
    "\n",
    "analisis(archivos[0])"
   ]
  },
  {
   "attachments": {},
   "cell_type": "markdown",
   "metadata": {},
   "source": [
    "Y repetir esto para todos los archivos:"
   ]
  },
  {
   "cell_type": "code",
   "execution_count": null,
   "metadata": {},
   "outputs": [],
   "source": [
    "longitudes = []\n",
    "periodos = []\n",
    "for archivo in archivos:\n",
    "    L, T = analisis(archivo)\n",
    "    longitudes.append(L)\n",
    "    periodos.append(T)\n",
    "longitudes = np.array(longitudes)\n",
    "periodos = np.array(periodos)"
   ]
  },
  {
   "cell_type": "code",
   "execution_count": null,
   "metadata": {},
   "outputs": [],
   "source": [
    "longitudes"
   ]
  },
  {
   "cell_type": "code",
   "execution_count": null,
   "metadata": {},
   "outputs": [],
   "source": [
    "periodos"
   ]
  },
  {
   "attachments": {},
   "cell_type": "markdown",
   "metadata": {},
   "source": [
    "Y graficar como varia el periodo con la longitud:"
   ]
  },
  {
   "cell_type": "code",
   "execution_count": null,
   "metadata": {},
   "outputs": [],
   "source": [
    "plt.figure(figsize=(6, 2))\n",
    "plt.xlabel(\"Longitud [cm]\")\n",
    "plt.ylabel(\"Periodo [s]\")\n",
    "plt.plot(longitudes, periodos, \"o--\")"
   ]
  },
  {
   "attachments": {},
   "cell_type": "markdown",
   "metadata": {},
   "source": [
    "También se puede hacer así:"
   ]
  },
  {
   "cell_type": "code",
   "execution_count": null,
   "metadata": {},
   "outputs": [],
   "source": [
    "resultados = np.array([analisis(archivo) for archivo in archivos])\n",
    "\n",
    "resultados"
   ]
  },
  {
   "attachments": {},
   "cell_type": "markdown",
   "metadata": {},
   "source": [
    "y después tomar cada columna por separado:"
   ]
  },
  {
   "cell_type": "code",
   "execution_count": null,
   "metadata": {},
   "outputs": [],
   "source": [
    "resultados[:, 0]"
   ]
  }
 ],
 "metadata": {
  "kernelspec": {
   "display_name": "python",
   "language": "python",
   "name": "python"
  },
  "language_info": {
   "file_extension": ".py",
   "name": "python"
  }
 },
 "nbformat": 4,
 "nbformat_minor": 0
}
