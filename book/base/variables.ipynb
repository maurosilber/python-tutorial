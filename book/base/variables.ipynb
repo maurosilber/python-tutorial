{
 "cells": [
  {
   "cell_type": "markdown",
   "metadata": {},
   "source": [
    "# Variables y operaciones aritméticas\n",
    "\n",
    "Hay diferentes formas de empezar a aprender Python,\n",
    "o más en general, programar.\n",
    "Una posible es empezar usándolo como una calculadora."
   ]
  },
  {
   "cell_type": "markdown",
   "metadata": {},
   "source": [
    "## Operaciones aritméticas\n",
    "\n",
    "Las operaciones aritméticas básicas en Python son las siguientes:\n",
    "\n",
    "| Operación       | Operador | Ejemplo | Resultado |\n",
    "|----------------:|:--------:|:-------:|:---------:|\n",
    "| suma            | +        | 2 + 3   | 5         |\n",
    "| resta           | -        | 2 - 3   | -1        |\n",
    "| multiplicación  | *        | 2 * 3   | 6         |\n",
    "| división        | /        | 2 / 3   | 1.5       |\n",
    "| exponenciación  | **       | 2**3    | 8         |\n",
    "| división entera | //       | 7 // 3  | 2         |\n",
    "| módulo o resto  | %        | 7 % 3   | 1         |\n",
    "\n",
    "que son las mismas que en la mayoría de los lenguajes.\n",
    "La única que difiere de es la exponenciación `**`,\n",
    "que en otros lenguajes suele ser `^`.\n",
    "\n",
    "Podemos probarlas en una celda de código:"
   ]
  },
  {
   "cell_type": "code",
   "execution_count": null,
   "metadata": {},
   "outputs": [],
   "source": [
    "2**3"
   ]
  },
  {
   "cell_type": "markdown",
   "metadata": {},
   "source": [
    "En expresiones compuestas por múltiples operadores,\n",
    "ciertos operadores tienen precedencia sobre otros.\n",
    "En orden de prioridad:\n",
    "\n",
    "1. exponenciación\n",
    "2. multiplicación o división\n",
    "3. suma o resta\n",
    "\n",
    "Por ejemplo:"
   ]
  },
  {
   "cell_type": "code",
   "execution_count": null,
   "metadata": {},
   "outputs": [],
   "source": [
    "1 + 2 * 3"
   ]
  },
  {
   "cell_type": "markdown",
   "metadata": {},
   "source": [
    "Es decir, evaluó primero el `2 * 3` y después sumó `1`.\n",
    "\n",
    "Si quisiéramos hacerlo al revés,\n",
    "se puede usar paréntesis para agrupar las expresiones:"
   ]
  },
  {
   "cell_type": "code",
   "execution_count": null,
   "metadata": {},
   "outputs": [],
   "source": [
    "(1 + 2) * 3"
   ]
  },
  {
   "cell_type": "markdown",
   "metadata": {},
   "source": [
    "Una pregunta típica que surge es como evalúa Python la \"doble división\":\n",
    "\n",
    "`4 / 2 / 2`.\n",
    "\n",
    "Hay dos opciones:\n",
    "\n",
    "1. `(4 / 2) / 2` -> `1`\n",
    "2. `4 / (2 / 2)` -> `4`\n",
    "\n",
    "Cuando los operadores tienen la misma prioridad,\n",
    "se evalúa de izquierda a derecha.\n",
    "Es decir, la opción 1.\n",
    "\n",
    "Pero no me crean a mí.\n",
    "Siempre que tengan una duda,\n",
    "pueden probarlo en una celda de código:"
   ]
  },
  {
   "cell_type": "code",
   "execution_count": null,
   "metadata": {},
   "outputs": [],
   "source": [
    "4 / 2 / 2"
   ]
  },
  {
   "cell_type": "markdown",
   "metadata": {},
   "source": [
    "### Ejercicio 1: evaluar un polinomio\n",
    "\n",
    "Usando las operaciones aritméticas,\n",
    "obtener el resultado de evaluar el polinomio $f(x) = 2 x^2 - 5x + 2$ en $x=2$."
   ]
  },
  {
   "cell_type": "code",
   "execution_count": null,
   "metadata": {},
   "outputs": [],
   "source": [
    "# Escriba su solución aquí"
   ]
  },
  {
   "cell_type": "markdown",
   "metadata": {
    "id": "solution_0"
   },
   "source": [
    "#### Solución"
   ]
  },
  {
   "cell_type": "code",
   "execution_count": null,
   "metadata": {
    "tags": [
     "hide-cell"
    ]
   },
   "outputs": [],
   "source": [
    "2 * 2**2 - 5 * 2 + 2"
   ]
  },
  {
   "cell_type": "markdown",
   "metadata": {},
   "source": [
    "## Asignación de variables\n",
    "\n",
    "El código que escribimos resuelve el problema 1.\n",
    "\n",
    "Sin embargo,\n",
    "si quisiéramos cambiar el punto donde evaluamos el polinomio,\n",
    "ya no nos es tan útil.\n",
    "\n",
    "Por ejemplo,\n",
    "si quisiéramos evaluar en $x=4$,\n",
    "reemplazar el `2` por `4`.\n",
    "\n",
    "Pero hay muchos `2`, y no todos corresponden a `x`.\n",
    "Algunos eran coeficientes del polinomio.\n",
    "\n",
    "Esta solución es poco práctica.\n",
    "Una mejor solución a este problema es\n",
    "*parametrizar* el código usando variables."
   ]
  },
  {
   "cell_type": "markdown",
   "metadata": {},
   "source": [
    "### Asignando una variable\n",
    "\n",
    "Una variable es\n",
    "un nombre que le damos a un valor,\n",
    "y nos permite reusar dicho valor\n",
    "a través de este nombre.\n",
    "\n",
    "La sintaxis para asignar una variable es: `nombre = valor`.\n",
    "Por ejemplo:"
   ]
  },
  {
   "cell_type": "code",
   "execution_count": null,
   "metadata": {},
   "outputs": [],
   "source": [
    "x = 2"
   ]
  },
  {
   "cell_type": "markdown",
   "metadata": {},
   "source": [
    "### Nombres de variables\n",
    "\n",
    "Como nombre,\n",
    "podemos usar casi cualquier conjunto de letras, números, y/o guión bajo (`_`).\n",
    "\n",
    "En Python,\n",
    "la convención es escribir las variables en minúscula\n",
    "y usar guión bajo como espacio entre palabras.\n",
    "Por ejemplo, `mi_numero`.\n",
    "\n",
    "Hay un conjunto de\n",
    "[nombres reservados](https://docs.python.org/3/reference/lexical_analysis.html#keywords)\n",
    "que Python interpreta de manera especial\n",
    "y no se pueden usar.\n",
    "\n",
    "Pero no hace falta aprenderlos.\n",
    "Si los tratamos de usar,\n",
    "Python nos va a avisar que hay un error.\n",
    "Por ejemplo,\n",
    "traten de correr `and = 1`\n",
    "en una celda de código."
   ]
  },
  {
   "cell_type": "markdown",
   "metadata": {},
   "source": [
    "### Inspeccionando una variable\n",
    "\n",
    "Si queremos ver que valor está \"guardado\" en una variable,\n",
    "hay dos formas:\n",
    "\n",
    "Podemos escribir su nombre en una celda y ejecutarla:"
   ]
  },
  {
   "cell_type": "code",
   "execution_count": null,
   "metadata": {},
   "outputs": [],
   "source": [
    "x"
   ]
  },
  {
   "cell_type": "markdown",
   "metadata": {},
   "source": [
    "que funciona cuando estamos corriendo Python de manera interactiva.\n",
    "\n",
    "Si no, la otra forma es utilizar la función `print`:"
   ]
  },
  {
   "cell_type": "code",
   "execution_count": null,
   "metadata": {},
   "outputs": [],
   "source": [
    "print(x)"
   ]
  },
  {
   "cell_type": "markdown",
   "metadata": {},
   "source": [
    "En este caso,\n",
    "el resultado es el mismo."
   ]
  },
  {
   "cell_type": "markdown",
   "metadata": {},
   "source": [
    "### Usando una variable\n",
    "\n",
    "En lugar de usar explícitamente el valor `2`,\n",
    "podemos usar el nombre `x` para hacer operaciones:"
   ]
  },
  {
   "cell_type": "code",
   "execution_count": null,
   "metadata": {},
   "outputs": [],
   "source": [
    "3 * x"
   ]
  },
  {
   "cell_type": "markdown",
   "metadata": {},
   "source": [
    "Python reemplaza la variable `x` por su valor actual,\n",
    "`2`,\n",
    "antes de hacer la operación.\n",
    "\n",
    "También podemos guardar este resultado\n",
    "si lo asignamos a otra variable:"
   ]
  },
  {
   "cell_type": "code",
   "execution_count": null,
   "metadata": {},
   "outputs": [],
   "source": [
    "y = 3 * x"
   ]
  },
  {
   "cell_type": "markdown",
   "metadata": {},
   "source": [
    "Noten que,\n",
    "al asignar una variable,\n",
    "no nos muestra el resultado.\n",
    "\n",
    "Pero,\n",
    "si pedimos que nos muestre la variable:"
   ]
  },
  {
   "cell_type": "code",
   "execution_count": null,
   "metadata": {},
   "outputs": [],
   "source": [
    "y"
   ]
  },
  {
   "cell_type": "markdown",
   "metadata": {},
   "source": [
    "guardó el resultado de `3 * x`."
   ]
  },
  {
   "cell_type": "markdown",
   "metadata": {},
   "source": [
    "### Asignar no representa una igualdad\n",
    "\n",
    "A pesar de usar el `=`,\n",
    "al poner `y = 3 * x`,\n",
    "no estamos declarando una igualdad entre `x` e `y`.\n",
    "\n",
    "Si cambiamos el valor de `x` y volvemos a pedir el valor de `y`:"
   ]
  },
  {
   "cell_type": "code",
   "execution_count": null,
   "metadata": {},
   "outputs": [],
   "source": [
    "x = 10\n",
    "y"
   ]
  },
  {
   "cell_type": "markdown",
   "metadata": {},
   "source": [
    "`y` sigue siendo `6`,\n",
    "no `3 * x`.\n",
    "\n",
    "Es decir,\n",
    "`y` no sabe nada del actual valor de `x`.\n",
    "\n",
    "Una **asignación no es una igualdad**.\n",
    "Es *ponerle un nombre* a un valor.\n",
    "\n",
    "Para evitar la confusión,\n",
    "otros lenguajes de programación prefieren usar otras expresiones,\n",
    "como `nombre <- valor`.\n",
    "\n",
    "En las asignaciones,\n",
    "primero se resuelve la parte de la derecha,\n",
    "reemplazando las variables por sus valores actuales,\n",
    "y después se le asigna el nombre de la izquierda.\n",
    "\n",
    "Por ejemplo,\n",
    "nos permite hacer esto:"
   ]
  },
  {
   "cell_type": "code",
   "execution_count": null,
   "metadata": {},
   "outputs": [],
   "source": [
    "x = 1\n",
    "x = x + 1\n",
    "x"
   ]
  },
  {
   "cell_type": "markdown",
   "metadata": {},
   "source": [
    "Matemáticamente,\n",
    "`x = x + 1` no tendría sentido.\n",
    "\n",
    "Pero,\n",
    "primero se resolvió `x + 1`,\n",
    "que resultó `2`,\n",
    "y después se lo volvió a \"guardar\" en la variable `x`."
   ]
  },
  {
   "cell_type": "markdown",
   "metadata": {},
   "source": [
    "### Borrando una variable\n",
    "\n",
    "Finalmente,\n",
    "así como se pueden asignar variables,\n",
    "se puede borrar variables con la palabra clave `del`:"
   ]
  },
  {
   "cell_type": "code",
   "execution_count": null,
   "metadata": {},
   "outputs": [],
   "source": [
    "del x"
   ]
  },
  {
   "cell_type": "markdown",
   "metadata": {},
   "source": [
    "Luego,\n",
    "si tratamos de acceder a `x`,\n",
    "nos devuelve un error diciendo que no está definido:"
   ]
  },
  {
   "cell_type": "code",
   "execution_count": null,
   "metadata": {},
   "outputs": [],
   "source": [
    "x"
   ]
  },
  {
   "cell_type": "markdown",
   "metadata": {},
   "source": [
    "Es poco usual usar explícitamente `del`.\n",
    "Veremos más adelante que\n",
    "Python lo hace automáticamente en ciertas situaciones."
   ]
  },
  {
   "cell_type": "markdown",
   "metadata": {},
   "source": [
    "### Ejercicio 2: parametrizar un polinomio\n",
    "\n",
    "Asignando $x=2$ como variable,\n",
    "repetir el ejercicio 1:\n",
    "\n",
    "> Usando las operaciones aritméticas,\n",
    "obtener el resultado de evaluar el polinomio $f(x) = 2 x^2 - 5x + 2$ en $x=2$.\n",
    "\n",
    "Luego,\n",
    "cambiar $x$ a un valor distinto\n",
    "y volver a correr el código.\n",
    "\n",
    "Por ejemplo,\n",
    "para $x=0$,\n",
    "el resultado debería ser $2$."
   ]
  },
  {
   "cell_type": "code",
   "execution_count": null,
   "metadata": {},
   "outputs": [],
   "source": [
    "# Escriba su solución aquí"
   ]
  },
  {
   "cell_type": "markdown",
   "metadata": {
    "id": "solution_1"
   },
   "source": [
    "#### Solución"
   ]
  },
  {
   "cell_type": "code",
   "execution_count": null,
   "metadata": {
    "tags": [
     "hide-cell"
    ]
   },
   "outputs": [],
   "source": [
    "x = 2\n",
    "\n",
    "2 * x**2 - 5 * x + 2"
   ]
  },
  {
   "cell_type": "markdown",
   "metadata": {},
   "source": [
    "Parametrizar el código tiene dos ventajas:\n",
    "\n",
    "1. Al usar el código,\n",
    "es más práctico para cambiar el valor donde queremos evaluar el polinomio.\n",
    "2. Al leer el código,\n",
    "es más explícito a simple vista que es un polinomio en `x`."
   ]
  },
  {
   "cell_type": "markdown",
   "metadata": {},
   "source": [
    "## Variables intermedias\n",
    "\n",
    "Además de parametrizar el código,\n",
    "usar variables permite\n",
    "separar (y explicar) una operación compleja\n",
    "en varias operaciones más simples.\n",
    "\n",
    "Por ejemplo,\n",
    "imaginemos que 8 personas se juntaron a comer\n",
    "y compraron 3 pizzas a $1500 cada una\n",
    "y 2 gaseosas a $300 cada una.\n",
    "¿Cuánto tendría que pagar cada uno?\n",
    "\n",
    "Se puede resolver fácilmente en una linea:"
   ]
  },
  {
   "cell_type": "code",
   "execution_count": null,
   "metadata": {},
   "outputs": [],
   "source": [
    "(3 * 1500 + 2 * 300) / 8"
   ]
  },
  {
   "cell_type": "markdown",
   "metadata": {},
   "source": [
    "o se puede resolver **claramente** en varias lineas:"
   ]
  },
  {
   "cell_type": "code",
   "execution_count": null,
   "metadata": {},
   "outputs": [],
   "source": [
    "personas = 8\n",
    "pizza = 1500\n",
    "bebida = 300\n",
    "\n",
    "total = 3 * pizza + 2 * bebida\n",
    "total_por_persona = total / personas\n",
    "\n",
    "total_por_persona"
   ]
  },
  {
   "cell_type": "markdown",
   "metadata": {},
   "source": [
    "De ambas maneras,\n",
    "llegamos al mismo resultado,\n",
    "pero el código se explica por sí mismo en el segundo caso.\n",
    "\n",
    "No tengo que explicar que parte del código modificar\n",
    "si hay que cambiar la cantidad de personas.\n",
    "\n",
    "Pero no solo se trata de usar variables intermedias.\n",
    "También es importante usar nombres de variables claros.\n",
    "A pesar de que llegamos al mismo resultado,\n",
    "no es lo mismo si usamos nombres genéricos:"
   ]
  },
  {
   "cell_type": "code",
   "execution_count": null,
   "metadata": {},
   "outputs": [],
   "source": [
    "n = 8\n",
    "x = 1500\n",
    "y = 300\n",
    "\n",
    "t = 3 * x + 2 * y\n",
    "tn = t / n\n",
    "\n",
    "tn"
   ]
  },
  {
   "cell_type": "markdown",
   "metadata": {},
   "source": [
    "Elegir un nombre apropiado para una variable depende del contexto.\n",
    "\n",
    "Por ejemplo,\n",
    "¿se entiende que `pizza` es el precio de una pizza y no la cantidad?\n",
    "Si no, podríamos usar `precio_pizza`."
   ]
  },
  {
   "cell_type": "markdown",
   "metadata": {},
   "source": [
    "### Ejercicio 3: raíces de la cuadrática\n",
    "\n",
    "Combinando lo aprendido,\n",
    "calcular las raíces del polinomio $f(x) = 2 x^2 - 5x + 2$ utilizando la fórmula cuadrática:\n",
    "\n",
    "$$ \\frac{-b \\pm \\sqrt{b^2 - 4 ac}}{2 a} $$\n",
    "\n",
    "Ayuda:\n",
    "\n",
    "- Para calcular la raíz cuadrada,\n",
    "use que $\\sqrt x = x^½$.\n",
    "- No existe el operador `±`,\n",
    "use `+` y `-` por separado.\n",
    "- Para mostrar dos variables,\n",
    "`x1` y `x2`,\n",
    "puede escribir:\n",
    "    - `x1` y `x2` en dos celdas distintas,\n",
    "    - `x1, x2` al final de la celda de código,\n",
    "    - `print(x1)` y `print(x2)` en distintas lineas,\n",
    "    - `print(x1, x2)`."
   ]
  },
  {
   "cell_type": "code",
   "execution_count": null,
   "metadata": {},
   "outputs": [],
   "source": [
    "# Escriba su solución aquí"
   ]
  },
  {
   "cell_type": "markdown",
   "metadata": {
    "id": "solution_2"
   },
   "source": [
    "#### Solución"
   ]
  },
  {
   "cell_type": "code",
   "execution_count": null,
   "metadata": {
    "tags": [
     "hide-cell"
    ]
   },
   "outputs": [],
   "source": [
    "a = 2\n",
    "b = -5\n",
    "c = 2\n",
    "\n",
    "disc = (b**2 - 4 * a * c) ** (1 / 2)\n",
    "raiz_1 = (-b - disc) / (2 * a)\n",
    "raiz_2 = (-b + disc) / (2 * a)\n",
    "\n",
    "raiz_1, raiz_2"
   ]
  },
  {
   "cell_type": "markdown",
   "metadata": {},
   "source": [
    "Usar una variable intermedia `disc` para el discriminante* tiene dos ventajas:\n",
    "\n",
    "1. La menos relevante,\n",
    "en este caso,\n",
    "es que **el código es más eficiente**.\n",
    "\n",
    "    Si calcular el discriminante fuese computacionalmente muy intensivo,\n",
    "querríamos hacerlo una única vez\n",
    "y reusar su resultado para cada una de las raíces.\n",
    "\n",
    "2. La más importante es que **el código es más legible**.\n",
    "\n",
    "    Si no hubiésemos usado una variable intermedia,\n",
    "tendríamos una maraña de operaciones y paréntesis,\n",
    "y sería más difícil de comprobar que está bien escrito.\n",
    "\n",
    "    Por ejemplo,\n",
    "el siguiente código tiene un error en algún lado:"
   ]
  },
  {
   "cell_type": "code",
   "execution_count": null,
   "metadata": {},
   "outputs": [],
   "source": [
    "raiz_1 = (-b - (b**2 - 4 * a * c) *  (1 / 2)) / (2 * a)\n",
    "raiz_2 = (-b + (b* 2 - 4 * a * c) ** (1 / 2)) / (2 * a)\n",
    "\n",
    "raiz_1, raiz_2"
   ]
  },
  {
   "cell_type": "markdown",
   "metadata": {},
   "source": [
    "\n",
    "\n",
    "*técnicamente, el discriminante es antes de tomar la raíz cuadrada."
   ]
  }
 ],
 "metadata": {
  "colab": {
   "collapsed_sections": [
    "solution_0",
    "solution_1",
    "solution_2"
   ]
  },
  "kernelspec": {
   "display_name": "python",
   "language": "python",
   "name": "python"
  },
  "language_info": {
   "file_extension": ".py",
   "name": "python"
  }
 },
 "nbformat": 4,
 "nbformat_minor": 4
}
