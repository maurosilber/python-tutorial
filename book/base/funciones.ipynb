{
 "cells": [
  {
   "cell_type": "markdown",
   "metadata": {},
   "source": [
    "# Funciones"
   ]
  },
  {
   "cell_type": "markdown",
   "metadata": {},
   "source": [
    "## Motivación\n",
    "\n",
    "Para evaluar el polinomio $f(x) = 2 x^2 - 5x + 2$ en $x=2$,\n",
    "habíamos escrito el siguiente código:"
   ]
  },
  {
   "cell_type": "code",
   "execution_count": null,
   "metadata": {},
   "outputs": [],
   "source": [
    "x = 2\n",
    "2 * x**2 - 5 * x + 2"
   ]
  },
  {
   "cell_type": "markdown",
   "metadata": {},
   "source": [
    "Al parametrizarlo con la variable `x`,\n",
    "es más fácil cambiar el punto donde evaluamos el polinomio.\n",
    "ya que hay una única fuente para su valor:\n",
    "la linea que declara `x=2`.\n",
    "\n",
    "Pero,\n",
    "¿cómo podemos evaluar el polinomio en más de un punto?\n",
    "\n",
    "Una opción es copiar y pegar el código dos veces:"
   ]
  },
  {
   "cell_type": "code",
   "execution_count": null,
   "metadata": {},
   "outputs": [],
   "source": [
    "x = 2\n",
    "y2 = 2 * x**2 - 5 * x + 2\n",
    "\n",
    "x = 3\n",
    "y3 = 2 * x**2 - 5 * x + 2\n",
    "\n",
    "y2, y3"
   ]
  },
  {
   "cell_type": "markdown",
   "metadata": {},
   "source": [
    "donde guardamos cada valor en una variable distinta\n",
    "(`y2` para `x=2` e `y3` para `x=3`).\n",
    "\n",
    "El problema con esta solución es similar\n",
    "al que teníamos cuando no usabamos la variable `x`:\n",
    "no hay una única fuente para el polinomio.\n",
    "\n",
    "Por ejemplo,\n",
    "si queremos cambiar el polinomio por uno de otro grado,\n",
    "tenemos que editar todas las lineas donde dice:\n",
    "`... = 2 * x**2 - 5 * x + 2`.\n",
    "\n",
    "Entonces,\n",
    "queremos definir en un único lugar el polinomio,\n",
    "y después poder evaluarlo en distintos `x`.\n",
    "\n",
    "Para eso,\n",
    "necesitamos poder definir una variable `x` \"indeterminada\",\n",
    "es decir,\n",
    "que aún no tome un valor concreto.\n",
    "\n",
    "Esto se puede lograr definiendo una *función*."
   ]
  },
  {
   "cell_type": "markdown",
   "metadata": {},
   "source": [
    "## Definiendo una función\n",
    "\n",
    "La sintaxis para definir una función es la siguiente:"
   ]
  },
  {
   "cell_type": "code",
   "execution_count": null,
   "metadata": {},
   "outputs": [],
   "source": [
    "def duplicar(n):\n",
    "    y = 2 * n\n",
    "    return y"
   ]
  },
  {
   "cell_type": "markdown",
   "metadata": {},
   "source": [
    "donde definimos una función llamada `duplicar`,\n",
    "con un parámetro `n`.\n",
    "\n",
    "La primera linea de la función se compone de:\n",
    "- `def`, una palabra clave para que Python sepa que estamos *definiendo* una función,\n",
    "- `duplicar`, que es el nombre de la variable donde se va a guardar esta función,\n",
    "- `(n)`, donde ponemos el nombre de la \"variable indeterminada\" o parámetro que toma la función,\n",
    "- `:`, al final, para indicar que comienza el código de la función.\n",
    "\n",
    "En las siguientes lineas,\n",
    "está el bloque de código que se va a ejecutar\n",
    "cuando se corra la función.\n",
    "\n",
    "Para que Python pueda distinguir que código pertenece a la función,\n",
    "el código debe estar \"indentado\", tabulado,\n",
    "o con sangría, respecto a la palabra clave `def`.\n",
    "\n",
    "La convención es usar 4 espacios,\n",
    "pero cualquier número de espacios funciona\n",
    "(mientras sea la misma cantidad en un mismo bloque).\n",
    "\n",
    "Finalmente,\n",
    "está el `return`,\n",
    "que es otra palabra clave\n",
    "y será el resultado que nos \"devolverá\" función al ejecutarla."
   ]
  },
  {
   "cell_type": "markdown",
   "metadata": {},
   "source": [
    "## Llamando una función"
   ]
  },
  {
   "cell_type": "markdown",
   "metadata": {},
   "source": [
    "Ya definimos la función `duplicar(n)`.\n",
    "\n",
    "Pero,\n",
    "si tratamos de acceder a la variable `n`,\n",
    "nos dice que aún no existe:"
   ]
  },
  {
   "cell_type": "code",
   "execution_count": null,
   "metadata": {},
   "outputs": [],
   "source": [
    "n"
   ]
  },
  {
   "cell_type": "markdown",
   "metadata": {},
   "source": [
    "Y,\n",
    "por lo tanto,\n",
    "tampoco existe `y`.\n",
    "\n",
    "Solo existe la \"receta\"\n",
    "que está guardada en la variable `duplicar`:"
   ]
  },
  {
   "cell_type": "code",
   "execution_count": null,
   "metadata": {},
   "outputs": [],
   "source": [
    "duplicar"
   ]
  },
  {
   "cell_type": "markdown",
   "metadata": {},
   "source": [
    "Para usar la receta,\n",
    "necesitamos *llamarla* (del inglés, *call*)\n",
    "pasándole los parámetros,\n",
    "que se hace de la siguiente manera:"
   ]
  },
  {
   "cell_type": "code",
   "execution_count": null,
   "metadata": {},
   "outputs": [],
   "source": [
    "z = duplicar(n=3)\n",
    "\n",
    "z"
   ]
  },
  {
   "cell_type": "markdown",
   "metadata": {},
   "source": [
    "donde guardamos el resultado en la variable `z`.\n",
    "\n",
    "La linea `z = duplicar(n=3)` es equivalente* a haber ejecutado el siguiente código:\n",
    "\n",
    "```python\n",
    "n = 3\n",
    "y = 2 * n\n",
    "z = y\n",
    "del n\n",
    "del y\n",
    "```\n",
    "\n",
    "*aunque no exactamente igual.\n",
    "\n",
    "Es decir,\n",
    "ni `n`,\n",
    "el parámetro,\n",
    "ni `y`,\n",
    "una variable intermedia de la función,\n",
    "existen después de ejecutarse `duplicar(n=3)`:"
   ]
  },
  {
   "cell_type": "code",
   "execution_count": null,
   "metadata": {},
   "outputs": [],
   "source": [
    "n"
   ]
  },
  {
   "cell_type": "markdown",
   "metadata": {},
   "source": [
    "Ambas,\n",
    "`n` e `y`,\n",
    "son variables internas a la función.\n",
    "\n",
    "Al correr esta linea,\n",
    "```python\n",
    "z = duplicar(n=3)\n",
    "```\n",
    "Python corre el código de `duplicar`\n",
    "en una hoja borrador,\n",
    "y después reemplaza el llamado,\n",
    "`duplicar(n=3)`,\n",
    "por su resultado,\n",
    "`6`:\n",
    "```python\n",
    "z = 6\n",
    "```"
   ]
  },
  {
   "cell_type": "markdown",
   "metadata": {},
   "source": [
    "Al llamar una función,\n",
    "también se le puede pasar una variable,\n",
    "que no tiene porque coincidir en nombre con el parámetro:"
   ]
  },
  {
   "cell_type": "code",
   "execution_count": null,
   "metadata": {},
   "outputs": [],
   "source": [
    "mi_numero = 21\n",
    "\n",
    "duplicar(n=mi_numero)"
   ]
  },
  {
   "cell_type": "markdown",
   "metadata": {},
   "source": [
    "Y tampoco hace falta especificar el nombre del parámetro:"
   ]
  },
  {
   "cell_type": "code",
   "execution_count": null,
   "metadata": {},
   "outputs": [],
   "source": [
    "duplicar(mi_numero)"
   ]
  },
  {
   "cell_type": "markdown",
   "metadata": {},
   "source": [
    "aunque a veces hace el código más legible.\n",
    "Más adelante veremos mas ejemplos."
   ]
  },
  {
   "cell_type": "markdown",
   "metadata": {},
   "source": [
    "### Ejercicio 1\n",
    "\n",
    "Definir una función que tome un parámetro `x`\n",
    "y devuelva el resultado de evaluar el polinomio $f(x) = 2 x^2 - 8x + 6$.\n",
    "\n",
    "Evaluar en $x=2$ y $x=3$."
   ]
  },
  {
   "cell_type": "code",
   "execution_count": null,
   "metadata": {},
   "outputs": [],
   "source": [
    "# Escriba su solución aquí"
   ]
  },
  {
   "cell_type": "markdown",
   "metadata": {
    "id": "solution_0"
   },
   "source": [
    "#### Solución"
   ]
  },
  {
   "cell_type": "code",
   "execution_count": null,
   "metadata": {
    "tags": [
     "hide-cell"
    ]
   },
   "outputs": [],
   "source": [
    "def mi_polinomio(x):\n",
    "    return 2 * x**2 - 8 * x + 6\n",
    "\n",
    "\n",
    "y2 = mi_polinomio(2)\n",
    "y3 = mi_polinomio(3)\n",
    "\n",
    "y2, y3"
   ]
  },
  {
   "cell_type": "markdown",
   "metadata": {},
   "source": [
    "Noten que,\n",
    "dentro de la función,\n",
    "no hace falta guardar el resultado en una variable intermedia.\n",
    "\n",
    "Se puede poner directamente `return` de una expresión."
   ]
  },
  {
   "cell_type": "markdown",
   "metadata": {},
   "source": [
    "## Múltiples parámetros\n",
    "\n",
    "Para definir una función con múltiples parámetros,\n",
    "estos se separan con comas (`,`).\n",
    "Por ejemplo:"
   ]
  },
  {
   "cell_type": "code",
   "execution_count": null,
   "metadata": {},
   "outputs": [],
   "source": [
    "def dividir(x, y):\n",
    "    return x / y\n",
    "\n",
    "\n",
    "dividir(8, 4)"
   ]
  },
  {
   "cell_type": "markdown",
   "metadata": {},
   "source": [
    "### Llamando funciones de múltiples parámetros\n",
    "\n",
    "Vimos que hay dos formas de llamar a las funciones:\n",
    "- por posición\n",
    "- por nombre o *palabra clave* (*keyword*, en inglés).\n",
    "\n",
    "Por posición,\n",
    "se asignan los valores en el mismo orden en el que se definió en la función:"
   ]
  },
  {
   "cell_type": "code",
   "execution_count": null,
   "metadata": {},
   "outputs": [],
   "source": [
    "dividir(8, 4)"
   ]
  },
  {
   "cell_type": "markdown",
   "metadata": {},
   "source": [
    "Es decir,\n",
    "para dicha ejecución de `dividir`,\n",
    "`x=8` e `y=4`.\n",
    "\n",
    "Cuando se pasa por nombre,\n",
    "se puede cambiar el orden de los parámetros:"
   ]
  },
  {
   "cell_type": "code",
   "execution_count": null,
   "metadata": {},
   "outputs": [],
   "source": [
    "dividir(y=4, x=8)"
   ]
  },
  {
   "cell_type": "markdown",
   "metadata": {},
   "source": [
    "También,\n",
    "se pueden combinar ambas formas:"
   ]
  },
  {
   "cell_type": "code",
   "execution_count": null,
   "metadata": {},
   "outputs": [],
   "source": [
    "dividir(8, y=4)"
   ]
  },
  {
   "cell_type": "markdown",
   "metadata": {},
   "source": [
    "Pero una vez que pasamos un parámetro por nombre,\n",
    "es decir,\n",
    "no posicionalmente,\n",
    "todos los parámetros restantes también tienen que ser por nombre:"
   ]
  },
  {
   "cell_type": "code",
   "execution_count": null,
   "metadata": {},
   "outputs": [],
   "source": [
    "dividir(x=2, 3)"
   ]
  },
  {
   "cell_type": "markdown",
   "metadata": {},
   "source": [
    "El error nos dice que\n",
    "un argumento posicional\n",
    "sigue a un argumento por palabra clave (*keyword*).\n",
    "\n",
    "Para esta función `dividir(x, y)`,\n",
    "es confuso cambiar el orden de los parámetros llamándolos por nombre.\n",
    "\n",
    "Si hubiésemos definido `dividir(numerador, denominador)`,\n",
    "sería un poco menos confuso hacer `dividir(denominador=2, numerador=8)`."
   ]
  },
  {
   "cell_type": "markdown",
   "metadata": {},
   "source": [
    "### Ejercicio 2\n",
    "\n",
    "Escribir una función que permita evaluar un polinomio cuadrático:\n",
    "\n",
    "$$ f(x) = ax^2 + bx + c $$\n",
    "\n",
    "y usarla para evaluar el polinomio $f(x) = 2 x^2 - 8x + 6$ en $x = 2$.\n",
    "\n",
    "Usar la cantidad de parámetros que hagan falta."
   ]
  },
  {
   "cell_type": "code",
   "execution_count": null,
   "metadata": {},
   "outputs": [],
   "source": [
    "# Escriba su solución aquí"
   ]
  },
  {
   "cell_type": "markdown",
   "metadata": {
    "id": "solution_1"
   },
   "source": [
    "#### Solución"
   ]
  },
  {
   "cell_type": "code",
   "execution_count": null,
   "metadata": {
    "tags": [
     "hide-cell"
    ]
   },
   "outputs": [],
   "source": [
    "def evaluar_cuadratica(x, a, b, c):\n",
    "    return a * x**2 + b * x + c\n",
    "\n",
    "\n",
    "evaluar_cuadratica(2, a=2, b=-8, c=6)"
   ]
  },
  {
   "cell_type": "markdown",
   "metadata": {},
   "source": [
    "Noten que usar *keyword arguments*\n",
    "permite leer más fácilmente cuáles son los coeficiente del polinomio\n",
    "y cuál el valor donde lo evaluamos.\n",
    "\n",
    "Si escribimos `evaluar_cuadratica(2, 2, -8, 6)`,\n",
    "llegamos al mismo resultado.\n",
    "Pero necesitaríamos ir a ver la definición de la función\n",
    "para saber si `x` es el primero o el último de los argumentos."
   ]
  },
  {
   "cell_type": "markdown",
   "metadata": {},
   "source": [
    "## Múltiples `return`\n",
    "\n",
    "Una función solo puede devolver (`return`) una única variable. Pero eso no significa que no pueda haber más de un `return` dentro de una función.\n",
    "\n",
    "La función se ejecuta secuencialmente,\n",
    "linea por linea,\n",
    "y termina apenas encuentre el primer `return`.\n",
    "\n",
    "Por ejemplo:"
   ]
  },
  {
   "cell_type": "code",
   "execution_count": null,
   "metadata": {},
   "outputs": [],
   "source": [
    "def triplicar(x):\n",
    "    z = 3 * x\n",
    "    return z\n",
    "    w = x / 0\n",
    "    return w\n",
    "\n",
    "\n",
    "triplicar(3)"
   ]
  },
  {
   "cell_type": "markdown",
   "metadata": {},
   "source": [
    "¿Cómo sabemos que no corrió el resto?\n",
    "\n",
    "Si se hubiese ejecutado `w = x / 0`, se habría producido un error.\n",
    "Pongámoslo antes del `return`:"
   ]
  },
  {
   "cell_type": "code",
   "execution_count": null,
   "metadata": {},
   "outputs": [],
   "source": [
    "def triplicar(x):\n",
    "    z = 3 * x\n",
    "    w = x / 0\n",
    "    return z\n",
    "    return w\n",
    "\n",
    "\n",
    "triplicar(3)"
   ]
  },
  {
   "cell_type": "markdown",
   "metadata": {},
   "source": [
    "Veremos más adelante que puede ser útil tener más de un `return` dentro de una función."
   ]
  },
  {
   "cell_type": "markdown",
   "metadata": {},
   "source": [
    "## Múltiples resultados\n",
    "\n",
    "Si queremos devolver múltiples resultados,\n",
    "una forma es separarlos con comas (`,`) en el `return`:"
   ]
  },
  {
   "cell_type": "code",
   "execution_count": null,
   "metadata": {},
   "outputs": [],
   "source": [
    "def sumar_y_restar(x, y):\n",
    "    suma = x + y\n",
    "    resta = x - y\n",
    "    return suma, resta\n",
    "\n",
    "\n",
    "z = sumar_y_restar(5, 3)\n",
    "\n",
    "z"
   ]
  },
  {
   "cell_type": "markdown",
   "metadata": {},
   "source": [
    "Lo que estamos haciendo es crear una \"tupla\",\n",
    "que veremos más adelante.\n",
    "\n",
    "Podemos \"desempacar\" el resultado\n",
    "asignándolo a variables separadas por comas:"
   ]
  },
  {
   "cell_type": "code",
   "execution_count": null,
   "metadata": {},
   "outputs": [],
   "source": [
    "a, b = sumar_y_restar(5, 3)\n",
    "\n",
    "a"
   ]
  },
  {
   "cell_type": "markdown",
   "metadata": {},
   "source": [
    "donde `a` y `b` guardaron `suma` y `resta`,\n",
    "respectivamente.\n",
    "\n",
    "Ojo,\n",
    "si no usamos la misma cantidad de variables,\n",
    "nos va a devolver el siguiente error:"
   ]
  },
  {
   "cell_type": "code",
   "execution_count": null,
   "metadata": {},
   "outputs": [],
   "source": [
    "a, b, c = sumar_y_restar(5, 3)"
   ]
  },
  {
   "cell_type": "markdown",
   "metadata": {},
   "source": [
    "Si leen el error,\n",
    "dice que no pudo desempacar los valores.\n",
    "Esperaba 3 valores (`a, b, c`),\n",
    "pero la función solo devolvió 2."
   ]
  },
  {
   "cell_type": "markdown",
   "metadata": {},
   "source": [
    "### Ejercicio 3\n",
    "\n",
    "Definir una función para calcular las raíces de una cuadrática,\n",
    "y calcule las raíces del polinomio $f(x) = 2 x^2 - 5x + 2$."
   ]
  },
  {
   "cell_type": "code",
   "execution_count": null,
   "metadata": {},
   "outputs": [],
   "source": [
    "# Escriba su solución aquí"
   ]
  },
  {
   "cell_type": "markdown",
   "metadata": {
    "id": "solution_2"
   },
   "source": [
    "#### Solución"
   ]
  },
  {
   "cell_type": "code",
   "execution_count": null,
   "metadata": {
    "tags": [
     "hide-cell"
    ]
   },
   "outputs": [],
   "source": [
    "def raices_cuadratica(a, b, c):\n",
    "    disc = (b**2 - 4 * a * c) ** (1 / 2)\n",
    "    raiz_1 = (-b - disc) / (2 * a)\n",
    "    raiz_2 = (-b + disc) / (2 * a)\n",
    "    return raiz_1, raiz_2\n",
    "\n",
    "\n",
    "raices_cuadratica(2, -5, 2)"
   ]
  },
  {
   "cell_type": "markdown",
   "metadata": {},
   "source": [
    "Recordemos los beneficios de encapsular código en una función:\n",
    "\n",
    "1. Permite ejecutar fácilmente una receta para diferentes parámetros (`a`, `b`, `c`).\n",
    "2. Si queremos mejorar la receta,\n",
    "o encontramos un error en esta,\n",
    "solo tenemos que editar código en un lugar.\n",
    "2. Elimina las variables intermedias,\n",
    "que solo son útiles dentro de la receta (`disc`).\n",
    "3. Es más fácil de leer el código. Comparen\n",
    "    ```python\n",
    "    disc = (b**2 - 4 * a * c) ** (1 / 2)\n",
    "    x_1 = (-b - disc) / (2 * a)\n",
    "    x_2 = (-b + disc) / (2 * a)\n",
    "    ```\n",
    "    contra\n",
    "    ```python\n",
    "    x1, x2 = raices_cuadratica(a, b, c)\n",
    "    ```\n",
    "\n",
    "    En el primer caso,\n",
    "    tenemos que entender que está haciendo el código\n",
    "    para saber que son `x_1` y `x_2`.\n",
    "\n",
    "    En el segundo caso,\n",
    "    está explicito en el nombre de la función."
   ]
  },
  {
   "cell_type": "markdown",
   "metadata": {},
   "source": [
    "## Probando la función\n",
    "\n",
    "Es importante probar la función después de definirla,\n",
    "para estar seguros que la definimos bien.\n",
    "\n",
    "Hay,\n",
    "al menos,\n",
    "dos formas:"
   ]
  },
  {
   "cell_type": "markdown",
   "metadata": {},
   "source": [
    "### Probar casos conocidos\n",
    "\n",
    "Una forma es probar casos donde conozcamos la respuesta.\n",
    "\n",
    "Por ejemplo:\n",
    "\n",
    "- Para los polinomios de la forma $x^2 + c$, las raíces son $\\pm \\sqrt{-c}$:"
   ]
  },
  {
   "cell_type": "code",
   "execution_count": null,
   "metadata": {},
   "outputs": [],
   "source": [
    "raices_cuadratica(1, 0, -4)"
   ]
  },
  {
   "cell_type": "markdown",
   "metadata": {},
   "source": [
    "- Para polinomios de la forma $x^2 + bx = x(x + b)$, las raíces son $0$ y $-b$:"
   ]
  },
  {
   "cell_type": "code",
   "execution_count": null,
   "metadata": {},
   "outputs": [],
   "source": [
    "raices_cuadratica(1, 2, 0)"
   ]
  },
  {
   "cell_type": "markdown",
   "metadata": {},
   "source": [
    "### Evaluar propiedades\n",
    "\n",
    "Otra forma es evaluar propiedades de la solución.\n",
    "\n",
    "Por definición,\n",
    "si evaluamos el polinomio en las raíces,\n",
    "tiene que dar 0.\n",
    "\n",
    "Entonces,\n",
    "podemos aprovechar la otra función que definimos,\n",
    "y probar para un polinomio más general:"
   ]
  },
  {
   "cell_type": "code",
   "execution_count": null,
   "metadata": {},
   "outputs": [],
   "source": [
    "a, b, c = 1, 5, -10\n",
    "\n",
    "raiz_1, raiz_2 = raices_cuadratica(a, b, c)\n",
    "y1 = evaluar_cuadratica(raiz_1, a, b, c)\n",
    "y2 = evaluar_cuadratica(raiz_2, a, b, c)\n",
    "\n",
    "y1, y2"
   ]
  },
  {
   "cell_type": "markdown",
   "metadata": {},
   "source": [
    "*Nota:*\n",
    "`y2` da un número distinto,\n",
    "pero muy cercano a 0.\n",
    "Esto se debe a errores de redondeo,\n",
    "ya que la computadora tiene una precisión finita."
   ]
  }
 ],
 "metadata": {
  "colab": {
   "collapsed_sections": [
    "solution_0",
    "solution_1",
    "solution_2"
   ]
  },
  "kernelspec": {
   "display_name": "python",
   "language": "python",
   "name": "python"
  },
  "language_info": {
   "file_extension": ".py",
   "name": "python"
  }
 },
 "nbformat": 4,
 "nbformat_minor": 4
}
