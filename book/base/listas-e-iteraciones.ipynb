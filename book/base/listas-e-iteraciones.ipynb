{
 "cells": [
  {
   "cell_type": "markdown",
   "metadata": {},
   "source": [
    "# Listas e iteraciones"
   ]
  },
  {
   "cell_type": "markdown",
   "metadata": {},
   "source": [
    "## Motivación: evaluar un polinomio de grado $n$\n",
    "\n",
    "En la sección anterior,\n",
    "escribimos la siguiente función,\n",
    "que nos permite evaluar un polinomio cuadrático $f(x) = ax^2 + bx + c$:"
   ]
  },
  {
   "cell_type": "code",
   "execution_count": null,
   "metadata": {},
   "outputs": [],
   "source": [
    "def evaluar_cuadratica(x, a, b, c):\n",
    "    return a * x**2 + b * x + c\n",
    "\n",
    "\n",
    "evaluar_cuadratica(5, a=1, b=2, c=3)"
   ]
  },
  {
   "cell_type": "markdown",
   "metadata": {},
   "source": [
    "¿Cómo podemos hacer para evaluar un polinomio de grado $n$?\n",
    "\n",
    "Empecemos con el caso lineal,\n",
    "$f(x) = ax + b$,\n",
    "y supongamos que queremos evaluar $f(x) = 2 x + 3$ en $x=1$."
   ]
  },
  {
   "cell_type": "markdown",
   "metadata": {},
   "source": [
    "### Opción 1\n",
    "\n",
    "Podemos escribir otra función para evaluar un polinomio lineal:"
   ]
  },
  {
   "cell_type": "code",
   "execution_count": null,
   "metadata": {},
   "outputs": [],
   "source": [
    "def evaluar_lineal(x, a, b):\n",
    "    return a * x + b\n",
    "\n",
    "\n",
    "evaluar_lineal(1, a=2, b=3)"
   ]
  },
  {
   "cell_type": "markdown",
   "metadata": {},
   "source": [
    "¿Vamos a tener que escribir una función para cada grado?\n",
    "\n",
    "Debe haber una mejor manera..."
   ]
  },
  {
   "cell_type": "markdown",
   "metadata": {},
   "source": [
    "### Opción 2\n",
    "\n",
    "Una lineal es *una cuadrática sin coeficiente cuadrático*.\n",
    "\n",
    "Entonces,\n",
    "podríamos reusar la función `evaluar_cuadratica`:"
   ]
  },
  {
   "cell_type": "code",
   "execution_count": null,
   "metadata": {},
   "outputs": [],
   "source": [
    "evaluar_cuadratica(1, a=0, b=2, c=3)"
   ]
  },
  {
   "cell_type": "markdown",
   "metadata": {},
   "source": [
    "Llegamos al mismo resultado,\n",
    "y nos ahorramos escribir una nueva función.\n",
    "¡Genial!\n",
    "\n",
    "Pero...\n",
    "es confuso usar una funcion llamada `evaluar_cuadratica`\n",
    "para evaluar una lineal.\n",
    "\n",
    "Además,\n",
    "hay que acordarse que\n",
    "el `a` de la lineal es el `b` de la cuadrática.\n",
    "\n",
    "Y no nos sirve para polinomios de mayor grado."
   ]
  },
  {
   "cell_type": "markdown",
   "metadata": {},
   "source": [
    "### Opción 3\n",
    "\n",
    "Si queremos escribir un código para polinomios de grado $n$,\n",
    "veamos como es la fórmula para dichos polinomios.\n",
    "\n",
    "Un polinomio de grado $n$ se puede escribir como:\n",
    "\n",
    "$$ f(x) = c_n x^n + c_{n-1} x^{n-1} + \\ldots + c_2 x^2 + c_1 x + c_0 $$\n",
    "\n",
    "donde numeramos los coeficientes $c_k$ según la potencia $k$ de cada término.\n",
    "\n",
    "Entonces,\n",
    "para poder definir una función general `evaluar_polinomio`,\n",
    "necesitamos de 2 cosas:\n",
    "\n",
    "1. definir \"variables numeradas\",\n",
    "2. sumar tantos términos como coeficientes que hayamos recibido.\n",
    "\n",
    "Si pudiesemos definir variables numeradas,\n",
    "podríamos saber que la variable $k$-ésima\n",
    "corresponde al coeficiente del término $k$-ésimo.\n",
    "\n",
    "Definir variables numeradas no es\n",
    "simplemente poner un número en el nombre de las variables.\n",
    "Por ejemplo,\n",
    "\n",
    "```python\n",
    "def evaluar_polinomio(x, c_0, c_1):\n",
    "    ...\n",
    "```\n",
    "\n",
    "es `evaluar_lineal` con otros nombres para sus parámetros,\n",
    "y solo acepta dos coeficientes.\n",
    "\n",
    "Para poder hacer esto,\n",
    "vamos a introducir 3 herramientas nuevas:\n",
    "- la lista,\n",
    "- el bucle `for`,\n",
    "- y la función `range`."
   ]
  },
  {
   "cell_type": "markdown",
   "metadata": {},
   "source": [
    "## Listas\n",
    "\n",
    "La lista es una estructura de datos que nos permite definir \"variables numeradas\".\n",
    "\n",
    "Para definir una lista,\n",
    "ponemos los elementos entre corchetes,\n",
    "`[]`,\n",
    "separados por comas.\n",
    "\n",
    "Por ejemplo,\n",
    "definamos una lista con los 5 primeros números primos:"
   ]
  },
  {
   "cell_type": "code",
   "execution_count": null,
   "metadata": {},
   "outputs": [],
   "source": [
    "primos = [2, 3, 5, 7, 11]\n",
    "\n",
    "primos"
   ]
  },
  {
   "cell_type": "markdown",
   "metadata": {},
   "source": [
    "\n",
    "\n",
    "Para conocer el largo de una lista,\n",
    "podemos usar la función `len`:"
   ]
  },
  {
   "cell_type": "code",
   "execution_count": null,
   "metadata": {},
   "outputs": [],
   "source": [
    "len(primos)"
   ]
  },
  {
   "cell_type": "markdown",
   "metadata": {},
   "source": [
    "### Acceder a una variable numerada\n",
    "\n",
    "Para acceder a un elemento,\n",
    "se usa la notación `lista[numero]`.\n",
    "\n",
    "La lista númera sus elementos desde `0`.\n",
    "\n",
    "Por ejemplo,\n",
    "para acceder al primer elemento,\n",
    "usamos:"
   ]
  },
  {
   "cell_type": "code",
   "execution_count": null,
   "metadata": {},
   "outputs": [],
   "source": [
    "primos[0]"
   ]
  },
  {
   "cell_type": "markdown",
   "metadata": {},
   "source": [
    "Al segundo elemento:"
   ]
  },
  {
   "cell_type": "code",
   "execution_count": null,
   "metadata": {},
   "outputs": [],
   "source": [
    "primos[1]"
   ]
  },
  {
   "cell_type": "markdown",
   "metadata": {},
   "source": [
    "Si tratamos de acceder a un elemento que no existe,\n",
    "nos arroja un error:"
   ]
  },
  {
   "cell_type": "code",
   "execution_count": null,
   "metadata": {},
   "outputs": [],
   "source": [
    "primos[10]"
   ]
  },
  {
   "cell_type": "markdown",
   "metadata": {},
   "source": [
    "### Reasignar, agregar y eliminar elementos\n",
    "\n",
    "Podemos cambiar un elemento al igual que cuando reasignamos una variable:"
   ]
  },
  {
   "cell_type": "code",
   "execution_count": null,
   "metadata": {},
   "outputs": [],
   "source": [
    "primos[0] = 42\n",
    "\n",
    "primos"
   ]
  },
  {
   "cell_type": "markdown",
   "metadata": {},
   "source": [
    "Pero si queremos agregar nuevos elementos,\n",
    "no podemos asignar a posiciones que aún no existen:"
   ]
  },
  {
   "cell_type": "code",
   "execution_count": null,
   "metadata": {},
   "outputs": [],
   "source": [
    "primos[5] = 13"
   ]
  },
  {
   "cell_type": "markdown",
   "metadata": {},
   "source": [
    "Para agregar nuevos elementos,\n",
    "tenemos que usar el método `append`,\n",
    "que los agrega al final:"
   ]
  },
  {
   "cell_type": "code",
   "execution_count": null,
   "metadata": {},
   "outputs": [],
   "source": [
    "primos.append(13)\n",
    "\n",
    "primos"
   ]
  },
  {
   "cell_type": "markdown",
   "metadata": {},
   "source": [
    "*Nota:\n",
    "los métodos son funciones,\n",
    "con una pequeña diferencia que no es relevante discutir ahora.*\n",
    "\n",
    "Ahora sí,\n",
    "en la posición 5\n",
    "está el sexto número primo:"
   ]
  },
  {
   "cell_type": "code",
   "execution_count": null,
   "metadata": {},
   "outputs": [],
   "source": [
    "primos[5]"
   ]
  },
  {
   "cell_type": "markdown",
   "metadata": {},
   "source": [
    "Para borrar un elemento,\n",
    "es igual a como se borra una variable.\n",
    "\n",
    "Borremos el primero,\n",
    "que no es un número primo:"
   ]
  },
  {
   "cell_type": "code",
   "execution_count": null,
   "metadata": {},
   "outputs": [],
   "source": [
    "del primos[0]\n",
    "\n",
    "primos"
   ]
  },
  {
   "cell_type": "markdown",
   "metadata": {},
   "source": [
    "Noten que cambió el largo y las posiciones en la lista.\n",
    "El número `3`,\n",
    "que antes estaba en la posición `1`,\n",
    "ahora está en la posición `0`:"
   ]
  },
  {
   "cell_type": "code",
   "execution_count": null,
   "metadata": {},
   "outputs": [],
   "source": [
    "primos[0]"
   ]
  },
  {
   "cell_type": "markdown",
   "metadata": {},
   "source": [
    "### Ejercicio 1\n",
    "\n",
    "Reescriba la función `evaluar_cuadratica(x, a, b, c)` como `evaluar_cuadratica(x, c)`\n",
    "donde `c` es una lista de coeficientes.\n",
    "\n",
    "Evalúe el polinomio $f(x) = 2 x^2 + 3 x + 5$ en $x=7$."
   ]
  },
  {
   "cell_type": "code",
   "execution_count": null,
   "metadata": {},
   "outputs": [],
   "source": []
  },
  {
   "cell_type": "markdown",
   "metadata": {
    "id": "solution_0"
   },
   "source": [
    "#### Solución"
   ]
  },
  {
   "cell_type": "code",
   "execution_count": null,
   "metadata": {
    "tags": [
     "hide-cell"
    ]
   },
   "outputs": [],
   "source": [
    "def evaluar_cuadratica(x, c):\n",
    "    return c[0] + c[1] * x + c[2] * x**2\n",
    "\n",
    "\n",
    "coef = [5, 3, 2]\n",
    "evaluar_cuadratica(7, coef)"
   ]
  },
  {
   "cell_type": "markdown",
   "metadata": {},
   "source": [
    "Este es un primer paso.\n",
    "pero la función todavía solo sirve para cuadráticas.\n",
    "\n",
    "Si le damos el coeficientes del término cúbico,\n",
    "lo ignora:"
   ]
  },
  {
   "cell_type": "code",
   "execution_count": null,
   "metadata": {},
   "outputs": [],
   "source": [
    "evaluar_cuadratica(7, [5, 3, 2, 100])"
   ]
  },
  {
   "cell_type": "markdown",
   "metadata": {},
   "source": [
    "Y si le pasamos una lineal,\n",
    "nos arroja un error:"
   ]
  },
  {
   "cell_type": "code",
   "execution_count": null,
   "metadata": {},
   "outputs": [],
   "source": [
    "evaluar_cuadratica(7, [5, 3])"
   ]
  },
  {
   "cell_type": "markdown",
   "metadata": {},
   "source": [
    "Como solo hay dos coeficientes,\n",
    "cuando trata de acceder al tercer coeficiente,\n",
    "`c[2]`,\n",
    "nos dice que el índice de la lista se fue del rango."
   ]
  },
  {
   "cell_type": "markdown",
   "metadata": {},
   "source": [
    "## Iteraciones y bucle `for`\n",
    "\n",
    "En cada término del polinomio,\n",
    "necesitamos hacer una cuenta similar,\n",
    "`c[k] * x**k` para `k` de `0` a `n`.\n",
    "\n",
    "Entonces,\n",
    "necesitamos una forma de repetir una operación (`c[k] * x**k`),\n",
    "cambiando una variable (`k`).\n",
    "\n",
    "Empecemos con un caso más \"visual\":\n",
    "imprimir los números 2, 3 y 5,\n",
    "cada uno en una linea distinta.\n",
    "\n",
    "Podemos hacerlo manualmente:"
   ]
  },
  {
   "cell_type": "code",
   "execution_count": null,
   "metadata": {},
   "outputs": [],
   "source": [
    "print(2)\n",
    "print(3)\n",
    "print(5)"
   ]
  },
  {
   "cell_type": "markdown",
   "metadata": {},
   "source": [
    "Lo que cambia en cada linea es el argumento de `print`.\n",
    "\n",
    "Si en lugar de pasarle un número,\n",
    "le pasamos una variable,\n",
    "las lineas que usan `print` son todas iguales:"
   ]
  },
  {
   "cell_type": "code",
   "execution_count": null,
   "metadata": {},
   "outputs": [],
   "source": [
    "x = 2\n",
    "print(x)\n",
    "\n",
    "x = 3\n",
    "print(x)\n",
    "\n",
    "x = 5\n",
    "print(x)"
   ]
  },
  {
   "cell_type": "markdown",
   "metadata": {},
   "source": [
    "¡Empeoramos las cosas, ahora es más largo!\n",
    "\n",
    "Pero tenemos una forma de decirle a Python que\n",
    "repita el mismo código,\n",
    "variando la asignación `x = ...`:"
   ]
  },
  {
   "cell_type": "code",
   "execution_count": null,
   "metadata": {},
   "outputs": [],
   "source": [
    "for x in [2, 3, 5]:\n",
    "    print(x)"
   ]
  },
  {
   "cell_type": "markdown",
   "metadata": {},
   "source": [
    "Se lee como:\n",
    "\"para cada `x` en la lista `[2, 3, 5]`, hace `print(x)`\".\n",
    "\n",
    "Este código hace exactamente lo mismo al de la celda anterior.\n",
    "\n",
    "Se imaginarán que es muy útil\n",
    "si tenemos que repetir algo muchas veces.\n",
    "\n",
    "Podemos decirle a Python\n",
    "como se hace una vez\n",
    "y que lo repita para todos."
   ]
  },
  {
   "cell_type": "markdown",
   "metadata": {},
   "source": [
    "### Sintaxis del bucle `for`\n",
    "\n",
    "La sintaxis en general es\n",
    "\n",
    "```python\n",
    "for variable in variables:\n",
    "    bloque_de_codigo\n",
    "```\n",
    "\n",
    "donde `for` e `in` son palabras claves de Python,\n",
    "y `variables` es algún objeto\n",
    "que sepa pasarnos sus elementos de a uno.\n",
    "\n",
    "Por ejemplo,\n",
    "la lista sabe pasar sus elementos en orden.\n",
    "\n",
    "Para cada elemento de `variables`,\n",
    "Python lo asigna en `variable`,\n",
    "y corre el bloque de código una vez.\n",
    "\n",
    "Al igual que al definir una función,\n",
    "Python reconoce cual es el bloque de código a repetir\n",
    "porque está *indentado*."
   ]
  },
  {
   "cell_type": "markdown",
   "metadata": {},
   "source": [
    "### Ejercicio 2\n",
    "\n",
    "Muchos problemas se pueden descomponer\n",
    "en iterar una misma operación múltiples veces.\n",
    "\n",
    "Por ejemplo,\n",
    "cuando queremos sumar 4 números:"
   ]
  },
  {
   "cell_type": "code",
   "execution_count": null,
   "metadata": {},
   "outputs": [],
   "source": [
    "2 + 3 + 5 + 7"
   ]
  },
  {
   "cell_type": "markdown",
   "metadata": {},
   "source": [
    "los vamos sumando de a dos.\n",
    "Primero `2 + 3`,\n",
    "luego al resultado le sumamos `5`\n",
    "y finalmente `7`:"
   ]
  },
  {
   "cell_type": "code",
   "execution_count": null,
   "metadata": {},
   "outputs": [],
   "source": [
    "(((2 + 3) + 5) + 7)"
   ]
  },
  {
   "cell_type": "markdown",
   "metadata": {},
   "source": [
    "Es decir,\n",
    "siempre vamos sumando el siguiente número a la suma de los anteriores:\n",
    "`total = total + siguiente`\n",
    "\n",
    "Si queremos aplicar esta idea,\n",
    "solo nos falta algo:\n",
    "¿qué pasa al principio,\n",
    "cuando `siguiente` es el primer número?\n",
    "¿Cúanto vale `total`?\n",
    "\n",
    "Antes de sumar el primer número,\n",
    "el total es 0,\n",
    "¿no?\n",
    "\n",
    "Entonces,\n",
    "este algoritmo nos serviría para sumar una lista de números:"
   ]
  },
  {
   "cell_type": "code",
   "execution_count": null,
   "metadata": {},
   "outputs": [],
   "source": [
    "total = 0\n",
    "\n",
    "x = 2\n",
    "total = total + x\n",
    "\n",
    "x = 3\n",
    "total = total + x\n",
    "\n",
    "x = 5\n",
    "total = total + x\n",
    "\n",
    "x = 7\n",
    "total = total + x\n",
    "\n",
    "total"
   ]
  },
  {
   "cell_type": "markdown",
   "metadata": {},
   "source": [
    "que vemos que llegamos al mismo resultado.\n",
    "\n",
    "Reescribanlo con un `for ... in ...`:"
   ]
  },
  {
   "cell_type": "code",
   "execution_count": null,
   "metadata": {},
   "outputs": [],
   "source": [
    "numeros = [2, 3, 5, 7]"
   ]
  },
  {
   "cell_type": "markdown",
   "metadata": {
    "id": "solution_1"
   },
   "source": [
    "#### Solución"
   ]
  },
  {
   "cell_type": "code",
   "execution_count": null,
   "metadata": {
    "tags": [
     "hide-cell"
    ]
   },
   "outputs": [],
   "source": [
    "numeros = [2, 3, 5, 7]\n",
    "\n",
    "suma = 0\n",
    "for x in numeros:\n",
    "    suma = suma + x\n",
    "\n",
    "suma"
   ]
  },
  {
   "cell_type": "markdown",
   "metadata": {},
   "source": [
    "### Ejercicio 3\n",
    "\n",
    "Reescriba la función `evaluar_cuadratica(x, c)` usando un bucle `for` para sumar los términos.\n",
    "\n",
    "Evalúe el polinomio $f(x) = 2 x^2 + 3 x + 5$ en $x=7$.\n",
    "\n",
    "*Ayuda:*  se puede reescribir el polinomio como una sumatoria,\n",
    "$$ f(x) = c_0 x^0 + c_1 x^1 + c_2 x^2 = \\sum_{k=0}^2 c_k x^k $$"
   ]
  },
  {
   "cell_type": "code",
   "execution_count": null,
   "metadata": {},
   "outputs": [],
   "source": []
  },
  {
   "cell_type": "markdown",
   "metadata": {
    "id": "solution_2"
   },
   "source": [
    "#### Solución"
   ]
  },
  {
   "cell_type": "code",
   "execution_count": null,
   "metadata": {
    "tags": [
     "hide-cell"
    ]
   },
   "outputs": [],
   "source": [
    "def evaluar_cuadratica(x, c):\n",
    "    y = 0\n",
    "    for i in [0, 1, 2]:\n",
    "        y = y + c[i] * x**i\n",
    "    return y\n",
    "\n",
    "\n",
    "evaluar_cuadratica(7, [5, 3, 2])"
   ]
  },
  {
   "cell_type": "markdown",
   "metadata": {},
   "source": [
    "## La función `range`\n",
    "\n",
    "Lo último que nos falta es que los índices que pusimos a mano,\n",
    "```python\n",
    "for i in [0, 1, 2]:\n",
    "    ...\n",
    "```\n",
    "vayan de `0` hasta el final de la lista.\n",
    "\n",
    "Si queremos iterar sobre números desde `0` hasta un dado `n`,\n",
    "sin incluir a este último,\n",
    "podemos usar la función `range`:"
   ]
  },
  {
   "cell_type": "code",
   "execution_count": null,
   "metadata": {},
   "outputs": [],
   "source": [
    "for x in range(3):\n",
    "    print(x)"
   ]
  },
  {
   "cell_type": "markdown",
   "metadata": {},
   "source": [
    "que nos va pasando los números de a uno.\n",
    "\n",
    "Esta función genera los números enteros del intervalo cerrado-abierto $[0, n)$.\n",
    "\n",
    "Es útil que no incluya el último número,\n",
    "ya que podemos hacer `range(len(lista))`\n",
    "para que genere los índices de la lista.\n",
    "\n",
    "La función `range` tiene otras dos variantes:"
   ]
  },
  {
   "cell_type": "markdown",
   "metadata": {},
   "source": [
    "1. podemos cambiar el número en el que inicia con `range(a, b)`,\n",
    "que genera el intervalo $[a,b)$"
   ]
  },
  {
   "cell_type": "code",
   "execution_count": null,
   "metadata": {},
   "outputs": [],
   "source": [
    "for x in range(2, 5):\n",
    "    print(x)"
   ]
  },
  {
   "cell_type": "markdown",
   "metadata": {},
   "source": [
    "2. podemos decirle que dé saltos mayores a 1 entre número y número con `range(a, b, salto)`"
   ]
  },
  {
   "cell_type": "code",
   "execution_count": null,
   "metadata": {},
   "outputs": [],
   "source": [
    "for x in range(4, 9, 2):\n",
    "    print(x)"
   ]
  },
  {
   "cell_type": "markdown",
   "metadata": {},
   "source": [
    "### Ejercicio 4\n",
    "\n",
    "Reescribir la función `evaluar_cuadratica` para un polinomio de grado $n$.\n",
    "\n",
    "Pruebe evaluarla con polinomios de distinto grado."
   ]
  },
  {
   "cell_type": "code",
   "execution_count": null,
   "metadata": {},
   "outputs": [],
   "source": []
  },
  {
   "cell_type": "markdown",
   "metadata": {
    "id": "solution_3"
   },
   "source": [
    "#### Solución"
   ]
  },
  {
   "cell_type": "code",
   "execution_count": null,
   "metadata": {
    "tags": [
     "hide-cell"
    ]
   },
   "outputs": [],
   "source": [
    "def evaluar_polinomio(x, c):\n",
    "    y = 0\n",
    "    for i in range(len(c)):\n",
    "        y = y + c[i] * x**i\n",
    "    return y"
   ]
  },
  {
   "cell_type": "markdown",
   "metadata": {},
   "source": [
    "Para chequear que esté bien,\n",
    "evaluemos para casos sepamos la respuesta.\n",
    "\n",
    "Por ejemplo,\n",
    "potencias de 10:\n",
    "$x^n$ para $x=10$"
   ]
  },
  {
   "cell_type": "markdown",
   "metadata": {},
   "source": [
    "Para $f(x) = x^2$:"
   ]
  },
  {
   "cell_type": "code",
   "execution_count": null,
   "metadata": {},
   "outputs": [],
   "source": [
    "evaluar_polinomio(10, [0, 0, 1])"
   ]
  },
  {
   "cell_type": "markdown",
   "metadata": {},
   "source": [
    "Para $f(x) = x^3$:"
   ]
  },
  {
   "cell_type": "code",
   "execution_count": null,
   "metadata": {},
   "outputs": [],
   "source": [
    "evaluar_polinomio(10, [0, 0, 0, 1])"
   ]
  },
  {
   "cell_type": "markdown",
   "metadata": {},
   "source": [
    "Para $f(x) = 1$:"
   ]
  },
  {
   "cell_type": "code",
   "execution_count": null,
   "metadata": {},
   "outputs": [],
   "source": [
    "evaluar_polinomio(10, [1])"
   ]
  }
 ],
 "metadata": {
  "colab": {
   "collapsed_sections": [
    "solution_0",
    "solution_1",
    "solution_2",
    "solution_3"
   ]
  },
  "language_info": {
   "file_extension": ".py",
   "name": "python"
  }
 },
 "nbformat": 4,
 "nbformat_minor": 4
}
