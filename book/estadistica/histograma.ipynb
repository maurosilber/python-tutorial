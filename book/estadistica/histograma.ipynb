{
 "cells": [
  {
   "cell_type": "markdown",
   "metadata": {},
   "source": [
    "# Histogramas"
   ]
  },
  {
   "cell_type": "code",
   "execution_count": null,
   "metadata": {},
   "outputs": [],
   "source": [
    "import matplotlib.pyplot as plt\n",
    "import numpy as np\n",
    "\n",
    "plt.rc(\"figure\", dpi=100, figsize=(6, 3))"
   ]
  },
  {
   "attachments": {},
   "cell_type": "markdown",
   "metadata": {},
   "source": [
    "## Resumen\n",
    "\n",
    "Dado un conjunto de datos que tenemos en una variable `x`,\n",
    "por ejemplo,\n",
    "datos que cargmos desde un archivo de texto con `x = np.loadtxt(\"mis_datos.txt\")`,\n",
    "podemos hacer un histograma de los datos con `plt.hist`:"
   ]
  },
  {
   "cell_type": "code",
   "execution_count": null,
   "metadata": {
    "tags": [
     "remove-cell"
    ]
   },
   "outputs": [],
   "source": [
    "x = np.random.default_rng(42).normal(10, 1, size=100).round(1)"
   ]
  },
  {
   "cell_type": "code",
   "execution_count": null,
   "metadata": {},
   "outputs": [],
   "source": [
    "plt.hist(x, bins=\"auto\")"
   ]
  },
  {
   "attachments": {},
   "cell_type": "markdown",
   "metadata": {},
   "source": [
    "En la siguientes secciones,\n",
    "se explica:\n",
    "- ¿Qué es un histograma?\n",
    "- ¿Cómo se grafica un histograma?\n",
    "- ¿Cómo se elige la cantidad de intervalos o *bins*?\n",
    "- ¿Cómo comparar y normalizar histogramas?\n",
    "- ¿Qué cuidados hay que tener con variables \"discretas\"?"
   ]
  },
  {
   "cell_type": "markdown",
   "metadata": {},
   "source": [
    "## Histograma\n",
    "\n",
    "Un histograma es una representación de la distribución de datos numéricos.\n",
    "\n",
    "Para construir un histograma,\n",
    "primero hay que dividir el rango de los datos\n",
    "en intervalos o *bins* (del inglés, canastas).\n",
    "Luego,\n",
    "se cuentan cuantos valores caen en cada *bin*.\n",
    "\n",
    "NumPy ya incluye una función para esto: `np.histogram`.\n",
    "Le tenemos que pasar los datos como primer parámetro,\n",
    "y los bordes de los *bins* como segundo parámetro:"
   ]
  },
  {
   "cell_type": "code",
   "execution_count": null,
   "metadata": {},
   "outputs": [],
   "source": [
    "datos = np.array([1, 2, 5, 6, 7, 9])\n",
    "bordes = np.array([0, 4, 8, 12])\n",
    "\n",
    "np.histogram(datos, bins=bordes)"
   ]
  },
  {
   "cell_type": "markdown",
   "metadata": {},
   "source": [
    "El primer array que devuelve\n",
    "es la cantidad de datos en cada *bin*:\n",
    "- entre 0 y 4, encontró 2 valores,\n",
    "- entre 4 y 8, encontró 3 valores,\n",
    "- entre 8 y 12, encontró 1 valor.\n",
    "\n",
    "El segundo array es el mismo array de bordes que le pasamos.\n",
    "\n",
    "Devuelve este segundo array porque,\n",
    "en lugar de darle explícitamente bordes,\n",
    "le podemos decir que genere una cantidad de bins:"
   ]
  },
  {
   "cell_type": "code",
   "execution_count": null,
   "metadata": {},
   "outputs": [],
   "source": [
    "num_bins = 3\n",
    "np.histogram(datos, bins=num_bins)"
   ]
  },
  {
   "cell_type": "markdown",
   "metadata": {},
   "source": [
    "Noten que cambió la cantidad de valores en cada bin,\n",
    "porque cambió la posición de los bins.\n",
    "\n",
    "Cuando genera los *bins*,\n",
    "internamente hace lo siguiente:"
   ]
  },
  {
   "cell_type": "code",
   "execution_count": null,
   "metadata": {},
   "outputs": [],
   "source": [
    "num_bordes = num_bins + 1\n",
    "np.linspace(np.min(datos), np.max(datos), num_bordes)"
   ]
  },
  {
   "cell_type": "markdown",
   "metadata": {},
   "source": [
    "Es decir,\n",
    "genera los bordes equiespaciados\n",
    "entre el mínimo y máximo de los datos."
   ]
  },
  {
   "cell_type": "markdown",
   "metadata": {},
   "source": [
    "## Gráfico de histograma"
   ]
  },
  {
   "cell_type": "markdown",
   "metadata": {},
   "source": [
    "Generalmente,\n",
    "para graficar un histograma,\n",
    "se realiza un gráfico de barras,\n",
    "donde la altura corresponde a la cantidad de valores,\n",
    "y el ancho esta dado por el intervalo que ocupa un *bin*.\n",
    "\n",
    "Para realizar un (gráfico de) histograma,\n",
    "pueden usar la función `plt.hist` de matplotlib:"
   ]
  },
  {
   "cell_type": "code",
   "execution_count": null,
   "metadata": {},
   "outputs": [],
   "source": [
    "plt.hist(datos, bins=bordes)\n",
    "\n",
    "plt.xlabel(\"Magnitud [unidad]\")\n",
    "plt.ylabel(\"Cantidad de valores\")"
   ]
  },
  {
   "cell_type": "markdown",
   "metadata": {},
   "source": [
    ":::{note}\n",
    "Como los datos son inventados,\n",
    "los nombres de los ejes son genéricos.\n",
    "En un caso particular,\n",
    "pueden poner nombres más explícitos.\n",
    "Por ejemplo,\n",
    "si los datos fuesen de alturas de personas,\n",
    "pueden poner `Altura [cm]` en el eje x,\n",
    "y `Cantidad de personas` en el eje y.\n",
    ":::"
   ]
  },
  {
   "cell_type": "markdown",
   "metadata": {},
   "source": [
    "Internamente,\n",
    "`plt.hist` llama la función `np.histogram`,\n",
    "y usa el resultado para realizar el gráfico de barras.\n",
    "\n",
    "La primer barra está entre 0 y 4,\n",
    "porque así habíamos definido los bordes para el primer bin,\n",
    "y tiene altura 2, porque hay dos valores ahí.\n",
    "\n",
    "Si le pasamos la cantidad de bins,\n",
    "va a hacer un gráfico distinto."
   ]
  },
  {
   "cell_type": "code",
   "execution_count": null,
   "metadata": {},
   "outputs": [],
   "source": [
    "plt.hist(datos, bins=3, edgecolor=\"black\")  # le pintamos los bordes\n",
    "plt.ylabel(\"Cantidad de valores\")"
   ]
  },
  {
   "cell_type": "markdown",
   "metadata": {},
   "source": [
    "Hay una arbitrariedad al elegir\n",
    "la cantidad y posición de\n",
    "los *bins*.\n",
    "¿Cuál es el \"correcto\"?"
   ]
  },
  {
   "cell_type": "markdown",
   "metadata": {},
   "source": [
    "## Cantidad de bins\n",
    "\n",
    "En general,\n",
    "no tiene sentido hacer un histograma con tan pocos datos.\n",
    "\n",
    "Para mostrar que sucede al armar un histograma con muchos datos,\n",
    "vamos a usar un generador de números (pseudo)aleatorios."
   ]
  },
  {
   "cell_type": "code",
   "execution_count": null,
   "metadata": {},
   "outputs": [],
   "source": [
    "np.random.seed(0)  # con esto, se repite la secuencia pseudoaleatoria.\n",
    "datos = np.random.normal(size=3_000)"
   ]
  },
  {
   "cell_type": "markdown",
   "metadata": {},
   "source": [
    "En la linea anterior,\n",
    "generamos 3000 números con una distribución particular,\n",
    "llamada distribución normal o gaussiana.\n",
    "\n",
    "Veamos los 5 primeros:"
   ]
  },
  {
   "cell_type": "code",
   "execution_count": null,
   "metadata": {},
   "outputs": [],
   "source": [
    "datos[:5]"
   ]
  },
  {
   "cell_type": "markdown",
   "metadata": {},
   "source": [
    "Una forma posible de visualizar estos datos\n",
    "es con un gráfico de puntos:"
   ]
  },
  {
   "cell_type": "code",
   "execution_count": null,
   "metadata": {},
   "outputs": [],
   "source": [
    "plt.plot(datos, marker=\".\", linestyle=\"\")\n",
    "\n",
    "plt.xlabel(\"Índice del dato\")\n",
    "plt.ylabel(\"Valor del dato\")"
   ]
  },
  {
   "cell_type": "markdown",
   "metadata": {},
   "source": [
    "Pero este gráfico\n",
    "no nos permite apreciar la densidad de puntos.\n",
    "\n",
    "Está claro que\n",
    "hay más puntos en el intervalo $(0, 1)$\n",
    "que en el intervalo $(3, 4)$.\n",
    "\n",
    "Pero,\n",
    "¿hay más puntos en $(0.0, 0.5)$ o en $(0.5, 1.0)$?\n",
    "¿O hay aproximadamente la misma cantidad?\n",
    "\n",
    "Un histograma nos permite contestar esta pregunta.\n",
    "\n",
    "¿Y cómo elegimos los *bins*?\n",
    "Una opción,\n",
    "es dejar que los elija automáticamente,\n",
    "en base a un algoritmo:"
   ]
  },
  {
   "cell_type": "code",
   "execution_count": null,
   "metadata": {},
   "outputs": [],
   "source": [
    "plt.hist(datos, bins=\"auto\")\n",
    "plt.ylabel(\"Cantidad de datos\")"
   ]
  },
  {
   "cell_type": "markdown",
   "metadata": {},
   "source": [
    "Con este gráfico,\n",
    "podemos entender mejor la distribución de números.\n",
    "Hay más datos alrededor del 0,\n",
    "y la cantidad disminuye a medida que nos alejamos.\n",
    "\n",
    "Pero la elección automática de *bins* puede fallar.\n",
    "Veamos que pasa si variamos el número a mano:"
   ]
  },
  {
   "cell_type": "code",
   "execution_count": null,
   "metadata": {},
   "outputs": [],
   "source": [
    "fig, axes = plt.subplots(1, 5, figsize=(10, 2))\n",
    "fig.tight_layout()\n",
    "\n",
    "for ax, n_bins in zip(axes, (1, 5, 40, 300, 1_000)):\n",
    "    ax.hist(datos, bins=n_bins)\n",
    "    ax.set(title=f\"#bins = {n_bins}\")"
   ]
  },
  {
   "cell_type": "markdown",
   "metadata": {},
   "source": [
    "En el primer caso,\n",
    "con un solo bin,\n",
    "solo nos enteramos de:\n",
    "- la cantidad total de datos, es decir, la altura de la barra,\n",
    "- el mínimo y el máximo de los datos, el intervalo que cubre la barra.\n",
    "\n",
    "Si aumentamos a 5 bins,\n",
    "aprendemos un poco más de la distribución:\n",
    "no están uniformemente distribuidos en ese rango,\n",
    "sino que hay más alrededor del centro.\n",
    "\n",
    "Y si llegamos a 40,\n",
    "vemos que la distribución tiene una forma particular,\n",
    "de campana.\n",
    "\n",
    "Pero,\n",
    "si seguimos subiendo la cantidad,\n",
    "en algún momento se deja de ver una forma \"suave\",\n",
    "como en el caso de 300 bins.\n",
    "De un bin al siguiente,\n",
    "cambia significativamente la cantidad de datos.\n",
    "\n",
    "Y si subimos mucho la cantidad,\n",
    "como en el de 1000 bins,\n",
    "ya se deja de distinguir la forma.\n",
    "Parece más una pirámide que una campana.\n",
    "\n",
    "En el limite de muchos bins,\n",
    "cada bin tendría un solo dato,\n",
    "y sería como haber hecho el gráfico de puntos\n",
    "que hicimos antes.\n",
    "\n",
    "En general,\n",
    "la elección de bins va a depender\n",
    "tanto de la cantidad de datos que tengamos\n",
    "como de la distribución que tengan dichos datos."
   ]
  },
  {
   "cell_type": "markdown",
   "metadata": {},
   "source": [
    "## Comparando histogramas"
   ]
  },
  {
   "cell_type": "markdown",
   "metadata": {},
   "source": [
    "### Graficando múltiples histogramas\n",
    "\n",
    "Supongamos que tenemos dos series de 1000 datos:"
   ]
  },
  {
   "cell_type": "code",
   "execution_count": null,
   "metadata": {},
   "outputs": [],
   "source": [
    "x1 = np.random.normal(loc=0, size=1000)\n",
    "x2 = np.random.normal(loc=0.5, size=1000)"
   ]
  },
  {
   "cell_type": "markdown",
   "metadata": {},
   "source": [
    "y queremos comparar sus histogramas.\n",
    "\n",
    "Al hacer múltiples histogramas,\n",
    "el nuevo histograma tapa el anterior."
   ]
  },
  {
   "cell_type": "code",
   "execution_count": null,
   "metadata": {},
   "outputs": [],
   "source": [
    "plt.hist(x1, bins=30)\n",
    "plt.hist(x2, bins=30)\n",
    "plt.ylabel(\"Cantidad de datos\")"
   ]
  },
  {
   "cell_type": "markdown",
   "metadata": {},
   "source": [
    "En ese caso,\n",
    "pueden agregarle la opción `histtype=\"step\"`\n",
    "para cambiar la forma en que grafica:"
   ]
  },
  {
   "cell_type": "code",
   "execution_count": null,
   "metadata": {},
   "outputs": [],
   "source": [
    "bins = np.linspace(-4, 4, 30)\n",
    "\n",
    "plt.hist(x1, bins=bins, histtype=\"step\")\n",
    "plt.hist(x2, bins=bins, histtype=\"step\")\n",
    "plt.ylabel(\"Cantidad de datos\")"
   ]
  },
  {
   "cell_type": "markdown",
   "metadata": {},
   "source": [
    ":::{tip}\n",
    "Para muchos bins,\n",
    "`histtype=\"step\"` tarda mucho menos en hacer el gráfico.\n",
    ":::"
   ]
  },
  {
   "cell_type": "markdown",
   "metadata": {},
   "source": [
    "### Normalizando histogramas\n",
    "\n",
    "Capaz notaron que,\n",
    "en el gráfico anterior,\n",
    "generamos los bins aparte,\n",
    "en lugar de decirle la cantidad de bins a `plt.hist`.\n",
    "\n",
    "Esto se debe a que\n",
    "la altura del histograma\n",
    "no solo depende de la cantidad de bins,\n",
    "sino también del ancho de bin.\n",
    "Un bin más ancho engloba más cantidad de datos.\n",
    "\n",
    "Miremos el siguiente ejemplo,\n",
    "donde graficamos los mismos datos dos veces,\n",
    "pero con distinta cantidad de bins:"
   ]
  },
  {
   "cell_type": "code",
   "execution_count": null,
   "metadata": {},
   "outputs": [],
   "source": [
    "x = np.random.normal(loc=0, scale=1, size=1000)\n",
    "\n",
    "plt.hist(x, bins=10, histtype=\"step\")\n",
    "plt.hist(x, bins=20, histtype=\"step\")\n",
    "plt.ylabel(\"Cantidad de datos\")"
   ]
  },
  {
   "cell_type": "markdown",
   "metadata": {},
   "source": [
    "Entonces,\n",
    "si queremos comparar en cantidad de datos,\n",
    "tenemos que usar los mismos bins.\n",
    "No tiene sentido\n",
    "comparar la cantidad de datos\n",
    "en el intervalo $(0, 1)$ contra la de $(0, 5)$.\n",
    "\n",
    "Pero no siempre nos conviene usar la misma cantidad de bins.\n",
    "Si tenemos dos series de datos\n",
    "con diferente cantidad de datos,\n",
    "100 y 10.000,\n",
    "vamos a querer graficar el segundo con bins más angostos,\n",
    "para apreciar mejor su forma.\n",
    "\n",
    "Para esos casos,\n",
    "podemos *normalizar* el histograma\n",
    "con el parámetro `density=True`:"
   ]
  },
  {
   "cell_type": "code",
   "execution_count": null,
   "metadata": {},
   "outputs": [],
   "source": [
    "plt.hist(x, bins=10, histtype=\"step\", density=True)\n",
    "plt.hist(x, bins=20, histtype=\"step\", density=True)\n",
    "plt.ylabel(\"Densidad de fracción de valores\")"
   ]
  },
  {
   "cell_type": "markdown",
   "metadata": {},
   "source": [
    "La normalización es tal que\n",
    "el área de cada bin,\n",
    "es decir,\n",
    "su ancho por su altura,\n",
    "es la fracción de valores que cayeron ahí.\n",
    "Por lo tanto,\n",
    "la suma de las áreas da 1 (o, 100%).\n",
    "\n",
    ":::{warning}\n",
    "Esta normalización solo es válida para variables continuas.\n",
    "Si queremos normalizar un histograma de variables discretas,\n",
    "como el resultado de tirar muchas veces un dado,\n",
    "la normalización tiene que ser tal que la suma de las alturas\n",
    "(no el área)\n",
    "sea 1.\n",
    ":::\n",
    "\n",
    "Si se fijan atentamente,\n",
    "cada bin azul es el promedio\n",
    "de los dos bins naranjas que abarca.\n",
    "Pero justo porque estamos comparando 10 contra 20 bins y quedan alineados."
   ]
  },
  {
   "cell_type": "markdown",
   "metadata": {},
   "source": [
    "## Extra\n",
    "\n",
    "### Datos truncados\n",
    "\n",
    "En física,\n",
    "generalmente trabajamos con datos continuos,\n",
    "como tiempos o longitudes.\n",
    "Sin embargo,\n",
    "cuando medimos tenemos una precisión finita,\n",
    "y las mediciones se truncan a una cierta cantidad de dígitos.\n",
    "Esto puede traer problemas al hacer un histograma\n",
    "si el ancho de bin es del orden de dicha precisión.\n",
    "\n",
    "Por ejemplo,\n",
    "supongamos que medimos con un cronómetro\n",
    "que mide a la décima de segundo.\n",
    "Un valor de tiempo \"real\" $t=3.141592... \\text{ s}$\n",
    "lo mediríamos como $t=3.1 \\text{ s}$. Podemos simular esto con la función `np.round`:"
   ]
  },
  {
   "cell_type": "code",
   "execution_count": null,
   "metadata": {},
   "outputs": [],
   "source": [
    "np.round(3.141592, 1)"
   ]
  },
  {
   "cell_type": "markdown",
   "metadata": {},
   "source": [
    "Entonces,\n",
    "generemos muchos datos,\n",
    "redondeémoslos,\n",
    "y comparemos sus histogramas."
   ]
  },
  {
   "cell_type": "code",
   "execution_count": null,
   "metadata": {},
   "outputs": [],
   "source": [
    "x = np.random.normal(loc=0, scale=1, size=10_000)\n",
    "y = np.round(x, 1)"
   ]
  },
  {
   "cell_type": "markdown",
   "metadata": {},
   "source": [
    "#### Caso 1: bins más chicos que la resolución"
   ]
  },
  {
   "cell_type": "code",
   "execution_count": null,
   "metadata": {},
   "outputs": [],
   "source": [
    "ancho_bin = 0.08\n",
    "bins = np.arange(np.min(y), np.max(y), ancho_bin)\n",
    "\n",
    "fig, axes = plt.subplots(2, 1, sharex=True)\n",
    "axes[0].hist(x, bins=bins, label=\"Sin redondear\")\n",
    "axes[1].hist(y, bins=bins, label=\"Redondeados\")\n",
    "for ax in axes:\n",
    "    ax.set(ylabel=\"Cantidad de datos\")\n",
    "    ax.legend()"
   ]
  },
  {
   "cell_type": "markdown",
   "metadata": {},
   "source": [
    "La forma del histograma es parecida,\n",
    "pero el redondeado tiene *huecos* cada tanto.\n",
    "\n",
    "Esto se debe a que\n",
    "el ancho de bin,\n",
    "`0.08`,\n",
    "ligeramente más chico que la resolución,\n",
    "`0.1`,\n",
    "cada cierta cantidad de bins,\n",
    "un bin no encuentra ningún valor en ese rango.\n",
    "\n",
    "Por ejemplo,\n",
    "si un bin va de 0.03 a 0.11,\n",
    "el siguiente va a ir de 0.11 a 0.19,\n",
    "y no va a encontrar ninguna medición ahí.\n",
    "Las mediciones que cayeron en ese rango\n",
    "se redondearon a 0.1 o 0.2."
   ]
  },
  {
   "cell_type": "markdown",
   "metadata": {},
   "source": [
    "#### Caso 2: bins más grandes que la resolución"
   ]
  },
  {
   "cell_type": "code",
   "execution_count": null,
   "metadata": {},
   "outputs": [],
   "source": [
    "ancho_bin = 0.14\n",
    "bins = np.arange(np.min(y), np.max(y), ancho_bin)\n",
    "\n",
    "fig, axes = plt.subplots(2, 1, sharex=True)\n",
    "axes[0].hist(x, bins=bins, label=\"Sin redondear\")\n",
    "axes[1].hist(y, bins=bins, label=\"Redondeados\")\n",
    "for ax in axes:\n",
    "    ax.set(ylabel=\"Cantidad de datos\")\n",
    "    ax.legend()"
   ]
  },
  {
   "cell_type": "markdown",
   "metadata": {},
   "source": [
    "En este caso,\n",
    "no hay huecos en el histograma,\n",
    "pero se ven estos picos\n",
    "con muchos más datos que sus vecinos.\n",
    "\n",
    "Al redondear,\n",
    "los datos solo pueden caer en lugares discretos,\n",
    "múltiplos de la resolución,\n",
    "`0.1`.\n",
    "Al ser el ancho de bin un poco más grande que la resolución,\n",
    "cada cierta cantidad de bins,\n",
    "un bin abarca dos de estos lugares discretos.\n",
    "\n",
    "Pueden ver lo mismo en este caso más simple,\n",
    "con datos equiespaciados en `0.1`,\n",
    "y pero bins de ancho `0.14`:"
   ]
  },
  {
   "cell_type": "code",
   "execution_count": null,
   "metadata": {},
   "outputs": [],
   "source": [
    "datos = np.array([0.1, 0.2, 0.3, 0.4, 0.5])\n",
    "bordes = 0.14 * np.array([0, 1, 2, 3, 4])\n",
    "\n",
    "plt.hist(datos, bordes, edgecolor=\"k\")\n",
    "plt.scatter(datos, np.full_like(datos, 0.1), color=\"C1\", label=\"datos\")\n",
    "plt.legend()\n",
    "\n",
    "bordes"
   ]
  },
  {
   "cell_type": "markdown",
   "metadata": {},
   "source": [
    "#### Caso 3: bins proporcionales a la resolución\n",
    "\n",
    "Si usamos un múltiplo de la resolución\n",
    "para el ancho de bin,\n",
    "se resuelve el problema que mencionamos:"
   ]
  },
  {
   "cell_type": "code",
   "execution_count": null,
   "metadata": {},
   "outputs": [],
   "source": [
    "resolucion = 0.1\n",
    "\n",
    "ancho_bin = 2 * resolucion\n",
    "bins = np.arange(np.min(y), np.max(y), ancho_bin)\n",
    "plt.hist(y, bins=bins, density=True, histtype=\"step\", label=\"Sí - x2\")\n",
    "\n",
    "ancho_bin = 2.5 * resolucion\n",
    "bins = np.arange(np.min(y), np.max(y), ancho_bin)\n",
    "plt.hist(y, bins=bins, density=True, histtype=\"step\", label=\"No - x2.5\")\n",
    "\n",
    "plt.legend(title=\"Múltiplo de la resolución\")\n",
    "plt.ylabel(\"Cantidad de datos\")"
   ]
  },
  {
   "cell_type": "markdown",
   "metadata": {},
   "source": [
    "Este problema no es tan relevante\n",
    "cuando el ancho de bin es mucho mayor\n",
    "a la resolución de nuestras mediciones.\n",
    "\n",
    "Por ejemplo,\n",
    "con un ancho de ~5 veces la resolución,\n",
    "ya no es tan relevante:"
   ]
  },
  {
   "cell_type": "code",
   "execution_count": null,
   "metadata": {},
   "outputs": [],
   "source": [
    "resolucion = 0.1\n",
    "\n",
    "ancho_bin = 5 * resolucion\n",
    "bins = np.arange(np.min(y), np.max(y), ancho_bin)\n",
    "plt.hist(y, bins=bins, density=True, histtype=\"step\", label=\"Sí - x5\")\n",
    "\n",
    "ancho_bin = 5.5 * resolucion\n",
    "bins = np.arange(np.min(y), np.max(y), ancho_bin)\n",
    "plt.hist(y, bins=bins, density=True, histtype=\"step\", label=\"No - x5.5\")\n",
    "\n",
    "plt.legend(title=\"Múltiplo de la resolución\")\n",
    "plt.ylabel(\"Cantidad de datos\")"
   ]
  },
  {
   "cell_type": "markdown",
   "metadata": {},
   "source": [
    "Si llegaran a tener este problema,\n",
    "acá les dejamos una función\n",
    "para generar $N$ bins para datos truncados por la resolución:"
   ]
  },
  {
   "cell_type": "code",
   "execution_count": null,
   "metadata": {},
   "outputs": [],
   "source": [
    "def generar_bins_truncados(datos, resolucion: float, n_bins: int):\n",
    "    \"\"\"Genera bins para datos truncados a una dada resolución.\"\"\"\n",
    "    # Como el ancho de bin va a ser un múltiplo de la resolución,\n",
    "    # le sumo y resto media resolución a los extremos,\n",
    "    # para no tener problemas numéricos en los bordes de los bins.\n",
    "    x_min = np.min(datos) - resolucion / 2\n",
    "    x_max = np.max(datos) + resolucion / 2\n",
    "    # El paso para dividir el intervalo en n_bins\n",
    "    paso = (x_max - x_min) / n_bins\n",
    "    # que convierto en un múltiplo de la resolución\n",
    "    paso = np.ceil(paso / resolucion) * resolucion\n",
    "    bins = x_min + paso * np.arange(n_bins + 1)\n",
    "    return bins\n",
    "\n",
    "\n",
    "n = 30\n",
    "plt.hist(y, bins=n, histtype=\"step\", density=True, label=\"Sin truncar\")\n",
    "plt.hist(\n",
    "    y,\n",
    "    bins=generar_bins_truncados(y, resolucion=0.1, n_bins=n),\n",
    "    histtype=\"step\",\n",
    "    density=True,\n",
    "    label=\"Truncados\",\n",
    ")\n",
    "plt.legend()"
   ]
  }
 ],
 "metadata": {
  "kernelspec": {
   "display_name": "python",
   "language": "python",
   "name": "python"
  },
  "language_info": {
   "file_extension": ".py",
   "name": "python"
  }
 },
 "nbformat": 4,
 "nbformat_minor": 0
}
