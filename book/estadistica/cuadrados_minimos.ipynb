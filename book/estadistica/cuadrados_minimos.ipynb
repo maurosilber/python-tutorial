{
 "cells": [
  {
   "cell_type": "markdown",
   "metadata": {},
   "source": [
    "# Cuadrados mínimos\n",
    "\n",
    "Para realizar un ajuste de una función por cuadrados mínimos,\n",
    "vamos a usar la función `curve_fit` de `scipy.optimize`."
   ]
  },
  {
   "cell_type": "code",
   "execution_count": null,
   "metadata": {},
   "outputs": [],
   "source": [
    "import numpy as np\n",
    "import matplotlib.pyplot as plt\n",
    "from scipy.optimize import curve_fit\n",
    "\n",
    "plt.rc(\"figure\", dpi=100)\n",
    "np.random.seed(1)"
   ]
  },
  {
   "cell_type": "markdown",
   "metadata": {},
   "source": [
    ":::{note}\n",
    "Hay funciones especializadas para casos particulares,\n",
    "como los casos lineales,\n",
    "que son más eficientes.\n",
    ":::"
   ]
  },
  {
   "cell_type": "markdown",
   "metadata": {},
   "source": [
    "## Motivación\n",
    "\n",
    "Supongamos que tenemos una serie de $N$ mediciones $(x_i, y_i)$,\n",
    "y sabemos que están relacionadas por una dada función $f$:\n",
    "\n",
    "$$ y = f(x, p_1, \\ldots, p_k) $$\n",
    "\n",
    "donde $p_1, \\ldots, p_k$ son parámetros de la función\n",
    "que queremos determinar.\n",
    "\n",
    "Por ejemplo,\n",
    "supongamos que la función es $y = Ax$,\n",
    "y queremos determinar el parámetro $A$\n",
    "a partir de los siguientes datos:"
   ]
  },
  {
   "cell_type": "code",
   "execution_count": null,
   "metadata": {},
   "outputs": [],
   "source": [
    "x = np.array([1, 2, 3, 4, 5])\n",
    "y = 3 * x  # la constante A es 3!\n",
    "\n",
    "plt.plot(x, y, marker=\"o\")"
   ]
  },
  {
   "cell_type": "markdown",
   "metadata": {},
   "source": [
    "En este caso,\n",
    "alcanzaría con dividir $y/x$\n",
    "para obtener $A$:"
   ]
  },
  {
   "cell_type": "code",
   "execution_count": null,
   "metadata": {},
   "outputs": [],
   "source": [
    "y / x"
   ]
  },
  {
   "cell_type": "markdown",
   "metadata": {},
   "source": [
    "Pero,\n",
    "estas \"mediciones\" son perfectas,\n",
    "sin ninguna incerteza.\n",
    "En la práctica,\n",
    "todas las mediciones tienen un error.\n",
    "\n",
    "Simulemos una medición agregándole error a los datos:"
   ]
  },
  {
   "cell_type": "code",
   "execution_count": null,
   "metadata": {},
   "outputs": [],
   "source": [
    "y_error = 1  # la desviación estándar\n",
    "y_medido = np.random.normal(y, scale=y_error)\n",
    "\n",
    "plt.plot(x, y, label=\"Ideal\")\n",
    "plt.scatter(x, y_medido, label=\"Medido\")\n",
    "plt.legend()"
   ]
  },
  {
   "cell_type": "markdown",
   "metadata": {},
   "source": [
    "Si tratamos de determinar $A$\n",
    "a partir de estas mediciones,\n",
    "no obtenemos exactamente $3$:"
   ]
  },
  {
   "cell_type": "code",
   "execution_count": null,
   "metadata": {},
   "outputs": [],
   "source": [
    "y_medido / x"
   ]
  },
  {
   "cell_type": "markdown",
   "metadata": {},
   "source": [
    "Obtenemos una pendiente $A$ distinta\n",
    "para cada medición.\n",
    "¿Cómo podemos unificarlas?\n",
    "\n",
    "Una opción \"incorrecta\" para combinarlas\n",
    "es hacer un promedio de estos valores:"
   ]
  },
  {
   "cell_type": "code",
   "execution_count": null,
   "metadata": {},
   "outputs": [],
   "source": [
    "np.mean(y_medido / x)"
   ]
  },
  {
   "cell_type": "markdown",
   "metadata": {},
   "source": [
    "Pero hay una manera más general de resolver este problema,\n",
    "que es realizar un ajuste por cuadrados mínimos."
   ]
  },
  {
   "cell_type": "markdown",
   "metadata": {},
   "source": [
    "## Ajuste por cuadrados mínimos"
   ]
  },
  {
   "cell_type": "markdown",
   "metadata": {},
   "source": [
    "Para realizar un ajuste por cuadrados mínimos,\n",
    "vamos a usar la función `curve_fit` de `scipy.optimize`.\n",
    "\n",
    "`curve_fit` necesita (al menos) 3 parámetros:\n",
    "\n",
    "1. `f`, la función que queremos ajustar,\n",
    "2. `xdata`, el array de datos en $x$,\n",
    "3. `ydata`, el array de datos en $y$.\n",
    "\n",
    ":::{important}\n",
    "Es importante el orden de los parámetros al definir `f`.\n",
    "Primero va la variable `x`,\n",
    "y después los parámetros a determinar.\n",
    ":::"
   ]
  },
  {
   "cell_type": "code",
   "execution_count": null,
   "metadata": {},
   "outputs": [],
   "source": [
    "def lineal(x, A):\n",
    "    return A * x\n",
    "\n",
    "\n",
    "p_opt, p_cov = curve_fit(lineal, x, y_medido)\n",
    "\n",
    "p_opt, p_cov"
   ]
  },
  {
   "cell_type": "markdown",
   "metadata": {},
   "source": [
    "`curve_fit` devuelve dos valores:\n",
    "- `p_opt` es un array que contiene los valores óptimos de los parámetros,\n",
    "- `p_cov` es la matriz de covarianza de los parámetros.\n",
    "\n",
    "En este caso,\n",
    "- `p_opt` es un array de tamaño $1$ que contiene el valor óptimo de $A$,\n",
    "- `p_cov` es una matriz de $1\\times1$ que contiene la varianza de $A$.\n",
    "\n",
    "Entonces,\n",
    "podemos calcular el error de $A$\n",
    "como la raíz de la varianza."
   ]
  },
  {
   "cell_type": "code",
   "execution_count": null,
   "metadata": {},
   "outputs": [],
   "source": [
    "A_optimo = p_opt[0]\n",
    "A_error = p_cov[0, 0] ** 0.5\n",
    "\n",
    "A_optimo, A_error"
   ]
  },
  {
   "cell_type": "markdown",
   "metadata": {},
   "source": [
    "El valor obtenido no da exactamente 3,\n",
    "pero el intervalo `A_optimo ± A_error` es compatible con $A=3$."
   ]
  },
  {
   "cell_type": "markdown",
   "metadata": {},
   "source": [
    "## Graficar el ajuste\n",
    "\n",
    "Para graficar el ajuste,\n",
    "podemos usar la misma función que le pasamos a `curve_fit`.\n",
    "La evaluamos en los datos `x` y el parámetro `A_optimo`.\n",
    "\n",
    "Para graficar los datos,\n",
    "se los suele graficar como puntos con barra de error."
   ]
  },
  {
   "cell_type": "code",
   "execution_count": null,
   "metadata": {},
   "outputs": [],
   "source": [
    "y_pred = lineal(x, A_optimo)  # El \"y\" predicho a partir del ajuste\n",
    "\n",
    "plt.errorbar(x, y_medido, yerr=y_error, fmt=\"o\", label=\"Ajuste\")\n",
    "plt.plot(x, y_pred, label=\"Mediciones\")\n",
    "plt.legend()"
   ]
  },
  {
   "cell_type": "markdown",
   "metadata": {},
   "source": [
    "Generalmente,\n",
    "se acompaña este gráfico con\n",
    "el gráfico de los residuos.\n",
    "\n",
    "Los residuos $r_i$ son la diferencia entre\n",
    "la función $f(x_i)$\n",
    "y la medición $y_i$ correspondiente a dicho $x_i$:\n",
    "$$ r_i = y_i - f(x_i) $$\n",
    "donde se usan los parámetros óptimos para la función.\n",
    "\n",
    "Para graficar los residuos,\n",
    "se suele agregar un segundo gráfico debajo,\n",
    "ya que comparten en eje $x$.\n",
    "Es decir,\n",
    "$y_i$ y $r_i$ comparten el mismo $x_i$."
   ]
  },
  {
   "cell_type": "code",
   "execution_count": null,
   "metadata": {},
   "outputs": [],
   "source": [
    "y_pred = lineal(x, A_optimo)\n",
    "residuos = y_medido - y_pred\n",
    "\n",
    "fig, ax = plt.subplots(\n",
    "    2, 1, sharex=True, figsize=(6, 6), gridspec_kw={\"height_ratios\": (2, 1)}\n",
    ")\n",
    "\n",
    "ax[0].errorbar(x, y_medido, yerr=y_error, fmt=\"o\")\n",
    "ax[0].plot(x, y_pred)\n",
    "\n",
    "ax[1].errorbar(x, residuos, yerr=y_error, fmt=\"o\")\n",
    "ax[1].axhline(0, color=\"black\")\n",
    "\n",
    "ax[0].set(ylabel=\"Magnitud [unidad]\")\n",
    "ax[1].set(ylabel=\"Residuos [unidad]\", xlabel=\"Otra magnitud [otra unidad]\")"
   ]
  },
  {
   "cell_type": "markdown",
   "metadata": {},
   "source": [
    "Los residuos tienen la misma unidad que el eje $y$,\n",
    "y el residuo $r_i$ tiene el mismo error que la medición $y_i$.\n",
    "\n",
    "Los residuos nos permiten hacer un \"zoom\"\n",
    "a la diferencia entre las mediciones y la curva teórica."
   ]
  },
  {
   "cell_type": "markdown",
   "metadata": {},
   "source": [
    "## Ejercicio 1\n",
    "\n",
    "Usando el siguiente conjunto de datos:\n",
    "\n",
    "```python\n",
    "y = np.array([11.5, 10.2, 10.4,  9.1,  8. ,  9.7, 10.2, 11.2, 11.2,  9.6])\n",
    "```\n",
    "\n",
    "ajustar por cuadrados mínimos\n",
    "una función constante,\n",
    "es decir,\n",
    "$f(x) = A$.\n",
    "\n",
    "Comparar el resultado contra\n",
    "el promedio $\\bar{x}$\n",
    "y el error del promedio $\\sigma_{\\bar{x}}$.\n",
    "\n",
    ":::{note}\n",
    "Para `x`,\n",
    "no debería importar los valores que se usan,\n",
    "mientras sea del mismo largo que `y`.\n",
    ":::"
   ]
  },
  {
   "cell_type": "code",
   "execution_count": null,
   "metadata": {},
   "outputs": [],
   "source": [
    "# Escriba aquí su solución"
   ]
  },
  {
   "cell_type": "markdown",
   "metadata": {
    "id": "solution_0"
   },
   "source": [
    "### Solución"
   ]
  },
  {
   "cell_type": "code",
   "execution_count": null,
   "metadata": {
    "tags": [
     "hide-cell"
    ]
   },
   "outputs": [],
   "source": [
    "y = np.array([11.5, 10.2, 10.4, 9.1, 8.0, 9.7, 10.2, 11.2, 11.2, 9.6])\n",
    "x = np.arange(y.size)\n",
    "\n",
    "\n",
    "def constante(x, A):\n",
    "    return A\n",
    "\n",
    "\n",
    "p_opt, p_cov = curve_fit(constante, x, y)\n",
    "\n",
    "A_opt = p_opt[0]\n",
    "A_error = p_cov[0, 0] ** 0.5\n",
    "\n",
    "promedio = np.mean(y)\n",
    "error_promedio = np.std(y, ddof=1) / np.size(y) ** 0.5\n",
    "# ddof=1 es para que divida por N-1 al calcular la desviación estándar\n",
    "\n",
    "print(\"                 A = \", A_opt)\n",
    "print(\"          promedio = \", promedio)\n",
    "print(\"        error de A = \", A_error)\n",
    "print(\"error del promedio = \", error_promedio)"
   ]
  },
  {
   "cell_type": "markdown",
   "metadata": {},
   "source": [
    "## Errores diferentes en `y`\n",
    "\n",
    "Por defecto,\n",
    "`curve_fit` asume que los errores en `y` son iguales.\n",
    "Pero,\n",
    "si cada `y` tiene un error distinto,\n",
    "podemos tenerlo en cuenta,\n",
    "para que le dé mayor peso a las mediciones con menor error.\n",
    "\n",
    "Por ejemplo,\n",
    "en los siguientes datos,\n",
    "las mediciones para `x=3` y `x=4`\n",
    "tienen 10 veces más incerteza\n",
    "que las mediciones para `x=1` y `x=2`:"
   ]
  },
  {
   "cell_type": "code",
   "execution_count": null,
   "metadata": {},
   "outputs": [],
   "source": [
    "np.random.seed(42)\n",
    "x = np.array([1, 2, 3, 4])\n",
    "y_error = np.array([1, 1, 10, 10])\n",
    "y = 3 * x\n",
    "y = np.random.normal(y, scale=y_error)\n",
    "\n",
    "plt.errorbar(x, y, yerr=y_error, fmt=\"o\")"
   ]
  },
  {
   "cell_type": "markdown",
   "metadata": {},
   "source": [
    "\n",
    "Para pasarle los errores a `curve_fit`,\n",
    "hay que pasarle un array (del mismo tamaño que `ydata`)\n",
    "en el parámetro `sigma`:"
   ]
  },
  {
   "cell_type": "code",
   "execution_count": null,
   "metadata": {},
   "outputs": [],
   "source": [
    "p_opt, p_cov = curve_fit(lineal, x, y, sigma=y_error)\n",
    "\n",
    "A_opt = p_opt[0]\n",
    "A_err = p_cov[0, 0] ** 0.5\n",
    "\n",
    "plt.errorbar(x, y, yerr=y_error, fmt=\"o\", label=\"Mediciones\")\n",
    "plt.plot(x, lineal(x, A_opt), label=\"Ajuste\")\n",
    "plt.legend()\n",
    "\n",
    "A_opt, A_err"
   ]
  },
  {
   "cell_type": "markdown",
   "metadata": {},
   "source": [
    "Si no los tenemos en cuenta,\n",
    "el valor que se obtiene es distinto:"
   ]
  },
  {
   "cell_type": "code",
   "execution_count": null,
   "metadata": {},
   "outputs": [],
   "source": [
    "p_opt, p_cov = curve_fit(lineal, x, y)\n",
    "\n",
    "A_opt = p_opt[0]\n",
    "A_err = p_cov[0, 0] ** 0.5\n",
    "\n",
    "plt.errorbar(x, y, yerr=y_error, fmt=\"o\", label=\"Mediciones\")\n",
    "plt.plot(x, lineal(x, A_opt), label=\"Ajuste\")\n",
    "plt.legend()\n",
    "\n",
    "A_opt, A_err"
   ]
  },
  {
   "cell_type": "markdown",
   "metadata": {},
   "source": [
    "Al especificar las incertezas,\n",
    "`curve_fit` \"priorizó\" pasar más cerca de los puntos con menor error,\n",
    "resultando en una pendiente $A$ distinta."
   ]
  },
  {
   "cell_type": "markdown",
   "metadata": {},
   "source": [
    "## Múltiples parámetros"
   ]
  },
  {
   "cell_type": "code",
   "execution_count": null,
   "metadata": {},
   "outputs": [],
   "source": [
    "def recta(t, A, B):\n",
    "    return A * t + B\n",
    "\n",
    "\n",
    "x = np.linspace(0, 100, 10)\n",
    "y = 3 * x + 20\n",
    "y = np.random.normal(y)\n",
    "\n",
    "p_opt, p_cov = curve_fit(recta, x, y)\n",
    "p_err = np.sqrt(np.diag(p_cov))  # la raíz de la diagonal\n",
    "\n",
    "p_opt, p_err"
   ]
  },
  {
   "cell_type": "markdown",
   "metadata": {},
   "source": [
    "Los parámetros están en el mismo orden\n",
    "que en la definición de la función (`recta`):\n",
    "```python\n",
    "A = p_opt[0]\n",
    "B = p_opt[1]\n",
    "```"
   ]
  },
  {
   "cell_type": "markdown",
   "metadata": {},
   "source": [
    ":::tip\n",
    "Para evaluar la función,\n",
    "pueden usar `recta(x, *p_opt)`.\n",
    "Es equivalente a `recta(x, p_opt[0], p_opt[1])`,\n",
    "o, en general,\n",
    "`recta(x, p_opt[0], p_opt[1], ..., p_opt[n])`.\n",
    ":::"
   ]
  }
 ],
 "metadata": {
  "colab": {
   "collapsed_sections": [
    "solution_0"
   ]
  },
  "kernelspec": {
   "display_name": "python",
   "language": "python",
   "name": "python"
  },
  "language_info": {
   "file_extension": ".py",
   "name": "python"
  }
 },
 "nbformat": 4,
 "nbformat_minor": 0
}
