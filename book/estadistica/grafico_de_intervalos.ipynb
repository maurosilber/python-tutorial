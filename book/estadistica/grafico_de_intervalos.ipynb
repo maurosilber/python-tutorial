{
 "cells": [
  {
   "cell_type": "markdown",
   "metadata": {},
   "source": [
    "# Comparación de intervalos"
   ]
  },
  {
   "cell_type": "code",
   "execution_count": null,
   "metadata": {},
   "outputs": [],
   "source": [
    "import numpy as np\n",
    "import matplotlib.pyplot as plt\n",
    "\n",
    "plt.rc(\"figure\", dpi=100, figsize=(6, 2))  # Aumenta la resolución de las figuras"
   ]
  },
  {
   "attachments": {},
   "cell_type": "markdown",
   "metadata": {},
   "source": [
    "## Gráfico de intervalos\n",
    "\n",
    "En lugar de presentar valores en una tabla,\n",
    "donde es díficil evaluar a simple vista si todos coinciden:\n",
    "\n",
    "| Método | Longitud [cm] |\n",
    "| :----: | :-----------: |\n",
    "|  A     | 1.54 ± 0.17   |\n",
    "|  B     | 1.62 ± 0.12   |\n",
    "|  C     | 1.30 ± 0.23   |\n",
    "|  D     | 1.49 ± 0.11   |\n",
    "|  E     | 1.84 ± 0.01   |\n",
    "\n",
    "podemos representarlos de forma gráfica:"
   ]
  },
  {
   "cell_type": "code",
   "execution_count": null,
   "metadata": {},
   "outputs": [],
   "source": [
    "mediciones = [\n",
    "    (1.54, 0.17),\n",
    "    (1.62, 0.12),\n",
    "    (1.30, 0.23),\n",
    "    (1.49, 0.11),\n",
    "    (1.84, 0.01),\n",
    "]\n",
    "\n",
    "plt.xlabel(\"Longitud [cm]\")\n",
    "plt.ylabel(\"Método\")\n",
    "plt.ylim(-1, 5)\n",
    "plt.yticks([0, 1, 2, 3, 4], [\"A\", \"B\", \"C\", \"D\", \"E\"])\n",
    "for n, (x, dx) in enumerate(mediciones):\n",
    "    plt.errorbar(x=x, y=n, xerr=dx, capsize=5)"
   ]
  },
  {
   "attachments": {},
   "cell_type": "markdown",
   "metadata": {},
   "source": [
    "Es más facil ver que las primeras 4 mediciones son consistentes entre sí,\n",
    "mientras que la medicion E no se solapa con las demás."
   ]
  },
  {
   "attachments": {},
   "cell_type": "markdown",
   "metadata": {},
   "source": [
    "### Paso a paso\n",
    "\n",
    "La función `plt.errorbar` grafica barras de errores,\n",
    "para lo cual hay que pasarle:\n",
    "- la posición $(x, y)$ situar el centro de la barra\n",
    "- el ancho (`xerr`) o el alto `yerr` de la barra\n",
    "\n",
    "En este caso,\n",
    "usamos barras horizontales,\n",
    "por lo que:\n",
    "- `x` es el centro de la medicion\n",
    "- `xerr` es el error de la medicion"
   ]
  },
  {
   "cell_type": "code",
   "execution_count": null,
   "metadata": {},
   "outputs": [],
   "source": [
    "nro_de_medicion = 1\n",
    "medicion = 5\n",
    "error = 1\n",
    "\n",
    "plt.errorbar(x=medicion, xerr=error, y=nro_de_medicion)"
   ]
  },
  {
   "attachments": {},
   "cell_type": "markdown",
   "metadata": {},
   "source": [
    "El valor para `y` es irrelevante.\n",
    "Pero,\n",
    "para graficar multiples mediciones,\n",
    "le asignamos un numero distinto a cada una,\n",
    "para que esten separadas:"
   ]
  },
  {
   "cell_type": "code",
   "execution_count": null,
   "metadata": {},
   "outputs": [],
   "source": [
    "plt.errorbar(x=5, y=1, xerr=1)\n",
    "plt.errorbar(x=6, y=2, xerr=2)"
   ]
  },
  {
   "attachments": {},
   "cell_type": "markdown",
   "metadata": {},
   "source": [
    "Automaticamente,\n",
    "le asigna un color distinto a cada una.\n",
    "Si no,\n",
    "pueden elegir el color manualmente con `color=...`.\n",
    "Para ver las distintas formas de elegir colores,\n",
    "pueden ir a la [documentación de matplotlib](https://matplotlib.org/3.5.1/tutorials/colors/colors.html)."
   ]
  },
  {
   "attachments": {},
   "cell_type": "markdown",
   "metadata": {},
   "source": [
    "En la versión completa,\n",
    "le agregamos un par de cosas extras,\n",
    "como:\n",
    "- ponerle nombre (y unidades) a los ejes (**¡IMPORTANTISIMO!**)\n",
    "  con `plt.xlabel` y `plt.ylabel`,\n",
    "- cambiar los limites en `y` con `plt.ylim`,\n",
    "para que no queden tan pegadas a los bordes del gráfico,\n",
    "- agregar las lineas al final del intervalo con `capsize=...`,\n",
    "- ponerle nombre en lugar de numero a cada medicion en el eje `y` con `plt.yticks`."
   ]
  },
  {
   "cell_type": "code",
   "execution_count": null,
   "metadata": {},
   "outputs": [],
   "source": [
    "plt.errorbar(x=5, y=1, xerr=1, capsize=5)\n",
    "plt.errorbar(x=6, y=2, xerr=2, capsize=5)\n",
    "plt.ylim(0, 3)\n",
    "plt.yticks([1, 2], [\"A\", \"B\"])\n",
    "plt.xlabel(\"Magnitud [unidad]\")\n",
    "plt.ylabel(\"Método\")"
   ]
  }
 ],
 "metadata": {
  "kernelspec": {
   "display_name": "python",
   "language": "python",
   "name": "python"
  },
  "language_info": {
   "file_extension": ".py",
   "name": "python"
  }
 },
 "nbformat": 4,
 "nbformat_minor": 0
}
