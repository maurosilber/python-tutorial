{
 "cells": [
  {
   "cell_type": "markdown",
   "metadata": {},
   "source": [
    "# Múltiples mediciones\n",
    "\n",
    "Al realizar múltiples mediciones,\n",
    "podemos mejorar la precisión de la magnitud que estamos midiendo.\n",
    "Hay varias formas de realizar múltiples mediciones,\n",
    "de las cuales consideraremos 3 casos."
   ]
  },
  {
   "cell_type": "code",
   "execution_count": null,
   "metadata": {
    "tags": [
     "remove-cell"
    ]
   },
   "outputs": [],
   "source": [
    "import matplotlib.pyplot as plt\n",
    "import numpy as np"
   ]
  },
  {
   "cell_type": "markdown",
   "metadata": {},
   "source": [
    "Imaginen que tenemos $N=10$ objetos idénticos,\n",
    "que vamos a representar con un rectángulo,\n",
    "y queremos medir su longitud."
   ]
  },
  {
   "cell_type": "code",
   "execution_count": null,
   "metadata": {
    "tags": [
     "remove-input"
    ]
   },
   "outputs": [],
   "source": [
    "WIDTH = 1\n",
    "\n",
    "\n",
    "def add_rectangles(*, width=WIDTH, n_rectangles=10, ymin=-0.5):\n",
    "    ymax = 1.5\n",
    "    fig, ax = plt.subplots(figsize=(12, (ymax - ymin) / 2), dpi=100)\n",
    "    for x in range(n_rectangles):\n",
    "        rect = plt.Rectangle(\n",
    "            (width * x, 0),\n",
    "            width,\n",
    "            1,\n",
    "            facecolor=\"none\",\n",
    "            edgecolor=\"black\",\n",
    "        )\n",
    "        ax.add_patch(rect)\n",
    "    ax.set(\n",
    "        xlim=(-0.5, width * n_rectangles + 0.5),\n",
    "        ylim=(ymin, 1.5),\n",
    "        xticks=(),\n",
    "        yticks=(),\n",
    "    )\n",
    "    ax.spines.clear()\n",
    "    return ax\n",
    "\n",
    "\n",
    "ax = add_rectangles()"
   ]
  },
  {
   "cell_type": "markdown",
   "metadata": {},
   "source": [
    "Vamos a asumir que son exactamente iguales,\n",
    "es decir,\n",
    "si tuviésemos infinita precisión para medir,\n",
    "mediríamos lo mismo para todos.\n",
    "\n",
    "Estos objetos no representan necesariamente rectángulos físicos,\n",
    "sino que pueden representar intervalos de tiempo."
   ]
  },
  {
   "cell_type": "markdown",
   "metadata": {},
   "source": [
    "## Caso 1: mediciones independientes\n",
    "\n",
    "Una primera opción es medirlos de forma independiente:"
   ]
  },
  {
   "cell_type": "code",
   "execution_count": null,
   "metadata": {
    "tags": [
     "remove-input"
    ]
   },
   "outputs": [],
   "source": [
    "ax = add_rectangles(ymin=-3)\n",
    "for i in range(10):\n",
    "    ax.errorbar(\n",
    "        x=WIDTH * (i + 0.5),\n",
    "        y=-(i % 2) - 1,\n",
    "        xerr=WIDTH / 2,\n",
    "        capsize=5,\n",
    "    )"
   ]
  },
  {
   "cell_type": "markdown",
   "metadata": {},
   "source": [
    "En ese caso,\n",
    "tenemos dos posibilidades,\n",
    "según si estamos limitados por la resolución instrumental o no."
   ]
  },
  {
   "cell_type": "markdown",
   "metadata": {},
   "source": [
    "### Con error por resolución instrumental\n",
    "\n",
    "Si el error está dado por la resolución $\\Delta L$ de nuestro instrumento,\n",
    "vamos a medir siempre lo mismo.\n",
    "Hacer más mediciones no aporta nada.\n",
    "En este caso,\n",
    "el error será:\n",
    "\n",
    "$$ \\Delta L $$"
   ]
  },
  {
   "cell_type": "markdown",
   "metadata": {},
   "source": [
    "### Con error estadístico\n",
    "\n",
    "::::{margin}\n",
    ":::{note}\n",
    "El error estadístico tiene que tener promedio $0$.\n",
    "Coloquialmente,\n",
    "tener las mismas chances de medir por exceso que por defecto.\n",
    ":::\n",
    "::::\n",
    "\n",
    "En cambio,\n",
    "si en cada medición tenemos un error estadístico $\\sigma_L$,\n",
    "podemos promediar las mediciones y disminuir el error.\n",
    "El error del promedio $\\langle L \\rangle$ disminuye como\n",
    "\n",
    "$$ \\sigma_{\\langle L \\rangle} = \\frac{\\sigma_L}{\\sqrt N} $$\n",
    "\n",
    "::::{margin}\n",
    ":::{note}\n",
    "Técnicamente,\n",
    "$\\sigma_L$ depende del error instrumental $\\Delta L$\n",
    "\n",
    "$$\\sigma_L^2 = \\sigma_{L_0}^2 + (\\Delta L)^2 / 12$$\n",
    "\n",
    "donde $\\sigma_{L_0}$ es la desviación estándar de las mediciones no limitadas por la resolución.\n",
    "Es decir,\n",
    "con todos los decimales.\n",
    "Sin embargo,\n",
    "casi siempre estimamos $\\sigma_L$ directamente a partir de mediciones\n",
    "ya \"redondeadas\" por el instrumento.\n",
    ":::\n",
    "::::\n",
    "\n",
    "El error $\\sigma_{\\langle L \\rangle}$ de este promedio $\\langle L \\rangle$\n",
    "no depende de la resolución instrumental $\\Delta L$,\n",
    "si $\\sigma_L \\gtrsim \\Delta L$.\n",
    "Pero no significa que podamos hacerlo tan chico como queramos,\n",
    "ya que sí depende de la calibración instrumental.\n",
    "Por ejemplo,\n",
    "un cronómetro típico tiene una resolución instrumental de $10 \\text{ ms} = 0.01 \\text{ s} = 10^{-2} \\text{ s}$,\n",
    "pero tiene un error de calibración del orden de $\\sim 5 \\text{ μs} = 5 \\times 10^{-6} \\text{ s}$.\n",
    "Midiendo intervalos de tiempo a mano,\n",
    "donde se tiene un error del orden de $\\sigma_T \\approx 50 \\text{ ms}$,\n",
    "hay que tener cuidado de no promediar más de $N = \\left(\\frac{50 \\text{ ms}}{5 \\text{ μs}}\\right)^2 = 10^8$ veces.\n",
    "\n",
    ":::{warning}\n",
    "Probablemente se rompan otras hipótesis de la teoría antes de llegar a ese nivel de precisión.\n",
    "Por ejemplo,\n",
    "en el caso del péndulo,\n",
    "la aproximación de pequeñas oscilaciones.\n",
    ":::"
   ]
  },
  {
   "cell_type": "markdown",
   "metadata": {},
   "source": [
    "## Caso 2: midiendo extremos\n",
    "\n",
    "Si alineamos los $N$ objetos,\n",
    "podemos calcular indirectamente el largo $L_1$ de un objeto\n",
    "a partir del largo $L_N$ de $N$ objetos consecutivos.\n",
    "\n",
    "$$ L_1 = \\frac{L_N}{N} $$"
   ]
  },
  {
   "cell_type": "code",
   "execution_count": null,
   "metadata": {
    "tags": [
     "remove-input"
    ]
   },
   "outputs": [],
   "source": [
    "ax = add_rectangles(ymin=-2)\n",
    "ax.errorbar(\n",
    "    x=5 * WIDTH,\n",
    "    y=-1,\n",
    "    xerr=10 * WIDTH / 2,\n",
    "    capsize=10,\n",
    ")"
   ]
  },
  {
   "cell_type": "markdown",
   "metadata": {},
   "source": [
    "Supongamos que el error de medir **directamente** $L_1$,\n",
    "es igual al de medir directamente $L_N$:\n",
    "\n",
    "$$ \\sigma_{L_1} = \\sigma_{L_N} = \\sigma_L $$\n",
    "\n",
    "Entonces,\n",
    "por propagación de errores,\n",
    "medir **indirectamente** $L_1$ es:\n",
    "\n",
    "$$ \\sigma_{L_1} = \\frac{\\sigma_{L}}{N} $$\n",
    "\n",
    "que disminuye más rápido que el promedio.\n",
    "\n",
    "Repitiendo la cuenta anterior,\n",
    "al medir a mano con un cronómetro,\n",
    "si $N = \\left(\\frac{50 \\text{ ms}}{5 \\text{ μs}}\\right)^1 = 10^4 = 10.000$,\n",
    "tendríamos que tener en cuenta el error de calibración."
   ]
  },
  {
   "cell_type": "markdown",
   "metadata": {},
   "source": [
    "### Ejemplo del caso 2"
   ]
  },
  {
   "cell_type": "markdown",
   "metadata": {},
   "source": [
    "Imaginemos que la sección mide $L_1^{real} = 10.12 \\text{ mm}$,\n",
    "pero medimos con una regla de resolución $1 \\text{ mm}$.\n",
    "Si medimos una única sección,\n",
    "nuestra medición va ser $L_1^{medido} = (10 \\pm 1) \\text{ mm}$.\n",
    "Pero,\n",
    "si medimos $N=10$ secciones consecutivas,\n",
    "cuyo largo es\n",
    "\n",
    "$$ L_{10}^{real}\n",
    "= 10 \\times 10.12 \\text{ mm}\n",
    "= 101.2 \\text{ mm}\n",
    "$$\n",
    "\n",
    "vamos a medir $L_{10}^{medido} = 101 \\pm 1 \\text{ mm}$.\n",
    "Noten que es diferente a multiplicar por $N=10$\n",
    "la medición de una sección:\n",
    "\n",
    "$$ 10 \\times L_1^{medido}\n",
    "= 10 \\times (10 \\pm 1) \\text{ mm}\n",
    "= (100 \\pm 10) \\text{ mm}\n",
    "$$\n",
    "Calculando indirectamente $L_1$,\n",
    "y propagando,\n",
    "llegamos a:\n",
    "\n",
    "$$ L_1^{indirecto} = 10.1 \\pm 0.1 \\text{ mm} $$\n",
    "\n",
    "que tiene un error 10 veces menor\n",
    "que la medición directa de $L_1$.\n",
    "¡Ganamos un decimal!"
   ]
  },
  {
   "cell_type": "markdown",
   "metadata": {},
   "source": [
    "## Caso 3: mediciones consecutivas\n",
    "\n",
    "En el caso 3,\n",
    "al igual que el caso 2,\n",
    "alineamos todos los objetos para medirlos.\n",
    "Pero,\n",
    "medimos todas las distancias intermedios $L(n)$:"
   ]
  },
  {
   "cell_type": "code",
   "execution_count": null,
   "metadata": {
    "tags": [
     "remove-input"
    ]
   },
   "outputs": [],
   "source": [
    "ax = add_rectangles(ymin=-2.5)\n",
    "for i in range(1, 11):\n",
    "    ax.errorbar(x=0, y=-1, xerr=[[0], [i * WIDTH]], capsize=10, color=\"C0\")"
   ]
  },
  {
   "cell_type": "markdown",
   "metadata": {},
   "source": [
    "¿Cómo calculamos el largo $L_1$ de un segmento a partir de estas mediciones?"
   ]
  },
  {
   "cell_type": "markdown",
   "metadata": {},
   "source": [
    "### Opción 1 (incorrecta)\n",
    "\n",
    "::::{margin}\n",
    ":::{note}\n",
    "Ojo, este $\\Delta L_n$ no es un error de medición.\n",
    ":::\n",
    "::::\n",
    "\n",
    "Podemos tomar las diferencias entre puntos consecutivos:\n",
    "\n",
    "$$ \\Delta L_n = L(n) - L(n-1) $$\n",
    "\n",
    "y promediarlas.\n",
    "\n",
    "¿Si hacemos un promedio,\n",
    "el error no debería disminuir como $1 / \\sqrt{N}$?\n",
    "En ese caso, ¿no es mejor el caso anterior,\n",
    "donde solo mediamos los extremos\n",
    "y el error disminuía como $1 / N$?\n",
    "\n",
    "Como los $\\Delta L_n$ no son independientes,\n",
    "no se cumplen las hipótesis\n",
    "para que el error del promedio sea $\\sigma_L / \\sqrt{N}$.\n",
    "\n",
    "Si escribimos explícitamente los $\\Delta L_n$:\n",
    "\n",
    "$$ \\begin{cases}\n",
    "\\Delta L_1 = L(1) - L(0) \\\\\n",
    "\\Delta L_2 = L(2) - L(1) \\\\\n",
    "\\ldots\n",
    "\\end{cases} $$\n",
    "\n",
    "vemos que $\\Delta L_1$ y $\\Delta L_1$ comparten la medición $L(1)$.\n",
    "Si hacemos un promedio de estos:\n",
    "\n",
    "$$ \\frac{\\Delta L_2 + \\Delta L_1}{2}\n",
    "= \\frac{[L(2) - L(1)] + [L(1) - L(0)]}{2}\n",
    "= \\frac{L(2) - L(0)}{2}\n",
    "$$\n",
    "\n",
    "quedan solo los extremos $L(2)$ y $L(0)$.\n",
    "\n",
    "Si lo extendemos a las $N$ mediciones,\n",
    "\n",
    "$$ \\frac{1}{N} \\sum_{n=1}^N \\Delta L_n = \\frac{L(n) - L(0)}{N} $$\n",
    "\n",
    "llegamos a lo mismo que calculábamos en el caso anterior."
   ]
  },
  {
   "cell_type": "markdown",
   "metadata": {},
   "source": [
    "### Opción 2\n",
    "\n",
    "Para combinar las mediciones $L(n)$,\n",
    "aprovechando la información de las mediciones intermedias,\n",
    "y obtener $L_1$,\n",
    "se puede realizar un ajuste lineal:\n",
    "\n",
    "$$ L(n) = L_1 n + L_o $$\n",
    "\n",
    "donde $n$ es la cantidad de secciones consecutivas."
   ]
  },
  {
   "cell_type": "code",
   "execution_count": null,
   "metadata": {
    "tags": [
     "remove-input"
    ]
   },
   "outputs": [],
   "source": [
    "x = np.arange(1, 10)\n",
    "plt.figure(figsize=(6, 3))\n",
    "plt.plot(x, WIDTH * x, \"o-\")\n",
    "plt.xlabel(\"Cantidad de segmentos $n$\")\n",
    "plt.ylabel(\"Largo $L_n$\")\n",
    "None"
   ]
  },
  {
   "cell_type": "markdown",
   "metadata": {},
   "source": [
    "En este caso,\n",
    "el error de $L_1$ disminuye aún más rápido que en el caso anterior.\n",
    "Según {footcite:t}`bevington2003data`,\n",
    "ecuaciones (6.23) y (6.13):\n",
    "\n",
    "$$ \\sigma_{L_1}^2 = \\frac{N \\sigma_L^2}{N \\sum_n n^2 + (\\sum_n n)^2} $$\n",
    "\n",
    "Dado que $n = \\{1, \\ldots, N\\}$,\n",
    "\n",
    "$$\n",
    "\\begin{cases}\n",
    "\\sum_{n=1}^N n = \\frac{N^2 + N}{2} \\\\ \\\\\n",
    "\\sum_{n=1}^N n^2 = \\frac{2N^3 + 3N + N}{6}\n",
    "\\end{cases}\n",
    "$$\n",
    "\n",
    "Reemplazando en la ecuación anterior:"
   ]
  },
  {
   "cell_type": "markdown",
   "metadata": {},
   "source": [
    "$$ \\sigma_{L_1}\n",
    "\\sim \\frac{\\sigma_L}{N^{3/2}}\n",
    "$$\n",
    "\n",
    "Repitiendo la cuenta para el cronómetro,\n",
    "si $N \\approx 500$,\n",
    "tendríamos que tener en cuenta el error de calibración.\n",
    "Ya no es (tan) inalcanzable."
   ]
  },
  {
   "cell_type": "markdown",
   "metadata": {},
   "source": [
    "### Aclaración importante\n",
    "\n",
    "Hay un detalle importante,\n",
    "que lo diferencia de simplemente repetir $N$ veces el caso 2,\n",
    "una vez para cada $L(n)$:"
   ]
  },
  {
   "cell_type": "code",
   "execution_count": null,
   "metadata": {
    "tags": [
     "remove-input"
    ]
   },
   "outputs": [],
   "source": [
    "ax = add_rectangles(ymin=-5.5)\n",
    "for i in range(1, 11):\n",
    "    ax.errorbar(x=0, y=-i / 2, xerr=[[0], [i * WIDTH]], capsize=5, color=\"C1\")"
   ]
  },
  {
   "cell_type": "markdown",
   "metadata": {},
   "source": [
    "En el caso 3,\n",
    "las mediciones comparten el mismo origen,\n",
    "mientras que en el esquema anterior,\n",
    "estamos volviendo a medir el origen.\n",
    "\n",
    "Es más claro con un ejemplo.\n",
    "Para mediciones con una regla,\n",
    "se puede:\n",
    "1. apoyar la regla una vez y tomar todas las mediciones intermedias\n",
    "2. apoyar la regla $N$ veces, y tomar cada vez un $L(n)$ distinto.\n",
    "\n",
    "En este último caso,\n",
    "cada vez que apoyamos la regla,\n",
    "estamos introduciendo un error en el origen."
   ]
  },
  {
   "cell_type": "markdown",
   "metadata": {},
   "source": [
    "## Bibliografía\n",
    "\n",
    "```{footbibliography}\n",
    "```"
   ]
  }
 ],
 "metadata": {
  "kernelspec": {
   "display_name": "python",
   "language": "python",
   "name": "python"
  },
  "language_info": {
   "file_extension": ".py",
   "name": "python"
  }
 },
 "nbformat": 4,
 "nbformat_minor": 2
}
