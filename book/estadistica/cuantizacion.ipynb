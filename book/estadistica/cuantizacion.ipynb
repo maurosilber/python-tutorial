{
 "cells": [
  {
   "cell_type": "markdown",
   "id": "c321445e",
   "metadata": {},
   "source": [
    "# Error de resolución o cuantización"
   ]
  },
  {
   "cell_type": "markdown",
   "id": "4e33a017",
   "metadata": {},
   "source": [
    "Si queremos medir un tiempo $t$,\n",
    "que es una variable continua,\n",
    "podemos usar un cronómetro.\n",
    "Sin embargo,\n",
    "este tiene una cantidad de decimales finita,\n",
    "por lo que no tenemos acceso directo a esta variable continua.\n",
    "Es decir,\n",
    "si $t = 12.3456789\\ldots \\text{ s}$,\n",
    "medimos $\\hat{t} = 12 \\text{ s}$,\n",
    "(o $12.3 \\text{ s}$, si tenemos un cronómetro con 1 décimo de segundo de resolución).\n",
    "¿Cómo nos afecta esto en la precisión con la que podemos determinar el tiempo $t$?"
   ]
  },
  {
   "cell_type": "code",
   "execution_count": null,
   "id": "a6bd8f0f",
   "metadata": {},
   "outputs": [],
   "source": [
    "import matplotlib.pyplot as plt\n",
    "import numpy as np\n",
    "import scipy.stats"
   ]
  },
  {
   "cell_type": "markdown",
   "id": "341c7dcc",
   "metadata": {},
   "source": [
    "## Simulando una medición\n",
    "\n",
    "Asumamos que $t \\sim N(t_0, \\sigma)$,\n",
    "es decir, tiene una distribución normal centrada en $t_0$ y de ancho $\\sigma$:"
   ]
  },
  {
   "cell_type": "code",
   "execution_count": null,
   "id": "998ca785",
   "metadata": {},
   "outputs": [],
   "source": [
    "t0 = 12.3456789\n",
    "sigma = 1\n",
    "t = scipy.stats.norm(t0, sigma)"
   ]
  },
  {
   "cell_type": "markdown",
   "id": "8f61729d",
   "metadata": {},
   "source": [
    "Con esto,\n",
    "podemos simular una medición de la variable continua $t$:"
   ]
  },
  {
   "cell_type": "code",
   "execution_count": null,
   "id": "53f76461",
   "metadata": {},
   "outputs": [],
   "source": [
    "ti = t.rvs()\n",
    "\n",
    "ti"
   ]
  },
  {
   "cell_type": "markdown",
   "id": "c655f9da",
   "metadata": {},
   "source": [
    "Y para simular la medición que vemos con el cronómetro,\n",
    "podemos redondear este número:"
   ]
  },
  {
   "cell_type": "code",
   "execution_count": null,
   "id": "f54b1539",
   "metadata": {},
   "outputs": [],
   "source": [
    "ti.round()"
   ]
  },
  {
   "cell_type": "markdown",
   "id": "b73a4079",
   "metadata": {},
   "source": [
    "donde nuestro error de resolución sería $1$."
   ]
  },
  {
   "cell_type": "markdown",
   "id": "950c1ebf",
   "metadata": {},
   "source": [
    "## Simulando la distribución\n",
    "\n",
    "Si repetimos este proceso multiples veces,\n",
    "podemos simular (y graficar) la distribución de la variable continua y la redondeada:"
   ]
  },
  {
   "cell_type": "code",
   "execution_count": null,
   "id": "089ebae4",
   "metadata": {},
   "outputs": [],
   "source": [
    "t_continua = t.rvs(size=100_000)\n",
    "t_redondeada = t_continua.round()\n",
    "\n",
    "fig, axes = plt.subplots(2, sharex=True)\n",
    "axes[0].hist(t_continua, bins=\"auto\")\n",
    "axes[1].stem(*np.unique_counts(t_redondeada))\n",
    "for ax in axes:\n",
    "    ax.axvline(t0, color=\"C1\")"
   ]
  },
  {
   "cell_type": "markdown",
   "id": "f2aa5396",
   "metadata": {},
   "source": [
    "### El promedio"
   ]
  },
  {
   "cell_type": "markdown",
   "id": "5e400230",
   "metadata": {},
   "source": [
    "Si calculamos el promedio de la variable continua,\n",
    "esperamos que se acerque al valor de $t_0$:"
   ]
  },
  {
   "cell_type": "code",
   "execution_count": null,
   "id": "9795edf3",
   "metadata": {},
   "outputs": [],
   "source": [
    "t_continua.mean()"
   ]
  },
  {
   "cell_type": "markdown",
   "id": "7326041a",
   "metadata": {},
   "source": [
    "donde el error (cuanto se aleja de $t_0$):"
   ]
  },
  {
   "cell_type": "code",
   "execution_count": null,
   "id": "4207322d",
   "metadata": {},
   "outputs": [],
   "source": [
    "t_continua.mean() - t0"
   ]
  },
  {
   "cell_type": "markdown",
   "id": "773cab84",
   "metadata": {},
   "source": [
    "depende de la cantidad de mediciones que promediamos como:"
   ]
  },
  {
   "cell_type": "code",
   "execution_count": null,
   "id": "8bff3ce7",
   "metadata": {},
   "outputs": [],
   "source": [
    "sigma / np.sqrt(t_continua.size)"
   ]
  },
  {
   "cell_type": "markdown",
   "id": "225a6f34",
   "metadata": {},
   "source": [
    "(el error del promedio $\\sigma / \\sqrt{N}$).\n",
    "\n",
    "Si promediamos la variable redondeada:"
   ]
  },
  {
   "cell_type": "code",
   "execution_count": null,
   "id": "df0bd098",
   "metadata": {},
   "outputs": [],
   "source": [
    "t_redondeada.mean()"
   ]
  },
  {
   "cell_type": "markdown",
   "id": "ff383cd5",
   "metadata": {},
   "source": [
    "vemos que también se acerca a ese valor.\n",
    "El error es:"
   ]
  },
  {
   "cell_type": "code",
   "execution_count": null,
   "id": "ce703705",
   "metadata": {},
   "outputs": [],
   "source": [
    "t_redondeada.mean() - t0"
   ]
  },
  {
   "cell_type": "markdown",
   "id": "39e46736",
   "metadata": {},
   "source": [
    "Si comparamos directamente los promedios entre sí:"
   ]
  },
  {
   "cell_type": "code",
   "execution_count": null,
   "id": "800cb5bf",
   "metadata": {},
   "outputs": [],
   "source": [
    "print(f\"{  t_continua.mean() = }\")\n",
    "print(f\"{t_redondeada.mean() = }\")"
   ]
  },
  {
   "cell_type": "markdown",
   "id": "675f7a52",
   "metadata": {},
   "source": [
    "la diferencia recién aparece en el tercer decimal\n",
    "y es:"
   ]
  },
  {
   "cell_type": "code",
   "execution_count": null,
   "id": "e4ebcea2",
   "metadata": {},
   "outputs": [],
   "source": [
    "t_redondeada.mean() - t_continua.mean()"
   ]
  },
  {
   "cell_type": "markdown",
   "id": "87794f70",
   "metadata": {},
   "source": [
    "Es decir,\n",
    "nos podemos acercar a la variable continua, sin redondear,\n",
    "con una precisión por debajo de la resolución de nuestro instrumento."
   ]
  },
  {
   "cell_type": "markdown",
   "id": "4d075aac",
   "metadata": {},
   "source": [
    "### La varianza"
   ]
  },
  {
   "cell_type": "markdown",
   "id": "67aa9062",
   "metadata": {},
   "source": [
    "Para la distribución continua,\n",
    "esperamos que la varianza sea $\\sigma^2 = 1$:"
   ]
  },
  {
   "cell_type": "code",
   "execution_count": null,
   "id": "a63ff647",
   "metadata": {},
   "outputs": [],
   "source": [
    "t_continua.var()"
   ]
  },
  {
   "cell_type": "markdown",
   "id": "02869c19",
   "metadata": {},
   "source": [
    "En cambio,\n",
    "para la distribución discreta,\n",
    "vemos que la varianza crece:"
   ]
  },
  {
   "cell_type": "code",
   "execution_count": null,
   "id": "f4063777",
   "metadata": {},
   "outputs": [],
   "source": [
    "t_redondeada.var()"
   ]
  },
  {
   "cell_type": "markdown",
   "id": "196f1ccf",
   "metadata": {},
   "source": [
    "Esto no es una fluctuación estadística,\n",
    "sino que, *bajo ciertas aproximaciones*, se puede calcular como\n",
    "la varianza de la variable continua\n",
    "más la varianza de una variable uniforme cuyo ancho está dado por la resolución:"
   ]
  },
  {
   "cell_type": "code",
   "execution_count": null,
   "id": "676deed9",
   "metadata": {},
   "outputs": [],
   "source": [
    "1 + scipy.stats.uniform(0, 1).var()"
   ]
  },
  {
   "cell_type": "markdown",
   "id": "abfc8792",
   "metadata": {},
   "source": [
    "La varianza de la uniforme $U[a, b]$ es $\\frac{(b-a)}{12}$.\n",
    "\n",
    "Si conocieramos la varianza de la variable continua,\n",
    "podriamos estimar *a priori* la varianza de la variable discretizada que medimos.\n",
    "\n",
    "$$ \\sigma^2_{discreta} = \\sigma^2_{continua} + \\frac{\\Delta}{12} $$\n",
    "\n",
    "donde $\\Delta$ es la resolución de las mediciones.\n",
    "\n",
    "Generalmente, en el laboratorio estimamos directamente $\\sigma^2_{discreta}$ a partir de las mediciones (ya discretizadas).\n",
    "Podríamos hacer al revés y calcular\n",
    "\n",
    "$$ \\sigma^2_{continua} = \\sigma^2_{discreta} - \\frac{\\Delta}{12} $$\n",
    "\n",
    "para saber lo que podría llegar a medir alguien con un instrumento con mayor resolución.\n",
    "\n",
    "*Nota:\n",
    "la primer formula se puede encontrar en trabajos de microscopía de superresolución,\n",
    "donde $\\sigma^2_{continua}$ es cuanto se dispersan los fotones (difracción, que lo determina el sistema óptico)\n",
    "y $\\Delta$ está dado por el ancho de los pixeles de la cámara (que discretizan la posición donde se detecta el fotón).*"
   ]
  },
  {
   "cell_type": "markdown",
   "id": "4292e91c",
   "metadata": {},
   "source": [
    "## Calculando la distribución\n",
    "\n",
    "En la sección anterior,\n",
    "comparamos la variable continua y discretizada\n",
    "para una cantidad de muestras fijas.\n",
    "Vimos que hay un aumento en la varianza debido al redondeo de la discretización\n",
    "aunque no parece limitar en cuanto se puede acercar el promedio al valor esperado $t_0$.\n",
    "\n",
    "Sin embargo, estos resultados dependen de la cantidad de mediciones $n$ que usamos.\n",
    "\n",
    "¿Y cómo cambia esto si variamos los distintos parámetros:\n",
    "el valor de $t_0$,\n",
    "el ancho $\\sigma$,\n",
    "la resolución $\\Delta$?\n",
    "\n",
    "Sin pérdida de generalidad,\n",
    "podemos dejar fijo $\\Delta = 1$ (que es facil de simular)\n",
    "y variar $\\sigma$.\n",
    "En otras palabras,\n",
    "pueden pensar que está todo en unidades de $\\Delta$:\n",
    "cada vez que lean $\\sigma$ es $\\displaystyle \\frac{\\sigma}{\\Delta}$.\n",
    "\n",
    "Para la cantidad de mediciones,\n",
    "podemos ver que pasa para $n \\to \\infty$\n",
    "calculando la esperanza,\n",
    "para lo que necesitamos la distribución teórica.\n",
    "\n",
    "Para la distribución continua,\n",
    "vamos a usar:"
   ]
  },
  {
   "cell_type": "code",
   "execution_count": null,
   "id": "82676135",
   "metadata": {},
   "outputs": [],
   "source": [
    "X = scipy.stats.norm(12.3456, 1)\n",
    "\n",
    "print(f\"{X.mean() = }\")\n",
    "print(f\"{X.var()  = }\")"
   ]
  },
  {
   "cell_type": "markdown",
   "id": "77e59af5",
   "metadata": {},
   "source": [
    "(son exactamente los mismos números que ponemos cuando creamos la variable aleatoria $X$).\n",
    "\n",
    "Para la discreta,\n",
    "vamos a calcular la esperanza $\\text{E}[\\cdot]$:\n",
    "\n",
    "- para el promedio,\n",
    "\n",
    "$$ \\text{E}[X] = \\sum_x x \\, P(x) $$\n",
    "\n",
    "- para la varianza,\n",
    "\n",
    "$$ \\text{E}\\Big[\\Big(X - \\text{E}[X]\\Big)^2 \\, \\Big] = \\sum_x \\Big(x - \\text{E}[X]\\Big)^2 \\, P(x) $$\n",
    "\n",
    "para lo cual necesitamos obtener la distribución discreta $P(x)$.\n",
    "\n",
    "Para un dado $x_i$,\n",
    "la probabilidad $P(x_i)$ de que obtengamos $x_i$\n",
    "es la probabilidad de que salga un valor continuo $x$ que se redondea a $x_i$:\n",
    "\n",
    "$$ P(x_i) = \\int_{x_i - \\Delta}^{x_i + \\Delta} f_X(x) \\, dx $$\n",
    "\n",
    "es decir,\n",
    "la probabilidad de salga un valor en el intervalo $[x_i - \\Delta, x_i + \\Delta]$,\n",
    "donde $f_X(x)$ es la distribución de probabilidad de la variable continua."
   ]
  },
  {
   "cell_type": "code",
   "execution_count": null,
   "id": "e358b4b6",
   "metadata": {},
   "outputs": [],
   "source": [
    "def distribucion_discreta(X: scipy.stats.rv_continuous, /):\n",
    "    # Habría que ir desde -infinito a +infinito\n",
    "    # pero alcanza con -10 sigma a 10 sigma\n",
    "    x_min = int(X.mean() - 10 * X.std())\n",
    "    x_max = int(X.mean() + 10 * X.std()) + 1\n",
    "\n",
    "    x = np.arange(x_min, x_max)\n",
    "    prob = X.cdf(x + 0.5) - X.cdf(x - 0.5)\n",
    "    return x, prob\n",
    "\n",
    "\n",
    "X = scipy.stats.norm(12.345, 1)\n",
    "x_disc, P_disc = distribucion_discreta(X)\n",
    "\n",
    "fig, axes = plt.subplots(2, sharex=True)\n",
    "axes[0].set(xlim=(6, 18), ylabel=\"Densidad de\\nprobabilidad\\n$f(x)$\")\n",
    "axes[1].set(xlabel=\"x\", ylabel=\"Probabilidad\\n$P(x)$\")\n",
    "for xi, Pi in zip(x_disc, P_disc):\n",
    "    x = np.linspace(xi - 0.5, xi + 0.5, 100)\n",
    "    axes[0].fill_between(x, X.pdf(x))\n",
    "    axes[1].scatter(xi, Pi)"
   ]
  },
  {
   "cell_type": "markdown",
   "id": "acaf07bc",
   "metadata": {},
   "source": [
    "Cada punto de un dado color en la distribución discreta (debajo),\n",
    "corresponde a integrar el area del mismo color en la distribución continua (arriba)."
   ]
  },
  {
   "cell_type": "markdown",
   "id": "05c4adf3",
   "metadata": {},
   "source": [
    "### El promedio\n",
    "\n",
    "Una vez que tenemos la distribución discreta,\n",
    "podemos calcular la esperanza:"
   ]
  },
  {
   "cell_type": "code",
   "execution_count": null,
   "id": "8a67f807",
   "metadata": {},
   "outputs": [],
   "source": [
    "def esperanza(x, prob):\n",
    "    return np.sum(x * prob)\n",
    "\n",
    "\n",
    "X = scipy.stats.norm(12.345, 1)\n",
    "x, P = distribucion_discreta(X)\n",
    "esperanza(x, P)"
   ]
  },
  {
   "cell_type": "markdown",
   "id": "490e0dbb",
   "metadata": {},
   "source": [
    "que queda muy cerca del valor $12.345$ que pusimos como valor \"real\" (es decir, de la distribución continua).\n",
    "\n",
    "Calculemos la diferencia entre estos valores,\n",
    "que se conoce como sesgo o *bias*:"
   ]
  },
  {
   "cell_type": "code",
   "execution_count": null,
   "id": "01de1f91",
   "metadata": {},
   "outputs": [],
   "source": [
    "def bias(X: scipy.stats.rv_continuous):\n",
    "    x, P = distribucion_discreta(X)\n",
    "    esperanza_discreta = esperanza(x, P)\n",
    "    esperanza_continua = X.mean()\n",
    "    return esperanza_discreta - esperanza_continua\n",
    "\n",
    "\n",
    "bias(scipy.stats.norm(12.345, 1))"
   ]
  },
  {
   "cell_type": "markdown",
   "id": "31bc347d",
   "metadata": {},
   "source": [
    "¡$10^{-10}$!\n",
    "\n",
    "¿Qué significa esto?\n",
    "\n",
    "Si promediamos cada vez más muestras,\n",
    "el promedio de las muestras discretas (o redondeadas) se acerca a un valor\n",
    "que difiere en $7 \\cdot 10^{-10}$\n",
    "del valor que obtendriamos con las muestras continuas (o sin redondear).\n",
    "\n",
    "¿Cómo depende este valor de ese valor real,\n",
    "la esperanza de la variable continua?"
   ]
  },
  {
   "cell_type": "code",
   "execution_count": null,
   "id": "8a4207f7",
   "metadata": {},
   "outputs": [],
   "source": [
    "t0 = np.linspace(11, 13, 100)\n",
    "sigma = 1\n",
    "error = [bias(scipy.stats.norm(ti, sigma)) for ti in t0]\n",
    "plt.plot(t0, error)\n",
    "plt.ylabel(\"Bias\\n(esperanza discreta - real)\")\n",
    "plt.xlabel(\"Esperanza o promedio real\")\n",
    "plt.grid()"
   ]
  },
  {
   "cell_type": "markdown",
   "id": "b0d5b781",
   "metadata": {},
   "source": [
    "El error no es independiente de ese valor,\n",
    "pero es del mismo orden.\n",
    "Y se hace exactamente 0\n",
    "cuando el valor real pasa justo por los valores discretos (11, 12, 13),\n",
    "o cuando está justo en el medio de dos valores discretos (11.5, 12.5).\n",
    "\n",
    "Podemos repetir este gráfico para otros $\\sigma$:"
   ]
  },
  {
   "cell_type": "code",
   "execution_count": null,
   "id": "57dee7f7",
   "metadata": {},
   "outputs": [],
   "source": [
    "t0 = np.linspace(11, 13, 100)\n",
    "for sigma in [0.1, 0.2, 0.3]:\n",
    "    error = [bias(scipy.stats.norm(ti, sigma)) for ti in t0]\n",
    "    plt.plot(t0, error, label=sigma)\n",
    "plt.legend(title=r\"$\\sigma$\")\n",
    "plt.ylabel(\"Bias\")\n",
    "plt.xlabel(\"Promedio real\")\n",
    "plt.grid()"
   ]
  },
  {
   "cell_type": "markdown",
   "id": "5572c2c7",
   "metadata": {},
   "source": [
    "Para estos $\\sigma$ más pequeños,\n",
    "vemos que el *bias* es mucho mayor,\n",
    "casi del orden de la resolución $\\Delta$.\n",
    "\n",
    "Entonces,\n",
    "grafiquemos como depende el error de este otro parámetro, $\\sigma$,\n",
    "para un promedio real fijo:"
   ]
  },
  {
   "cell_type": "code",
   "execution_count": null,
   "id": "429881ea",
   "metadata": {},
   "outputs": [],
   "source": [
    "t0 = 11.25\n",
    "sigma = np.linspace(0.1, 2, 100)\n",
    "error = [np.abs(bias(scipy.stats.norm(ti, si))) for si in sigma]\n",
    "plt.plot(sigma, error)\n",
    "plt.yscale(\"log\")\n",
    "plt.ylabel(\"Bias\")\n",
    "plt.xlabel(r\"$\\sigma$\")\n",
    "plt.grid()"
   ]
  },
  {
   "cell_type": "markdown",
   "id": "c1f202be",
   "metadata": {},
   "source": [
    "El error cae muy rápidamente (noten la escala logaritmica).\n",
    "Para $\\sigma > 1.25$,\n",
    "ya ni podemos calcularlo,\n",
    "y lo que vemos es producto de errores númericos.\n",
    "\n",
    "Y, dado que el error del promedio disminuye como $\\frac{\\sigma}{\\sqrt{N}}$,\n",
    "para $\\sigma=1$ tendríamos que hacer $N=10^{20}$ mediciones para que nos importara este efecto.\n",
    "¡Pero, ojo, esto lo estamos calculando para la distribución normal!\n",
    "Para otras distribuciones (en particular, una uniforme) es distinto\n",
    "{footcite:t}`kollarBiasMeanValue1994,widrowStatisticalTheoryQuantization1996`.\n",
    "\n",
    "Entonces,\n",
    "para tener una regla general en mente,\n",
    "veamos como se ve una distribución gaussiana discretizada al variar $\\sigma$:"
   ]
  },
  {
   "cell_type": "code",
   "execution_count": null,
   "id": "fd45b4fb",
   "metadata": {},
   "outputs": [],
   "source": [
    "def plot_dist(axes, sigma: float):\n",
    "    X = scipy.stats.norm(11.25, sigma)\n",
    "    x_disc, P_disc = distribucion_discreta(X)\n",
    "    x_cont = np.linspace(0, 20, 1000)\n",
    "\n",
    "    error = np.abs(bias(X))\n",
    "\n",
    "    axes[0].set_title(f\"$\\\\sigma$ = {sigma}\\n\\nbias = {error:.2g}\")\n",
    "    axes[0].fill_between(x_cont, X.pdf(x_cont))\n",
    "    axes[1].scatter(x_disc, P_disc)\n",
    "\n",
    "\n",
    "sigmas = [0.1, 0.4, 0.7, 1]\n",
    "fig, axes = plt.subplots(2, ncols=len(sigmas), sharex=True, figsize=(14, 3))\n",
    "axes[0, 0].set(xlim=(5, 17))\n",
    "for ax, s in zip(axes.T, sigmas):\n",
    "    plot_dist(ax, s)"
   ]
  },
  {
   "cell_type": "markdown",
   "id": "97e3d206",
   "metadata": {},
   "source": [
    "Entonces, para $\\sigma \\sim 0.7 \\Delta$ (tercer gráfico),\n",
    "vamos a observar 3 o 4 valores discretos contigos (10, 11, 12 y 13, en este caso).\n",
    "El error por discretizar es del orden de $10^{-5}$,\n",
    "que es lo suficientemente bajo para ignorarlo\n",
    "(es decir, no van a promediar $10^{10}$ mediciones).\n",
    "\n",
    "En cambio, si solo observan 2 o 3 valores discretos,\n",
    "hay que tener cuidado en que el promedio no va a tender al valor que queremos estimar realmente."
   ]
  },
  {
   "cell_type": "markdown",
   "id": "cc0fe314",
   "metadata": {},
   "source": [
    "### La varianza\n",
    "\n",
    "Todo lo que hicimos para el promedio\n",
    "se puede repetir para la varianza:"
   ]
  },
  {
   "cell_type": "code",
   "execution_count": null,
   "id": "6845d9b7",
   "metadata": {},
   "outputs": [],
   "source": [
    "def error_varianza(X: scipy.stats.rv_continuous):\n",
    "    x, P = distribucion_discreta(X)\n",
    "    esperanza_discreta = esperanza(x, P)\n",
    "    varianza_discreta = esperanza((x - esperanza_discreta) ** 2, P)\n",
    "    varianza_continua = X.var()\n",
    "    return varianza_discreta - varianza_continua\n",
    "\n",
    "\n",
    "sigma = np.linspace(0, 2, 100)[1:]\n",
    "plt.plot(sigma, [error_varianza(scipy.stats.norm(10, s)) for s in sigma])\n",
    "plt.axhline(scipy.stats.uniform(0, 1).var(), color=\"black\", linestyle=\"--\")\n",
    "plt.ylabel(\"Error en la varianza\\n(varianza discreta - continua)\")\n",
    "plt.xlabel(r\"$\\sigma$\")"
   ]
  },
  {
   "cell_type": "markdown",
   "id": "1f0658ce",
   "metadata": {},
   "source": [
    "En el gráfico,\n",
    "se ve la diferencia entre la varianza de la variable discreta y continua.\n",
    "A partir de cierto valor,\n",
    "la diferencia tiende al valor de una uniforme de anchor $\\Delta$,\n",
    "como dijimos anteriormente."
   ]
  },
  {
   "cell_type": "markdown",
   "id": "24500e5f",
   "metadata": {},
   "source": [
    "## ¿Siempre queremos calcular un promedio?\n",
    "\n",
    "Todo esto que hicimos arriba es para el promedio de muchas muestras.\n",
    "Pero no siempre queremos calcular un promedio.\n",
    "\n",
    "Por ejemplo,\n",
    "si estamos midiendo el díametro (linea azul) de un círculo\n",
    "y no pasamos exactamente por el centro (punto azul),\n",
    "ya sea que nos desviemos para un lado (linea naranja) o para el otro (linea verde),\n",
    "el valor que midamos va a ser menor."
   ]
  },
  {
   "cell_type": "code",
   "execution_count": null,
   "id": "b6392a39",
   "metadata": {},
   "outputs": [],
   "source": [
    "fig, ax = plt.subplots()\n",
    "ax.axis(False)\n",
    "ax.set(xlim=(-1, 1), ylim=(-1, 1), aspect=\"equal\")\n",
    "ax.scatter(0, 0)\n",
    "ax.add_patch(plt.Circle((0, 0), 1, facecolor=\"none\", edgecolor=\"C0\"))\n",
    "ax.axline((-1, 0), slope=0)\n",
    "ax.axline((-1, 0), slope=0.2, color=\"C1\")\n",
    "ax.axline((-1, 0), slope=-0.2, color=\"C2\")"
   ]
  },
  {
   "cell_type": "markdown",
   "id": "550d6eed",
   "metadata": {},
   "source": [
    "Por lo tanto,\n",
    "el promedio de esas mediciones siempre va a ser menor al valor real.\n",
    "Lo que querríamos es el máximo de las mediciones.\n",
    "\n",
    "En cambio,\n",
    "si queremos calcular el promedio cuando medimos el periodo del péndulo.\n",
    "Ahí,\n",
    "estamos midiendo la diferencia entre dos variables con la misma distribución,\n",
    "por lo que la distribucion resultante es simétrica alrededor del valor real.\n",
    "Otro día escribo más en detalle sobre esto."
   ]
  },
  {
   "cell_type": "markdown",
   "id": "29543f1f",
   "metadata": {},
   "source": [
    "## Bibliografía\n",
    "\n",
    "```{footbibliography}\n",
    "```\n",
    "\n",
    "Más articulos en: http://users.df.uba.ar/jaliaga/dither/"
   ]
  }
 ],
 "metadata": {
  "kernelspec": {
   "display_name": "python",
   "language": "python",
   "name": "python"
  },
  "language_info": {
   "file_extension": ".py",
   "name": "python"
  }
 },
 "nbformat": 4,
 "nbformat_minor": 5
}
