{
 "cells": [
  {
   "attachments": {},
   "cell_type": "markdown",
   "metadata": {},
   "source": [
    "# Variables aleatorias y la gaussiana"
   ]
  },
  {
   "cell_type": "code",
   "execution_count": 2,
   "metadata": {
    "tags": [
     "hide-cell"
    ]
   },
   "outputs": [],
   "source": [
    "import numpy as np\n",
    "import matplotlib.pyplot as plt\n",
    "import scipy.stats\n",
    "\n",
    "plt.rc(\"figure\", dpi=100, figsize=(6, 3))"
   ]
  },
  {
   "attachments": {},
   "cell_type": "markdown",
   "metadata": {},
   "source": [
    "## Variable aleatoria\n",
    "\n",
    "Una variable aleatoria es una magnitud que puede tomar distintos valores cada vez que la medimos.\n",
    "Por ejemplo, el resultado de tirar una moneda o un dado.\n",
    "\n",
    "Estas están descriptas por su distribución de probabilidad,\n",
    "que le asigna una probabilidad a cada resultado posible.\n",
    "Por ejemplo,\n",
    "la distribución de Bernoulli,\n",
    "que es la versión generalizada de la moneda,\n",
    "es:\n",
    "\n",
    "$$ B(x \\,|\\, p)\n",
    "=\n",
    "\\begin{cases}\n",
    "1-p &\\text{ si } x=0 \\\\\n",
    "p   &\\text{ si } x=1 \\\\\n",
    "\\end{cases}\n",
    "$$\n",
    "\n",
    "Para una moneda,\n",
    "los valores $x=0$ y $x=1$ los podemos pensar como cara y ceca,\n",
    "respectivamente.\n",
    "Si la moneda es \"buena\", entonces $p=1/2$:\n",
    "\n",
    "$$ B(x \\,|\\, p=1/2)\n",
    "=\n",
    "\\begin{cases}\n",
    "1/2 &\\text{ si } x=0 \\text{ (ceca)} \\\\\n",
    "1/2   &\\text{ si } x=1 \\text{ (cara)} \\\\\n",
    "\\end{cases}\n",
    "$$\n",
    "\n",
    "En Python,\n",
    "podemos simular una variable aleatoria con el modulo `numpy.random`:"
   ]
  },
  {
   "cell_type": "code",
   "execution_count": 158,
   "metadata": {},
   "outputs": [],
   "source": [
    "rng = np.random.default_rng(0)"
   ]
  },
  {
   "attachments": {},
   "cell_type": "markdown",
   "metadata": {},
   "source": [
    "Por ejemplo,\n",
    "para simular una moneda,\n",
    "podemos usar la siguiente función:"
   ]
  },
  {
   "cell_type": "code",
   "execution_count": 159,
   "metadata": {},
   "outputs": [
    {
     "data": {
      "text/plain": [
       "1"
      ]
     },
     "execution_count": 159,
     "metadata": {},
     "output_type": "execute_result"
    }
   ],
   "source": [
    "rng.integers(2)"
   ]
  },
  {
   "attachments": {},
   "cell_type": "markdown",
   "metadata": {},
   "source": [
    "que devuelve `0` o `1`,\n",
    "con la misma probabilidad,\n",
    "cada vez que la llamamos.\n",
    "\n",
    "¿Cómo podriamos comprobar experimentalmente que se tiene la misma probabilidad de obtener cara o ceca con una moenda?\n",
    "\n",
    "Podemos tirar la moneda muchas veces,\n",
    "y contar la proporción que salió cara:"
   ]
  },
  {
   "cell_type": "code",
   "execution_count": 160,
   "metadata": {},
   "outputs": [
    {
     "data": {
      "text/plain": [
       "array([1, 1, 0, 0, 0, 0, 0, 0, 1, 1])"
      ]
     },
     "execution_count": 160,
     "metadata": {},
     "output_type": "execute_result"
    }
   ],
   "source": [
    "resultados = rng.integers(2, size=10)\n",
    "\n",
    "resultados"
   ]
  },
  {
   "attachments": {},
   "cell_type": "markdown",
   "metadata": {},
   "source": [
    "Para contar un array de valores enteros,\n",
    "podemos usar la función `np.bincount`:"
   ]
  },
  {
   "cell_type": "code",
   "execution_count": 161,
   "metadata": {},
   "outputs": [
    {
     "data": {
      "text/plain": [
       "array([6, 4])"
      ]
     },
     "execution_count": 161,
     "metadata": {},
     "output_type": "execute_result"
    }
   ],
   "source": [
    "np.bincount(resultados)"
   ]
  },
  {
   "attachments": {},
   "cell_type": "markdown",
   "metadata": {},
   "source": [
    "- 6 veces salió 0,\n",
    "- 4 veces salió 1.\n",
    "\n",
    "Es decir, $4 / 10 = 0.4 = 40\\%$ de las veces salió cara.\n",
    "\n",
    "En este caso,\n",
    "también podiamos sumar el array (cuenta la cantidad de `1`),\n",
    "y dividir por el tamaño del array (cantidad total de tiradas).\n",
    "Es decir,\n",
    "calcular el promedio:"
   ]
  },
  {
   "cell_type": "code",
   "execution_count": 164,
   "metadata": {},
   "outputs": [
    {
     "data": {
      "text/plain": [
       "0.4"
      ]
     },
     "execution_count": 164,
     "metadata": {},
     "output_type": "execute_result"
    }
   ],
   "source": [
    "np.mean(resultados)"
   ]
  },
  {
   "attachments": {},
   "cell_type": "markdown",
   "metadata": {},
   "source": [
    "Si repetimos el experimento con más tiradas,\n",
    "vamos a obtener cada vez un valor más cercano al real:"
   ]
  },
  {
   "cell_type": "code",
   "execution_count": 165,
   "metadata": {},
   "outputs": [
    {
     "data": {
      "text/plain": [
       "0.56"
      ]
     },
     "execution_count": 165,
     "metadata": {},
     "output_type": "execute_result"
    }
   ],
   "source": [
    "rng.integers(2, size=100).mean()"
   ]
  },
  {
   "cell_type": "code",
   "execution_count": 166,
   "metadata": {},
   "outputs": [
    {
     "data": {
      "text/plain": [
       "0.50042"
      ]
     },
     "execution_count": 166,
     "metadata": {},
     "output_type": "execute_result"
    }
   ],
   "source": [
    "rng.integers(2, size=1_000_000).mean()"
   ]
  },
  {
   "attachments": {},
   "cell_type": "markdown",
   "metadata": {},
   "source": [
    "Es decir,\n",
    "esta estimación tiene un error\n",
    "que disminuye a medida que aumentamos la cantidad de tiradas."
   ]
  },
  {
   "attachments": {},
   "cell_type": "markdown",
   "metadata": {},
   "source": [
    "## La gaussiana\n",
    "\n",
    "En estadística,\n",
    "la distribución gaussiana o normal es una de las distribuciones más importantes.\n",
    "Su forma funcional es la siguiente:\n",
    "$$ N(x) \\propto e^{-x^2} $$\n",
    "A diferencia de la moneda o el dado,\n",
    "es una distribución continua.\n",
    "\n",
    "En la versión más general,\n",
    "se escribe con dos parámetros:\n",
    "\n",
    "- $\\mu$, que controla el centro de esta función, y\n",
    "- $\\sigma$, que controla el ancho,\n",
    "\n",
    "$$ N(x \\,|\\, \\mu, \\sigma) = \\frac{1}{\\sqrt{2\\pi} \\; \\sigma} \\; \\exp\\left\\{{-\\frac{1}{2} \\left( \\frac{x-\\mu}{\\sigma} \\right)^2} \\right\\} $$\n",
    "\n",
    "Se puede ver algunos ejemplos en el siguiente gráfico:"
   ]
  },
  {
   "cell_type": "code",
   "execution_count": 31,
   "metadata": {
    "tags": [
     "hide-input"
    ]
   },
   "outputs": [
    {
     "data": {
      "text/plain": [
       "<matplotlib.legend.Legend at 0x11ba01290>"
      ]
     },
     "execution_count": 31,
     "metadata": {},
     "output_type": "execute_result"
    },
    {
     "data": {
      "image/png": "[encoded data removed]",
      "text/plain": [
       "<Figure size 600x300 with 1 Axes>"
      ]
     },
     "metadata": {},
     "output_type": "display_data"
    }
   ],
   "source": [
    "x = np.linspace(-8, 8, 100)\n",
    "for mu, sigma in [(0, 1), (2, 1), (0, 2)]:\n",
    "    plt.plot(\n",
    "        x,\n",
    "        scipy.stats.norm.pdf(x, loc=mu, scale=sigma),\n",
    "        label=f\"$N({mu},{sigma})$\",\n",
    "    )\n",
    "plt.legend(title=\"$N(\\mu,\\sigma)$\")"
   ]
  },
  {
   "attachments": {},
   "cell_type": "markdown",
   "metadata": {},
   "source": [
    "Generalmente,\n",
    "se utiliza como aproximación para describir distribuciones de mediciones\n",
    "donde no se conoce la distribución real.\n",
    "\n",
    "### Estimando los parámetros\n",
    "\n",
    "Dado un conjunto de mediciones $\\{x_i\\}$ con distribución gaussiana,\n",
    "podemos estimar $\\mu$ como el promedio $\\bar{x}$:\n",
    "\n",
    "$$ \\bar{x} = \\frac{1}{N} \\sum_{i=0}^N x_i $$\n",
    "\n",
    "y $\\sigma$ como la desviación estándar $s$:\n",
    "\n",
    "$$ s = \\sqrt{\\frac{1}{N-1} \\sum_{i=0}^N (x_i - \\bar{x})^2} $$\n",
    "\n",
    "En Python,\n",
    "Numpy ya tiene funciones implementadas para esto:\n",
    "- `np.mean` para el promedio, y\n",
    "- `np.std` para la desviación estándar.\n",
    "\n",
    ":::{note}\n",
    "Hay otras posibilidades para estimar estos parámetros.\n",
    "Por ejemplo,\n",
    "se podría usar la mediana para $\\mu$.\n",
    ":::"
   ]
  },
  {
   "attachments": {},
   "cell_type": "markdown",
   "metadata": {},
   "source": [
    "### ¿De dónde sale la gaussiana?\n",
    "\n",
    "Según el [teorema central del límite](https://en.wikipedia.org/wiki/Central_limit_theorem),\n",
    "bajo ciertas hipótesis,\n",
    "la suma de $N$ variables aleatorias\n",
    "tiende a una distribución gaussiana\n",
    "cuando $N$ tiende a infinito.\n",
    "\n",
    ":::{margin}\n",
    "::::{tip}\n",
    "Un buen video para ver más sobre esto\n",
    "es uno de [3blue1brown](https://www.youtube.com/watch?v=zeJD6dqJ5lo).\n",
    "::::\n",
    ":::\n",
    "\n",
    "¿Qué significa esto? Veámoslo con un ejemplo."
   ]
  },
  {
   "attachments": {},
   "cell_type": "markdown",
   "metadata": {},
   "source": [
    "#### Suma de $N$ dados\n",
    "\n",
    "Si tiramos $N$ dados de 6 caras y sumamos los números que salieron,\n",
    "vamos a obtener un número entre $N$ y $6N$.\n",
    "\n",
    "Pero, ¿todos van a tener la misma probabilidad?\n",
    "\n",
    "Si hacemos dicho experimento muchas veces,\n",
    "podemos hacer un histograma para responder esta pregunta.\n",
    "\n",
    "Para simular un dado,\n",
    "vamos a usar la misma función que antes\n",
    "para generar números enteros equiprobables en el intervalo $[1, 7)$:"
   ]
  },
  {
   "cell_type": "code",
   "execution_count": 167,
   "metadata": {},
   "outputs": [
    {
     "data": {
      "text/plain": [
       "2"
      ]
     },
     "execution_count": 167,
     "metadata": {},
     "output_type": "execute_result"
    }
   ],
   "source": [
    "rng = np.random.default_rng()\n",
    "\n",
    "rng.integers(1, 7)"
   ]
  },
  {
   "attachments": {},
   "cell_type": "markdown",
   "metadata": {},
   "source": [
    "Le podemos pedir que nos devuelva el resultado de 10 tiradas\n",
    "en 2 filas de 5 tiradas:"
   ]
  },
  {
   "cell_type": "code",
   "execution_count": 173,
   "metadata": {},
   "outputs": [
    {
     "data": {
      "text/plain": [
       "array([[1, 4, 3, 4, 6],\n",
       "       [3, 4, 3, 6, 2]])"
      ]
     },
     "execution_count": 173,
     "metadata": {},
     "output_type": "execute_result"
    }
   ],
   "source": [
    "resultados = rng.integers(1, 7, size=[2, 5])\n",
    "\n",
    "resultados"
   ]
  },
  {
   "attachments": {},
   "cell_type": "markdown",
   "metadata": {},
   "source": [
    "y sumar por columnas:"
   ]
  },
  {
   "cell_type": "code",
   "execution_count": 174,
   "metadata": {
    "lines_to_next_cell": 2
   },
   "outputs": [
    {
     "data": {
      "text/plain": [
       "array([ 4,  8,  6, 10,  8])"
      ]
     },
     "execution_count": 174,
     "metadata": {},
     "output_type": "execute_result"
    }
   ],
   "source": [
    "resultados.sum(axis=0)"
   ]
  },
  {
   "attachments": {},
   "cell_type": "markdown",
   "metadata": {},
   "source": [
    "con lo que obtenermos el resultado de 5 experimentos de sumar 2 dados."
   ]
  },
  {
   "attachments": {},
   "cell_type": "markdown",
   "metadata": {
    "lines_to_next_cell": 2
   },
   "source": [
    "Entonces,\n",
    "hagamos una función `histograma_de_suma_de_datos` que:\n",
    "\n",
    "1. Haga este experimento 10 mil veces,\n",
    "para un dado $N$.\n",
    "2. Haga un histograma (normalizado) de estos resultados.\n",
    "3. Superponga una función gaussiana,\n",
    "con $\\mu$ y $\\sigma$ dados por el promedio y desviación estándar de los resultados."
   ]
  },
  {
   "cell_type": "code",
   "execution_count": 189,
   "metadata": {
    "tags": [
     "hide-input"
    ]
   },
   "outputs": [],
   "source": [
    "def histograma_de_suma_de_dados(*, n_dados, superponer_gaussiana=True):\n",
    "    n_repeticiones = 10_000\n",
    "    dados = np.random.randint(1, 7, size=(n_dados, n_repeticiones))\n",
    "    suma_de_dados = dados.sum(axis=0)\n",
    "    bins = np.arange(n_dados, 6 * n_dados + 2)\n",
    "\n",
    "    plt.hist(suma_de_dados, bins=bins, align=\"left\", edgecolor=\"black\", density=True)\n",
    "\n",
    "    if superponer_gaussiana:\n",
    "        mu = np.mean(suma_de_dados)\n",
    "        sigma = np.std(suma_de_dados)\n",
    "        x = mu + sigma * np.linspace(-5, 5, 100)\n",
    "        plt.plot(x, scipy.stats.norm.pdf(x, loc=mu, scale=sigma))\n",
    "\n",
    "    plt.xlim(bins[0] - 1, bins[-1])"
   ]
  },
  {
   "cell_type": "code",
   "execution_count": 190,
   "metadata": {
    "tags": [
     "remove-cell"
    ]
   },
   "outputs": [
    {
     "data": {
      "application/vnd.jupyter.widget-view+json": {
       "model_id": "28120536a8e24266b36789e6ec0a26dc",
       "version_major": 2,
       "version_minor": 0
      },
      "text/plain": [
       "interactive(children=(IntSlider(value=1, description='n_dados', max=30, min=1), Checkbox(value=False, descript…"
      ]
     },
     "metadata": {},
     "output_type": "display_data"
    },
    {
     "data": {
      "text/plain": [
       "<function __main__.histograma_de_suma_de_dados(*, n_dados, superponer_gaussiana=True)>"
      ]
     },
     "execution_count": 190,
     "metadata": {},
     "output_type": "execute_result"
    }
   ],
   "source": [
    "import ipywidgets\n",
    "\n",
    "ipywidgets.interact(\n",
    "    histograma_de_suma_de_dados,\n",
    "    n_dados=ipywidgets.IntSlider(1, 1, 30),\n",
    "    superponer_gaussiana=False,\n",
    ")"
   ]
  },
  {
   "attachments": {},
   "cell_type": "markdown",
   "metadata": {},
   "source": [
    "Si usamos esta función para $N=1$,\n",
    "obtenemos el gráfico que vimos antes,\n",
    "donde la gaussiana no es una buena aproximación:"
   ]
  },
  {
   "cell_type": "code",
   "execution_count": 191,
   "metadata": {},
   "outputs": [
    {
     "data": {
      "image/png": "[encoded data removed]",
      "text/plain": [
       "<Figure size 600x300 with 1 Axes>"
      ]
     },
     "metadata": {},
     "output_type": "display_data"
    }
   ],
   "source": [
    "histograma_de_suma_de_dados(n_dados=1)"
   ]
  },
  {
   "attachments": {},
   "cell_type": "markdown",
   "metadata": {},
   "source": [
    "Para $N=2$,\n",
    "la distribución ya no es uniforme,\n",
    "y la gaussiana empieza a ser una mejor aproximación a estos datos:"
   ]
  },
  {
   "cell_type": "code",
   "execution_count": 192,
   "metadata": {},
   "outputs": [
    {
     "data": {
      "image/png": "[encoded data removed]",
      "text/plain": [
       "<Figure size 600x300 with 1 Axes>"
      ]
     },
     "metadata": {},
     "output_type": "display_data"
    }
   ],
   "source": [
    "histograma_de_suma_de_dados(n_dados=2)"
   ]
  },
  {
   "attachments": {},
   "cell_type": "markdown",
   "metadata": {},
   "source": [
    "Para entender porque se obtuvo más veces $7$ que $2$,\n",
    "hay que pensar que $2$ solo se puede obtener cuando ambos dados caen en $1$.\n",
    "En cambio,\n",
    "$7$ se puede fomar como $1+6$, $2+5$, $3+4$, etc.\n",
    "\n",
    "Si seguimos aumentando la cantidad de dados que sumamos,\n",
    "podemos ver que rápidamente se empieza a parecer a una distribución normal:"
   ]
  },
  {
   "cell_type": "code",
   "execution_count": 193,
   "metadata": {},
   "outputs": [
    {
     "data": {
      "image/png": "[encoded data removed]",
      "text/plain": [
       "<Figure size 600x300 with 1 Axes>"
      ]
     },
     "metadata": {},
     "output_type": "display_data"
    }
   ],
   "source": [
    "histograma_de_suma_de_dados(n_dados=10)"
   ]
  },
  {
   "attachments": {},
   "cell_type": "markdown",
   "metadata": {},
   "source": [
    "### ¿Por qué usamos la gaussiana?\n",
    "\n",
    "En la práctica,\n",
    "nuestras mediciones no van a ser estrictamente gaussianas.\n",
    "\n",
    "Por ejemplo,\n",
    "la gaussiana se extiende desde $-\\infty$ a $\\infty$,\n",
    "En cambio,\n",
    "si sumamos 10 dados,\n",
    "sabemos que el mínimo valor que podemos obtener es 10,\n",
    "y el máximo es 60.\n",
    "\n",
    "Pero,\n",
    "la probabilidad de obtener esos extremos es muy baja:"
   ]
  },
  {
   "cell_type": "code",
   "execution_count": 195,
   "metadata": {},
   "outputs": [
    {
     "data": {
      "text/plain": [
       "1.6538171687920194e-08"
      ]
     },
     "execution_count": 195,
     "metadata": {},
     "output_type": "execute_result"
    }
   ],
   "source": [
    "(1 / 6) ** 10"
   ]
  },
  {
   "attachments": {},
   "cell_type": "markdown",
   "metadata": {},
   "source": [
    "Calculando la inversa:"
   ]
  },
  {
   "cell_type": "code",
   "execution_count": 196,
   "metadata": {},
   "outputs": [
    {
     "data": {
      "text/plain": [
       "60466176.00000003"
      ]
     },
     "execution_count": 196,
     "metadata": {},
     "output_type": "execute_result"
    }
   ],
   "source": [
    "1 / (1 / 6) ** 10"
   ]
  },
  {
   "attachments": {},
   "cell_type": "markdown",
   "metadata": {},
   "source": [
    "esperamos que 1 de cada 60 millones de veces suceda (en promedio)."
   ]
  },
  {
   "attachments": {},
   "cell_type": "markdown",
   "metadata": {},
   "source": [
    "Como no sabemos cuantas variables aleatorias intervienen en nuestro proceso de medición,\n",
    "usamos como aproximación una gaussiana.\n",
    "\n",
    "Aunque no sea el caso para nuestras mediciones,\n",
    "lo que si va a tener una distribución (muy) gaussiana\n",
    "es el promedio de muchas mediciones."
   ]
  }
 ],
 "metadata": {
  "kernelspec": {
   "display_name": "labo1",
   "language": "python",
   "name": "python3"
  },
  "language_info": {
   "codemirror_mode": {
    "name": "ipython",
    "version": 3
   },
   "file_extension": ".py",
   "mimetype": "text/x-python",
   "name": "python",
   "nbconvert_exporter": "python",
   "pygments_lexer": "ipython3",
   "version": "3.11.0"
  }
 },
 "nbformat": 4,
 "nbformat_minor": 2
}
