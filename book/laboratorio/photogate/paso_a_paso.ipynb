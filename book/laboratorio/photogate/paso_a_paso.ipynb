{
 "cells": [
  {
   "attachments": {},
   "cell_type": "markdown",
   "metadata": {},
   "source": [
    "# Photogate explicado paso a paso\n",
    "\n",
    "## Photogate y MotionDAQ\n",
    "\n",
    "El [*photogate*](https://www.vernier.com/product/photogate/),\n",
    "o fotosensor de barrera,\n",
    "es un sensor que permite medir tiempos de manera muy precisa.\n",
    "Para ello,\n",
    "tiene un emisor de luz infrarroja\n",
    "y un detector de luz.\n",
    "Cuando detecta la luz infrarroja,\n",
    "emite una señal de un dado voltaje.\n",
    "Cuando un objeto atravieza el sensor,\n",
    "bloquea la luz,\n",
    "y el sensor emite otro voltaje.\n",
    "Midiendo el tiempo cuando se produce el cambio de voltaje,\n",
    "podemos saber cuando un objeto pasó por el *photogate*.\n",
    "\n",
    "La señal del *photogate* la podemos digitalizar con el MotionDAQ.\n",
    "Este mide el voltaje que emite el sensor\n",
    "para un conjunto de tiempos discretos.\n",
    "El tiempo $\\Delta t$ entre mediciones se puede controlar,\n",
    "elijiendo la frecuencia de muestreo $f = 1/\\Delta t$.\n",
    "Luego,\n",
    "podemos exportar estas mediciones como un archivo de texto.\n",
    "\n",
    "En este notebook,\n",
    "vamos a ver como podemos cargar\n",
    "y analizar esas mediciones para obtener los tiempos en que se bloqueó o desbloquó el sensor."
   ]
  },
  {
   "attachments": {},
   "cell_type": "markdown",
   "metadata": {},
   "source": [
    "## Paquetes\n",
    "\n",
    "Importamos los paquetes y funciones que vamos a necesitar:\n",
    "\n",
    "- la función `Path` de `pathlib`,\n",
    "  que nos permite manejar las \"rutas\" o ubicaciones de los archivos.\n",
    "  En particular,\n",
    "  la vamos a usar para encontrar todos los archivos de medición que usemos.\n",
    "- `numpy`, para operar con arrays numéricos\n",
    "- `matplotlib`, para graficar\n",
    "- `pandas`, que solo vamos a usar para leer los archivos.\n",
    "  Es muy usado porque proporciona varias comodidades sobre `numpy`,\n",
    "  pero es confuso de usar al principio."
   ]
  },
  {
   "cell_type": "code",
   "execution_count": null,
   "metadata": {},
   "outputs": [],
   "source": [
    "from pathlib import Path\n",
    "\n",
    "import matplotlib.pyplot as plt\n",
    "import numpy as np\n",
    "import pandas as pd"
   ]
  },
  {
   "attachments": {},
   "cell_type": "markdown",
   "metadata": {},
   "source": [
    "## Buscando los archivos"
   ]
  },
  {
   "attachments": {},
   "cell_type": "markdown",
   "metadata": {},
   "source": [
    "Buscamos todos los archivos que terminan con `.txt` en la carpeta actual.\n",
    "\n",
    ":::{note}\n",
    "Pueden decargar unos archivos de muestra de acá:\n",
    "- [1cm.txt](https://github.com/maurosilber/python-tutorial/raw/main/book/laboratorio/photogate/1cm.txt)\n",
    "- [2cm.txt](https://github.com/maurosilber/python-tutorial/raw/main/book/laboratorio/photogate/2cm.txt)\n",
    ":::"
   ]
  },
  {
   "cell_type": "code",
   "execution_count": null,
   "metadata": {},
   "outputs": [],
   "source": [
    "carpeta = Path()  # carpeta actual\n",
    "archivos = list(carpeta.glob(\"*.txt\"))  # lista de archivos que terminan con .txt\n",
    "\n",
    "archivos"
   ]
  },
  {
   "attachments": {},
   "cell_type": "markdown",
   "metadata": {},
   "source": [
    "## Cargando datos de un archivo\n",
    "\n",
    "Si abrimos un archivo en un editor de texto (`notepad`),\n",
    "veriamos lo siguiente:"
   ]
  },
  {
   "cell_type": "code",
   "execution_count": null,
   "metadata": {},
   "outputs": [],
   "source": [
    "!head \"1cm.txt\""
   ]
  },
  {
   "attachments": {},
   "cell_type": "markdown",
   "metadata": {},
   "source": [
    "Es un archivo de texto,\n",
    "donde las primeras dos filas tienen *metadata*:\n",
    "\n",
    "- la hora a la que se tomó la medición, y\n",
    "- número de corrida.\n",
    "\n",
    "Las siguientes filas tienen los datos\n",
    "agrupados en dos columnas,\n",
    "que estan separadas por \"un espacio\".\n",
    "En programación,\n",
    "hay al menos dos tipos de espacios:\n",
    "\n",
    "- `\" \"`, el espacio común que inserta la barra espaciadora, y\n",
    "- `\"\\t\"`, el espacio que inserta la tecla Tab.\n",
    "\n",
    "En este caso,\n",
    "es el segundo.\n",
    "\n",
    "También,\n",
    "los números usan una coma como separador decimal.\n",
    "\n",
    "Todo esto hay que decirselo a Python,\n",
    "para que sepa como interpretar el archivo."
   ]
  },
  {
   "cell_type": "code",
   "execution_count": null,
   "metadata": {},
   "outputs": [],
   "source": [
    "df = pd.read_csv(\n",
    "    archivos[0],  # el primer archivo,\n",
    "    skiprows=3,  # que ignore las primeras 3 filas\n",
    "    delimiter=\"\\t\",  # separador Tab\n",
    "    decimal=\",\",  # coma decimal\n",
    ")\n",
    "\n",
    "df"
   ]
  },
  {
   "attachments": {},
   "cell_type": "markdown",
   "metadata": {},
   "source": [
    "La variable `df` tiene un `DataFrame` de `pandas`.\n",
    "Podemos extraer el `array` de `numpy` interno con `df.values`:"
   ]
  },
  {
   "cell_type": "code",
   "execution_count": null,
   "metadata": {},
   "outputs": [],
   "source": [
    "data = df.values\n",
    "\n",
    "data"
   ]
  },
  {
   "attachments": {},
   "cell_type": "markdown",
   "metadata": {},
   "source": [
    "Este `array` tiene 996 filas y 2 columnas:"
   ]
  },
  {
   "cell_type": "code",
   "execution_count": null,
   "metadata": {},
   "outputs": [],
   "source": [
    "data.shape"
   ]
  },
  {
   "attachments": {},
   "cell_type": "markdown",
   "metadata": {},
   "source": [
    "Para más (o menos) comodidad,\n",
    "podemos separar cada una en una variable:"
   ]
  },
  {
   "cell_type": "code",
   "execution_count": null,
   "metadata": {},
   "outputs": [],
   "source": [
    "t = data[:, 0]  # tiempo [s]\n",
    "v = data[:, 1]  # voltaje [V]"
   ]
  },
  {
   "attachments": {},
   "cell_type": "markdown",
   "metadata": {},
   "source": [
    "## Graficar los datos\n",
    "\n",
    "Es importante visualizar los datos,\n",
    "para asegurarnos de que no haya habido problemas de medición.\n",
    "Grafiquemos estas dos variables:"
   ]
  },
  {
   "cell_type": "code",
   "execution_count": null,
   "metadata": {},
   "outputs": [],
   "source": [
    "plt.figure(figsize=(6, 2))\n",
    "plt.xlabel(\"Tiempo [s]\")\n",
    "plt.ylabel(\"Voltaje [V]\")\n",
    "plt.plot(t, v)"
   ]
  },
  {
   "attachments": {},
   "cell_type": "markdown",
   "metadata": {},
   "source": [
    "Hagamos zoom sobre el primer salto,\n",
    "y graficamos los valores discretos de la señal:"
   ]
  },
  {
   "cell_type": "code",
   "execution_count": null,
   "metadata": {},
   "outputs": [],
   "source": [
    "plt.figure(figsize=(6, 2))\n",
    "plt.xlabel(\"Tiempo [s]\")\n",
    "plt.ylabel(\"Voltaje [V]\")\n",
    "plt.plot(t, v, marker=\"o\", linestyle=\"--\")\n",
    "plt.xlim(0.12, 0.18)\n",
    "plt.grid()"
   ]
  },
  {
   "attachments": {},
   "cell_type": "markdown",
   "metadata": {},
   "source": [
    "### Preguntas\n",
    "\n",
    "- ¿En qué tiempo se bloqueó el sensor?\n",
    "- ¿Qué error podemos asignarle a ese tiempo?\n",
    "- ¿Cómo podemos encontar \"automaticamente\" ese tiempo?\n",
    "  ¿Qué distingue a esos tiempos de los demás?"
   ]
  },
  {
   "attachments": {},
   "cell_type": "markdown",
   "metadata": {},
   "source": [
    "## Calcular diferencias de voltaje\n",
    "\n",
    "Para encontrar el cambio de voltaje,\n",
    "podemos calcular la diferencia entre un punto $i$ y el siguiente $i+1$.\n",
    "`numpy` incluye una función para esto: `np.diff`."
   ]
  },
  {
   "cell_type": "code",
   "execution_count": null,
   "metadata": {},
   "outputs": [],
   "source": [
    "dif_de_v = np.diff(v)"
   ]
  },
  {
   "attachments": {},
   "cell_type": "markdown",
   "metadata": {},
   "source": [
    "Este vector tiene un valor menos el original,\n",
    "ya que no puede calcular la diferencia del último con el siguiente\n",
    "(¡ya no hay siguiente!)."
   ]
  },
  {
   "cell_type": "code",
   "execution_count": null,
   "metadata": {},
   "outputs": [],
   "source": [
    "np.size(v)"
   ]
  },
  {
   "cell_type": "code",
   "execution_count": null,
   "metadata": {},
   "outputs": [],
   "source": [
    "np.size(dif_de_v)"
   ]
  },
  {
   "attachments": {},
   "cell_type": "markdown",
   "metadata": {},
   "source": [
    "Para graficarlo,\n",
    "vamos a ignorar el tiempo,\n",
    "y dejar que grafique contra el número de indice del array:"
   ]
  },
  {
   "cell_type": "code",
   "execution_count": null,
   "metadata": {},
   "outputs": [],
   "source": [
    "plt.figure(figsize=(6, 2))\n",
    "plt.xlabel(\"Indice del array\")\n",
    "plt.ylabel(\"Dif. de voltaje [V]\")\n",
    "plt.plot(dif_de_v, marker=\".\", linestyle=\"--\")"
   ]
  },
  {
   "attachments": {},
   "cell_type": "markdown",
   "metadata": {},
   "source": [
    "Si hacemos zoom al primer salto,\n",
    "y superponemos la señal original,\n",
    "podemos ver que da (practicamente) 0 en todos lados,\n",
    "menos en los cambios de voltaje:"
   ]
  },
  {
   "cell_type": "code",
   "execution_count": null,
   "metadata": {},
   "outputs": [],
   "source": [
    "plt.figure(figsize=(6, 2))\n",
    "plt.xlabel(\"Indice del array\")\n",
    "plt.ylabel(\"Voltaje [V]\")\n",
    "plt.plot(v, label=\"Voltaje\", marker=\".\", linestyle=\"--\")\n",
    "plt.plot(dif_de_v, label=\"Dif. de voltaje\", marker=\".\", linestyle=\"--\")\n",
    "plt.legend()\n",
    "plt.xlim(0, 40)"
   ]
  },
  {
   "attachments": {},
   "cell_type": "markdown",
   "metadata": {},
   "source": [
    "Pero ojo,\n",
    "no es exactamente 0,\n",
    "ya que el voltaje fluctua levemente:"
   ]
  },
  {
   "cell_type": "code",
   "execution_count": null,
   "metadata": {},
   "outputs": [],
   "source": [
    "v[:5]"
   ]
  },
  {
   "cell_type": "code",
   "execution_count": null,
   "metadata": {},
   "outputs": [],
   "source": [
    "dif_de_v[:5]"
   ]
  },
  {
   "attachments": {},
   "cell_type": "markdown",
   "metadata": {},
   "source": [
    "## Encontrar valores que cumplen cierta condicion\n",
    "\n",
    "Para encontrar los valores dentro de un `array` que cumplen cierta condicion,\n",
    "se pueden hacer lo siguiente:"
   ]
  },
  {
   "cell_type": "code",
   "execution_count": null,
   "metadata": {},
   "outputs": [],
   "source": [
    "y = np.array([0, 0, 5, 5, 0, 5])  # array de ejemplo\n",
    "\n",
    "y > 3"
   ]
  },
  {
   "cell_type": "markdown",
   "metadata": {},
   "source": [
    "que devuelve un vector de verdaderos (`True`) y falsos (`False`) para cada elemento.\n",
    "\n",
    "Si quieren obtener las posiciones o indices donde se cumplió la condición,\n",
    "es decir, donde están los `True`,\n",
    "pueden hacer así:"
   ]
  },
  {
   "cell_type": "code",
   "execution_count": null,
   "metadata": {},
   "outputs": [],
   "source": [
    "pos = np.nonzero(y > 3)\n",
    "\n",
    "pos"
   ]
  },
  {
   "cell_type": "markdown",
   "metadata": {},
   "source": [
    "Si quisieran extraer los valores de `y` que están en esas posiciones:"
   ]
  },
  {
   "cell_type": "code",
   "execution_count": null,
   "metadata": {},
   "outputs": [],
   "source": [
    "y[pos]"
   ]
  },
  {
   "attachments": {},
   "cell_type": "markdown",
   "metadata": {},
   "source": [
    "Entonces,\n",
    "en el caso de la señal del fotosesnsor,\n",
    "podemos encontrar los \"saltos\",\n",
    "tanto positivos y negativos,\n",
    "como:"
   ]
  },
  {
   "cell_type": "code",
   "execution_count": null,
   "metadata": {},
   "outputs": [],
   "source": [
    "pos = np.nonzero(np.abs(dif_de_v) > 2.5)\n",
    "\n",
    "pos"
   ]
  },
  {
   "attachments": {},
   "cell_type": "markdown",
   "metadata": {},
   "source": [
    "Peor no nos interesa obtener el valor del voltaje en esas posiciones,\n",
    "sino los tiempos en esas posiciones:"
   ]
  },
  {
   "cell_type": "code",
   "execution_count": null,
   "metadata": {},
   "outputs": [],
   "source": [
    "tiempo_saltos = t[pos]\n",
    "\n",
    "tiempo_saltos"
   ]
  },
  {
   "attachments": {},
   "cell_type": "markdown",
   "metadata": {},
   "source": [
    "## Encontrar periodos"
   ]
  },
  {
   "attachments": {},
   "cell_type": "markdown",
   "metadata": {},
   "source": [
    "Finalmente,\n",
    "si nos interesa encontrar periodos,\n",
    "podemos calcular las diferencias entre los tiempos correspondientes.\n",
    "Esto dependerá del experimento.\n",
    "\n",
    "Por ejemplo,\n",
    "si necesitamos obtener 1 de cada 4 tiempos,\n",
    "podemos tomar una \"rebanada\" (*slice*) del array con la siguiente expresion:"
   ]
  },
  {
   "cell_type": "code",
   "execution_count": null,
   "metadata": {},
   "outputs": [],
   "source": [
    "tiempo_saltos[::4]"
   ]
  },
  {
   "attachments": {},
   "cell_type": "markdown",
   "metadata": {},
   "source": [
    "En general,\n",
    "la notación es `array[desde:hasta:paso]`.\n",
    "Si omitimos uno,\n",
    "por defecto son:\n",
    "\n",
    "- `desde`: 0\n",
    "- `hasta`: hasta el final\n",
    "- `paso`: 1\n",
    "\n",
    "Por ejemplo:\n",
    "\n",
    "- `array[2:8:3]`\n",
    "- `array[:5]`: hasta el 5to elemento.\n",
    "- `array[10::3]`: desde el 10mo elemento cada 3.\n",
    "- etc."
   ]
  },
  {
   "attachments": {},
   "cell_type": "markdown",
   "metadata": {},
   "source": [
    "Luego,\n",
    "podriamos calcular la diferencia entre valores consecutivos con:"
   ]
  },
  {
   "cell_type": "code",
   "execution_count": null,
   "metadata": {},
   "outputs": [],
   "source": [
    "np.diff(tiempo_saltos[::4])"
   ]
  },
  {
   "attachments": {},
   "cell_type": "markdown",
   "metadata": {},
   "source": [
    "## Más periodos"
   ]
  },
  {
   "attachments": {},
   "cell_type": "markdown",
   "metadata": {},
   "source": [
    "Para aprovechar todos los datos,\n",
    "también pueden calcular los periodos cada 4,\n",
    "pero empezando de la segunda medicion (indice 1):"
   ]
  },
  {
   "cell_type": "code",
   "execution_count": null,
   "metadata": {},
   "outputs": [],
   "source": [
    "np.diff(tiempo_saltos[1::4])"
   ]
  },
  {
   "attachments": {},
   "cell_type": "markdown",
   "metadata": {},
   "source": [
    "Y desde la tercera y cuarta medicion.\n",
    "\n",
    "Pueden hacer todo esto en un paso con la siguiente expresion:"
   ]
  },
  {
   "cell_type": "code",
   "execution_count": null,
   "metadata": {},
   "outputs": [],
   "source": [
    "tiempo_saltos[4:] - tiempo_saltos[:-4]"
   ]
  },
  {
   "attachments": {},
   "cell_type": "markdown",
   "metadata": {},
   "source": [
    "Para ver que esta haciendo,\n",
    "generemos un array más simple:"
   ]
  },
  {
   "cell_type": "code",
   "execution_count": null,
   "metadata": {},
   "outputs": [],
   "source": [
    "x = np.arange(6)\n",
    "x"
   ]
  },
  {
   "attachments": {},
   "cell_type": "markdown",
   "metadata": {},
   "source": [
    "Si tomamos desde el segundo hasta el final,\n",
    "obtenemos:"
   ]
  },
  {
   "cell_type": "code",
   "execution_count": null,
   "metadata": {},
   "outputs": [],
   "source": [
    "x[2:]"
   ]
  },
  {
   "attachments": {},
   "cell_type": "markdown",
   "metadata": {},
   "source": [
    "Y si tomamos desde el principio hasta 2 menos del final,\n",
    "tenemos:"
   ]
  },
  {
   "cell_type": "code",
   "execution_count": null,
   "metadata": {},
   "outputs": [],
   "source": [
    "x[:-2]"
   ]
  },
  {
   "attachments": {},
   "cell_type": "markdown",
   "metadata": {},
   "source": [
    "Luego,\n",
    "haciendo la diferencia elemento a elemento,\n",
    "es hacer la diferencia cada dos elementos:"
   ]
  },
  {
   "cell_type": "code",
   "execution_count": null,
   "metadata": {},
   "outputs": [],
   "source": [
    "x[2:] - x[:-2]"
   ]
  }
 ],
 "metadata": {
  "kernelspec": {
   "display_name": "python",
   "language": "python",
   "name": "python"
  },
  "language_info": {
   "file_extension": ".py",
   "name": "python"
  }
 },
 "nbformat": 4,
 "nbformat_minor": 0
}
